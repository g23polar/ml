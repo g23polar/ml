{
  "nbformat": 4,
  "nbformat_minor": 0,
  "metadata": {
    "kernelspec": {
      "display_name": "Python 2",
      "language": "python",
      "name": "python2"
    },
    "language_info": {
      "codemirror_mode": {
        "name": "ipython",
        "version": 2
      },
      "file_extension": ".py",
      "mimetype": "text/x-python",
      "name": "python",
      "nbconvert_exporter": "python",
      "pygments_lexer": "ipython2",
      "version": "2.7.13"
    },
    "colab": {
      "name": "KNN_assignment.ipynb",
      "provenance": [],
      "collapsed_sections": [],
      "include_colab_link": true
    }
  },
  "cells": [
    {
      "cell_type": "markdown",
      "metadata": {
        "id": "view-in-github",
        "colab_type": "text"
      },
      "source": [
        "<a href=\"https://colab.research.google.com/github/g23polar/ml/blob/main/KNN_assignment.ipynb\" target=\"_parent\"><img src=\"https://colab.research.google.com/assets/colab-badge.svg\" alt=\"Open In Colab\"/></a>"
      ]
    },
    {
      "cell_type": "markdown",
      "metadata": {
        "id": "vTm66-eTD-5v"
      },
      "source": [
        "# Programming assignment 1: KNN classifier\n",
        "\n",
        "In this programming exercise, we will build a KNN classifier and apply it to a handwritten digit dataset (MNIST). Please download the datasets from Canvas and put them in the same folder of this iPython notebook.\n",
        "\n",
        "Instructions for submission: please submit the following:\n",
        "* Completed iPython notebook. We will inspect the code and run your notebook.\n",
        "* Solutions to the corresponding problems\n",
        "\n",
        "\n"
      ]
    },
    {
      "cell_type": "markdown",
      "metadata": {
        "id": "acqqdHXJD-5z"
      },
      "source": [
        "## 1. The MNIST dataset\n",
        "\n",
        "`MNIST` is a classic database of handwritten digits that is commonly used for training various image processing systems. The MNIST database contains 60,000 training images and 10,000 testing images. In this notebook we will work with a subset of this data: a training set of 2,000 images and a test set of 500 images. Each image is given by 28 X 28 grayscale pixels.\n",
        "\n",
        "First, let's first load the dataset check the basic statistics.\n"
      ]
    },
    {
      "cell_type": "code",
      "metadata": {
        "collapsed": true,
        "id": "gBxrxQDFD-50"
      },
      "source": [
        "%matplotlib inline\n",
        "import numpy as np\n",
        "import math\n",
        "import matplotlib.pyplot as plt \n",
        "import time\n",
        "import random\n",
        "from progressbar import ProgressBar"
      ],
      "execution_count": 266,
      "outputs": []
    },
    {
      "cell_type": "code",
      "metadata": {
        "id": "yUBbgDxwbfdO",
        "colab": {
          "base_uri": "https://localhost:8080/"
        },
        "outputId": "bd4b3895-e67c-45a6-e351-92f0cfe585e0"
      },
      "source": [
        "from google.colab import drive\n",
        "drive.mount('/content/gdrive/', force_remount=True)"
      ],
      "execution_count": 267,
      "outputs": [
        {
          "output_type": "stream",
          "name": "stdout",
          "text": [
            "Mounted at /content/gdrive/\n"
          ]
        }
      ]
    },
    {
      "cell_type": "code",
      "metadata": {
        "id": "FbZNOA8xbv5Z",
        "colab": {
          "base_uri": "https://localhost:8080/"
        },
        "outputId": "7c13a550-9f61-4918-e1b6-cd07494824c8"
      },
      "source": [
        "#Append the directory to your python path using sys\n",
        "\n",
        "import sys\n",
        "prefix = '/content/gdrive/My Drive/hw_ml/'\n",
        "\n",
        "# modify \"customized_path_to_your_homework\" here to where you uploaded your homework\n",
        "customized_path_to_your_homework = 'hw1/ProgAs1/ProgAs1_notebook_data'\n",
        "sys_path = prefix + customized_path_to_your_homework\n",
        "sys.path.append(sys_path)\n",
        "print(sys_path)"
      ],
      "execution_count": 268,
      "outputs": [
        {
          "output_type": "stream",
          "name": "stdout",
          "text": [
            "/content/gdrive/My Drive/hw_ml/hw1/ProgAs1/ProgAs1_notebook_data\n"
          ]
        }
      ]
    },
    {
      "cell_type": "code",
      "metadata": {
        "id": "p_6kweXBD-51",
        "colab": {
          "base_uri": "https://localhost:8080/"
        },
        "outputId": "c6a9faf6-01f8-4d53-c23d-013026dde529"
      },
      "source": [
        "## Load the training set\n",
        "# To speed up computation, we will just consider 7000 images for training and 100 images for testing\n",
        "num_trn, num_tst = 2000,500\n",
        "train_data = np.load(sys_path+'/mnist_train_data.npy')[:num_trn,]\n",
        "train_labels = np.load(sys_path+'/mnist_train_labels.npy')[:num_trn]\n",
        "\n",
        "## Load the testing set\n",
        "test_data = np.load(sys_path+'/mnist_test_data.npy')[:num_tst,]\n",
        "test_labels = np.load(sys_path+'/mnist_test_labels.npy')[:num_tst]\n",
        "\n",
        "\n",
        "## Print out their dimensions\n",
        "print(\"Training dataset dimensions: \", np.shape(train_data))\n",
        "print(\"Number of training labels: \", len(train_labels))\n",
        "print(\"Testing dataset dimensions: \", np.shape(test_data))\n",
        "print(\"Number of testing labels: \", len(test_labels))\n",
        "\n",
        "## Compute the number of examples of each digit\n",
        "train_digits, train_counts = np.unique(train_labels, return_counts=True)\n",
        "print(\"Training set distribution:\")\n",
        "print(dict(zip(train_digits, train_counts)))\n",
        "\n",
        "test_digits, test_counts = np.unique(test_labels, return_counts=True)\n",
        "print(\"Test set distribution:\")\n",
        "print(dict(zip(test_digits, test_counts)))\n",
        "\n"
      ],
      "execution_count": 269,
      "outputs": [
        {
          "output_type": "stream",
          "name": "stdout",
          "text": [
            "('Training dataset dimensions: ', (2000, 784))\n",
            "('Number of training labels: ', 2000)\n",
            "('Testing dataset dimensions: ', (500, 784))\n",
            "('Number of testing labels: ', 500)\n",
            "Training set distribution:\n",
            "{0: 204, 1: 219, 2: 200, 3: 209, 4: 186, 5: 194, 6: 189, 7: 200, 8: 214, 9: 185}\n",
            "Test set distribution:\n",
            "{0: 49, 1: 53, 2: 63, 3: 42, 4: 49, 5: 43, 6: 42, 7: 56, 8: 48, 9: 55}\n"
          ]
        }
      ]
    },
    {
      "cell_type": "markdown",
      "metadata": {
        "id": "X_RC2SY3D-53"
      },
      "source": [
        "Now, let's randomly choose 10 images from the training dataset and visualize them."
      ]
    },
    {
      "cell_type": "code",
      "metadata": {
        "id": "j6O0tp-xD-54",
        "colab": {
          "base_uri": "https://localhost:8080/",
          "height": 217
        },
        "outputId": "0e14b030-e1ba-4133-a0fe-a2269951ea4f"
      },
      "source": [
        "nrows, ncols = 2, 5\n",
        "index = random.sample(range(len(train_labels)), 10)\n",
        "print index\n",
        "fig, axes = plt.subplots(nrows, ncols, figsize=(6, 3))\n",
        "for i in range(nrows):\n",
        "    for j in range(ncols):\n",
        "        # Image index\n",
        "        k = j + i * ncols\n",
        "        ax = axes[i, j]\n",
        "        ax.matshow((train_data[index[k],]).reshape((28,28)),cmap=plt.cm.gray)\n",
        "        ax.set_axis_off()\n",
        "        ax.set_title(\"Label \" + str(train_labels[index[k]]))"
      ],
      "execution_count": 270,
      "outputs": [
        {
          "output_type": "stream",
          "name": "stdout",
          "text": [
            "[310, 20, 704, 156, 688, 1847, 1294, 45, 402, 105]\n"
          ]
        },
        {
          "output_type": "display_data",
          "data": {
            "image/png": "[encoded data removed]",
            "text/plain": [
              "<Figure size 432x216 with 10 Axes>"
            ]
          },
          "metadata": {
            "needs_background": "light"
          }
        }
      ]
    },
    {
      "cell_type": "markdown",
      "metadata": {
        "id": "eM140nEKD-55"
      },
      "source": [
        "## 2. KNN based on Euclidean distance\n",
        "\n",
        "Let's first experiment with _Euclidean distance_: for two vectors $x, y \\in \\mathbb{R}^d$, their Euclidean distance is defined as \n",
        "$$\\|x - y\\| = \\sqrt{\\sum_{i=1}^d (x_i - y_i)^2}.$$\n",
        "**Task P2.1:** Complete the following code section to calculate this distance. Copy the corresponding code to the problem set 1 solution pdf file."
      ]
    },
    {
      "cell_type": "code",
      "metadata": {
        "collapsed": true,
        "id": "nD9IHfLPD-56"
      },
      "source": [
        "## Computes squared Euclidean distance between two vectors.\n",
        "import math\n",
        "def eucl_dist(x,y):\n",
        "    # input:\n",
        "    # x, y: vectorization of an image\n",
        "    # output:\n",
        "    # the distance between the two vectors\n",
        "    \n",
        "    ### STUDENT: YOUR CODE HERE\n",
        "\n",
        "    return np.sqrt(np.sum(np.square(x-y)))\n",
        "    ### CODE ENDS\n",
        "\n",
        "# a = np.array([0, 0, 0])\n",
        "# b = np.array([1, 1, 1])\n",
        "# print(eucl_dist(a, b))"
      ],
      "execution_count": 271,
      "outputs": []
    },
    {
      "cell_type": "markdown",
      "metadata": {
        "id": "DiyazI1aD-58"
      },
      "source": [
        "Now, let's try to compute the distance between some randomly chosen images."
      ]
    },
    {
      "cell_type": "code",
      "metadata": {
        "id": "JAiLUe7mD-5-",
        "colab": {
          "base_uri": "https://localhost:8080/"
        },
        "outputId": "7d1114cd-8870-4308-859c-a28977904da3"
      },
      "source": [
        "index = random.sample(range(len(train_labels)), 10)\n",
        "for i in range(5):\n",
        "    # Image index\n",
        "    k = i * 2\n",
        "    print(\"Distance from \"+str(train_labels[index[k]])+\" to \"+str(train_labels[index[k+1]])+\": \"+\n",
        "          str(eucl_dist(train_data[index[k],],train_data[index[k+1],])))\n",
        "    \n"
      ],
      "execution_count": 272,
      "outputs": [
        {
          "output_type": "stream",
          "name": "stdout",
          "text": [
            "Distance from 9 to 7: 2887.0593\n",
            "Distance from 0 to 8: 2687.9785\n",
            "Distance from 2 to 9: 2945.9026\n",
            "Distance from 5 to 3: 2436.297\n",
            "Distance from 1 to 8: 2060.0256\n"
          ]
        }
      ]
    },
    {
      "cell_type": "markdown",
      "metadata": {
        "id": "rfB4ePOhD-5_"
      },
      "source": [
        "Now, let's implement the K-nearest neighbor classification. \n",
        "\n",
        "**Task P2.2:** Complete the following code sections for `find_KNN` and `KNN_classifier`. Copy the corresponding code to the problem set 1 solution pdf file."
      ]
    },
    {
      "cell_type": "code",
      "metadata": {
        "collapsed": true,
        "id": "YEv2g1CZD-5_"
      },
      "source": [
        "# Take a vector x and returns the indices of its K nearest neighbors in the training set: train_data\n",
        "def find_KNN(x, train_data, train_labels, K, dist=eucl_dist):\n",
        "    # Input: \n",
        "    # x: test point\n",
        "    # train_data: training data X\n",
        "    # train_labels: training data labels y\n",
        "    # K: number of nearest neighbors considered\n",
        "    # dist: default to be the eucl_dist that you have defined above\n",
        "    # Output:\n",
        "    # The indices of the K nearest neighbors to test point x in the training set\n",
        "    \n",
        "    ##### STUDENT: Your code here #####\n",
        "    temps = []\n",
        "    indices = []\n",
        "    for index in range(len(train_data)):\n",
        "\n",
        "        d = dist(x, train_data[index])\n",
        "\n",
        "        temps.append((train_data[index], d, train_labels[index] , index))\n",
        "    \n",
        "    temps.sort(key=lambda x: x[1])\n",
        "    neighbors = temps[:K]   \n",
        "    \n",
        "    for n in neighbors:\n",
        "      indices.append(n[3])\n",
        "    # print(indices)\n",
        "    return indices\n",
        "\n",
        "  \n",
        "    ##### END OF CODE #####\n",
        "\n"
      ],
      "execution_count": 273,
      "outputs": []
    },
    {
      "cell_type": "markdown",
      "metadata": {
        "id": "HAokv9qAD-6A"
      },
      "source": [
        "Now, you should make use of the `find_KKN` function to define the KNN classifier."
      ]
    },
    {
      "cell_type": "code",
      "metadata": {
        "collapsed": true,
        "id": "fg2HqZ4eD-6B"
      },
      "source": [
        "# KNN classification\n",
        "def KNN_classifier(x, train_data, train_labels,K,dist=eucl_dist):\n",
        "    # Input:\n",
        "    # x: test point\n",
        "    # train_data: training data X\n",
        "    # train_labels: training data labels y\n",
        "    # K: number of nearest neighbors considered\n",
        "    # dist: default to be the eucl_dist that you have defined above\n",
        "    \n",
        "    ##### STUDENT: Your code here #####\n",
        "    idxs = find_KNN(x, train_data, train_labels, K, dist)\n",
        "    print(idxs)\n",
        "    s = 0\n",
        "    for idx in idxs:\n",
        "      s = s + train_labels[idx]\n",
        "    b = float(s)/K \n",
        "    if (b<0.5):\n",
        "       return (0)\n",
        "    return (1)\n",
        "\n",
        "      \n",
        "\n",
        "    ##### END OF CODE #####\n",
        "# x1 = np.array([10, 10])\n",
        "# trdata = [np.array([1, 1]), np.array([0, 0]), np.array([9, 9]), np.array([432, 281]), np.array([101, 100]), np.array([100, 100])]\n",
        "# trlabs = [0, 0, 1, 1, 1, 1]\n",
        "# print(\"here on\")\n",
        "# # find_KNN(x1, trdata, trlabs, 2, eucl_dist)\n",
        "# KNN_classifier(x1, trdata, trlabs, 3, eucl_dist)"
      ],
      "execution_count": 274,
      "outputs": []
    },
    {
      "cell_type": "markdown",
      "metadata": {
        "id": "kZwU21jTD-6C"
      },
      "source": [
        "Now, let's examine how the code works for 1-NN (i.e., with K=1)."
      ]
    },
    {
      "cell_type": "code",
      "metadata": {
        "collapsed": true,
        "id": "uZWtp5acD-6C"
      },
      "source": [
        "## Define a function that takes an index into a particular data set (\"train\" or \"test\") and displays that image.\n",
        "def vis_image(index, dataset=\"train\"):\n",
        "    plt.axis('off')\n",
        "    if(dataset==\"train\"): \n",
        "        plt.imshow((train_data[index,]).reshape((28,28)), cmap=plt.cm.gray)\n",
        "        label = train_labels[index]\n",
        "    else:\n",
        "        plt.imshow((test_data[index,]).reshape((28,28)), cmap=plt.cm.gray)\n",
        "        label = test_labels[index]\n",
        "    plt.show()\n",
        "    print(\"Label \" + str(label))\n",
        "    return"
      ],
      "execution_count": 275,
      "outputs": []
    },
    {
      "cell_type": "markdown",
      "metadata": {
        "id": "a06ofxeCD-6C"
      },
      "source": [
        "**Task P2.3: Find one example of success case and one example of failed case for 1-NN. Print the outputs and copy them to the problem set solution file.**"
      ]
    },
    {
      "cell_type": "code",
      "metadata": {
        "scrolled": true,
        "id": "h6Rpj0n8D-6C",
        "colab": {
          "base_uri": "https://localhost:8080/",
          "height": 1000
        },
        "outputId": "42fed529-af65-42d6-b597-59d8da42e71e"
      },
      "source": [
        "## A success case:\n",
        "ind_success = 0\n",
        "\n",
        "print(\"A success case:\")\n",
        "print(\"1-NN classification: \", KNN_classifier(test_data[ind_success,],train_data,train_labels,1,eucl_dist))\n",
        "print(\"True label: \", test_labels[ind_success])\n",
        "print(\"The test image:\")\n",
        "vis_image(ind_success, \"test\")\n",
        "print(\"The corresponding nearest neighbor image:\")\n",
        "vis_image(find_KNN(test_data[ind_success,],train_data,train_labels,1,eucl_dist)[0], \"train\")\n",
        "\n",
        "## A failure case:\n",
        "ind_fail = 24\n",
        "print(\"Index = \" + str(ind_fail))\n",
        "print(\"A failure case:\")\n",
        "print(\"NN classification: \", KNN_classifier(test_data[ind_fail,],train_data,train_labels,1,eucl_dist))\n",
        "print(\"True label: \", test_labels[ind_fail])\n",
        "print(\"The test image:\")\n",
        "vis_image(ind_fail, \"test\")\n",
        "print(\"The corresponding nearest neighbor image:\")\n",
        "vis_image(find_KNN(test_data[ind_fail,],train_data,train_labels,1,eucl_dist)[0], \"train\")\n",
        "  "
      ],
      "execution_count": 276,
      "outputs": [
        {
          "output_type": "stream",
          "name": "stdout",
          "text": [
            "A success case:\n",
            "[1922]\n",
            "('1-NN classification: ', 0)\n",
            "('True label: ', 0)\n",
            "The test image:\n"
          ]
        },
        {
          "output_type": "display_data",
          "data": {
            "image/png": "[encoded data removed]",
            "text/plain": [
              "<Figure size 432x288 with 1 Axes>"
            ]
          },
          "metadata": {
            "needs_background": "light"
          }
        },
        {
          "output_type": "stream",
          "name": "stdout",
          "text": [
            "Label 0\n",
            "The corresponding nearest neighbor image:\n"
          ]
        },
        {
          "output_type": "display_data",
          "data": {
            "image/png": "[encoded data removed]",
            "text/plain": [
              "<Figure size 432x288 with 1 Axes>"
            ]
          },
          "metadata": {
            "needs_background": "light"
          }
        },
        {
          "output_type": "stream",
          "name": "stdout",
          "text": [
            "Label 0\n",
            "Index = 24\n",
            "A failure case:\n",
            "[1451]\n",
            "('NN classification: ', 1)\n",
            "('True label: ', 3)\n",
            "The test image:\n"
          ]
        },
        {
          "output_type": "display_data",
          "data": {
            "image/png": "[encoded data removed]",
            "text/plain": [
              "<Figure size 432x288 with 1 Axes>"
            ]
          },
          "metadata": {
            "needs_background": "light"
          }
        },
        {
          "output_type": "stream",
          "name": "stdout",
          "text": [
            "Label 3\n",
            "The corresponding nearest neighbor image:\n"
          ]
        },
        {
          "output_type": "display_data",
          "data": {
            "image/png": "[encoded data removed]",
            "text/plain": [
              "<Figure size 432x288 with 1 Axes>"
            ]
          },
          "metadata": {
            "needs_background": "light"
          }
        },
        {
          "output_type": "stream",
          "name": "stdout",
          "text": [
            "Label 9\n"
          ]
        }
      ]
    },
    {
      "cell_type": "markdown",
      "metadata": {
        "id": "ZYR6KmdQD-6D"
      },
      "source": [
        "Now let's apply our K-nearest neighbor classifier over the full data set with `K=3`. \n",
        "\n",
        "Note that to classify each test point, our code takes a full pass over each of the 2000 training examples. The following code takes about 8 seconds on 3.3 GHz Intel Core i. \n",
        "\n",
        "**Task P2.4: Report the outputs of the following code and copy them to the problem set solution file.**"
      ]
    },
    {
      "cell_type": "code",
      "metadata": {
        "id": "oUaB841LD-6D",
        "colab": {
          "base_uri": "https://localhost:8080/"
        },
        "outputId": "c4f9fd47-06fe-4230-908a-a3089b51d369"
      },
      "source": [
        "## Predict on each test data point (and time it!)\n",
        "pbar = ProgressBar() # to show progress\n",
        "t_before = time.time()\n",
        "test_predictions = np.zeros(len(test_labels))\n",
        "for i in pbar(range(len(test_labels))):   \n",
        "    test_predictions[i] = KNN_classifier(test_data[i,],train_data,train_labels,3,eucl_dist)\n",
        "t_after = time.time()\n",
        "\n",
        "## Compute the error\n",
        "err_positions = np.not_equal(test_predictions, test_labels)\n",
        "error = float(np.sum(err_positions))/len(test_labels)\n",
        "\n",
        "print(\"Error of nearest neighbor classifier with Euclidean distance: \", error)\n",
        "print(\"Classification time (seconds) with Euclidean distance: \", t_after - t_before)"
      ],
      "execution_count": 277,
      "outputs": [
        {
          "output_type": "stream",
          "name": "stderr",
          "text": [
            "  0% (4 of 500) |                        | Elapsed Time: 0:00:00 ETA:   0:00:13"
          ]
        },
        {
          "output_type": "stream",
          "name": "stdout",
          "text": [
            "[1922, 1421, 1593]\n",
            "[1363, 515, 1888]\n",
            "[1144, 56, 749]\n",
            "[1307, 1142, 1793]\n",
            "[794, 218, 1881]\n",
            "[749, 213, 1875]\n"
          ]
        },
        {
          "output_type": "stream",
          "name": "stderr",
          "text": [
            "\r                                                                               \r\r  1% (7 of 500) |                        | Elapsed Time: 0:00:00 ETA:   0:00:13"
          ]
        },
        {
          "output_type": "stream",
          "name": "stdout",
          "text": [
            "[802, 1432, 1630]\n",
            "[761, 783, 1476]\n",
            "[1081, 556, 891]\n",
            "[496, 1060, 1157]\n",
            "[563, 417, 83]\n"
          ]
        },
        {
          "output_type": "stream",
          "name": "stderr",
          "text": [
            "\r                                                                               \r\r  2% (13 of 500) |                       | Elapsed Time: 0:00:00 ETA:   0:00:10"
          ]
        },
        {
          "output_type": "stream",
          "name": "stdout",
          "text": [
            "[1538, 1972, 16]\n",
            "[323, 1654, 564]\n",
            "[1218, 1430, 539]\n",
            "[1003, 1431, 691]\n",
            "[242, 1255, 790]\n",
            "[1542, 92, 564]\n"
          ]
        },
        {
          "output_type": "stream",
          "name": "stderr",
          "text": [
            "\r                                                                               \r\r  3% (18 of 500) |                       | Elapsed Time: 0:00:00 ETA:   0:00:10"
          ]
        },
        {
          "output_type": "stream",
          "name": "stdout",
          "text": [
            "[348, 659, 1632]\n",
            "[1719, 82, 188]\n",
            "[1811, 604, 1302]\n",
            "[697, 287, 234]\n"
          ]
        },
        {
          "output_type": "stream",
          "name": "stderr",
          "text": [
            "\r                                                                               \r\r  4% (24 of 500) |#                      | Elapsed Time: 0:00:00 ETA:   0:00:10"
          ]
        },
        {
          "output_type": "stream",
          "name": "stdout",
          "text": [
            "[720, 971, 710]\n",
            "[1076, 310, 1908]\n",
            "[894, 1162, 1008]\n",
            "[1451, 789, 840]\n",
            "[1405, 1538, 1216]\n",
            "[762, 899, 490]\n",
            "[1300, 1598, 1178]\n"
          ]
        },
        {
          "output_type": "stream",
          "name": "stderr",
          "text": [
            "\r                                                                               \r\r  6% (30 of 500) |#                      | Elapsed Time: 0:00:00 ETA:   0:00:09"
          ]
        },
        {
          "output_type": "stream",
          "name": "stdout",
          "text": [
            "[45, 1236, 119]\n",
            "[394, 1413, 183]\n",
            "[829, 936, 1476]\n",
            "[357, 384, 931]\n"
          ]
        },
        {
          "output_type": "stream",
          "name": "stderr",
          "text": [
            "\r                                                                               \r\r  7% (36 of 500) |#                      | Elapsed Time: 0:00:00 ETA:   0:00:09"
          ]
        },
        {
          "output_type": "stream",
          "name": "stdout",
          "text": [
            "[1872, 528, 50]\n",
            "[1783, 1982, 1246]\n",
            "[1148, 1671, 954]\n",
            "[1930, 119, 1918]\n",
            "[807, 470, 92]\n",
            "[1468, 1285, 1668]\n",
            "[461, 1849, 516]\n"
          ]
        },
        {
          "output_type": "stream",
          "name": "stderr",
          "text": [
            "\r                                                                               \r\r  8% (41 of 500) |#                      | Elapsed Time: 0:00:00 ETA:   0:00:09"
          ]
        },
        {
          "output_type": "stream",
          "name": "stdout",
          "text": [
            "[211, 1587, 133]\n",
            "[1054, 1041, 819]\n",
            "[192, 1519, 702]\n"
          ]
        },
        {
          "output_type": "stream",
          "name": "stderr",
          "text": [
            "\r                                                                               \r\r  9% (45 of 500) |##                     | Elapsed Time: 0:00:00 ETA:   0:00:09"
          ]
        },
        {
          "output_type": "stream",
          "name": "stdout",
          "text": [
            "[1777, 594, 864]\n",
            "[757, 1335, 326]\n",
            "[338, 1893, 1495]\n",
            "[1904, 1843, 1869]\n",
            "[944, 610, 1591]\n",
            "[54, 238, 1370]\n",
            "[716, 768, 1100]\n"
          ]
        },
        {
          "output_type": "stream",
          "name": "stderr",
          "text": [
            "\r                                                                               \r\r 10% (50 of 500) |##                     | Elapsed Time: 0:00:01 ETA:   0:00:09"
          ]
        },
        {
          "output_type": "stream",
          "name": "stdout",
          "text": [
            "[1862, 144, 1192]\n",
            "[1778, 1434, 894]\n",
            "[1929, 497, 666]\n"
          ]
        },
        {
          "output_type": "stream",
          "name": "stderr",
          "text": [
            "\r                                                                               \r\r 11% (55 of 500) |##                     | Elapsed Time: 0:00:01 ETA:   0:00:09"
          ]
        },
        {
          "output_type": "stream",
          "name": "stdout",
          "text": [
            "[1996, 669, 1980]\n",
            "[1603, 1154, 1462]\n",
            "[851, 1584, 1375]\n",
            "[1307, 1114, 1324]\n",
            "[1024, 1502, 940]\n",
            "[359, 1378, 1632]\n",
            "[1823, 1837, 1592]\n",
            "[1270, 193, 1001]\n"
          ]
        },
        {
          "output_type": "stream",
          "name": "stderr",
          "text": [
            "\r                                                                               \r\r 12% (61 of 500) |##                     | Elapsed Time: 0:00:01 ETA:   0:00:09"
          ]
        },
        {
          "output_type": "stream",
          "name": "stdout",
          "text": [
            "[1152, 351, 789]\n",
            "[868, 543, 528]\n",
            "[188, 1038, 82]\n"
          ]
        },
        {
          "output_type": "stream",
          "name": "stderr",
          "text": [
            " 14% (70 of 500) |###                    | Elapsed Time: 0:00:01 ETA:   0:00:08"
          ]
        },
        {
          "output_type": "stream",
          "name": "stdout",
          "text": [
            "[276, 492, 1144]\n",
            "[1058, 1709, 838]\n",
            "[1399, 1973, 1121]\n",
            "[1476, 606, 1970]\n",
            "[502, 846, 1516]\n",
            "[1516, 1318, 640]\n",
            "[19, 1354, 1823]\n",
            "[464, 1089, 629]\n",
            "[1869, 1982, 1909]\n",
            "[1899, 989, 1696]\n",
            "[1193, 384, 1781]\n"
          ]
        },
        {
          "output_type": "stream",
          "name": "stderr",
          "text": [
            " 16% (81 of 500) |###                    | Elapsed Time: 0:00:01 ETA:   0:00:08"
          ]
        },
        {
          "output_type": "stream",
          "name": "stdout",
          "text": [
            "[1875, 309, 1662]\n",
            "[707, 1684, 564]\n",
            "[790, 1498, 118]\n",
            "[1087, 1100, 1722]\n",
            "[1159, 1495, 928]\n",
            "[537, 384, 1310]\n",
            "[1859, 713, 90]\n",
            "[1346, 1311, 1310]\n",
            "[849, 831, 1606]\n",
            "[1319, 337, 1714]\n",
            "[1986, 1347, 898]\n"
          ]
        },
        {
          "output_type": "stream",
          "name": "stderr",
          "text": [
            " 17% (89 of 500) |####                   | Elapsed Time: 0:00:01 ETA:   0:00:08"
          ]
        },
        {
          "output_type": "stream",
          "name": "stdout",
          "text": [
            "[663, 1519, 946]\n",
            "[426, 76, 882]\n",
            "[1967, 138, 1690]\n",
            "[1716, 1634, 1569]\n",
            "[910, 616, 122]\n",
            "[1562, 1515, 1449]\n",
            "[453, 1519, 663]\n"
          ]
        },
        {
          "output_type": "stream",
          "name": "stderr",
          "text": [
            "\r                                                                               \r\r 18% (94 of 500) |####                   | Elapsed Time: 0:00:01 ETA:   0:00:08"
          ]
        },
        {
          "output_type": "stream",
          "name": "stdout",
          "text": [
            "[1221, 1755, 1793]\n",
            "[917, 1904, 813]\n",
            "[1407, 1971, 660]\n"
          ]
        },
        {
          "output_type": "stream",
          "name": "stderr",
          "text": [
            " 20% (102 of 500) |####                  | Elapsed Time: 0:00:02 ETA:   0:00:08"
          ]
        },
        {
          "output_type": "stream",
          "name": "stdout",
          "text": [
            "[72, 710, 1491]\n",
            "[84, 835, 682]\n",
            "[138, 1434, 1733]\n",
            "[1384, 92, 1031]\n",
            "[1844, 690, 1457]\n",
            "[1143, 260, 703]\n",
            "[532, 1412, 815]\n",
            "[1387, 823, 0]\n",
            "[1030, 1770, 60]\n",
            "[28, 1691, 1251]\n"
          ]
        },
        {
          "output_type": "stream",
          "name": "stderr",
          "text": [
            " 22% (113 of 500) |####                  | Elapsed Time: 0:00:02 ETA:   0:00:07"
          ]
        },
        {
          "output_type": "stream",
          "name": "stdout",
          "text": [
            "[42, 137, 1862]\n",
            "[397, 156, 371]\n",
            "[1262, 1662, 627]\n",
            "[1837, 1823, 1489]\n",
            "[580, 897, 1241]\n",
            "[1437, 1909, 879]\n",
            "[1472, 606, 940]\n",
            "[928, 925, 206]\n",
            "[339, 963, 1029]\n",
            "[1641, 1398, 1357]\n",
            "[968, 1630, 511]\n"
          ]
        },
        {
          "output_type": "stream",
          "name": "stderr",
          "text": [
            " 24% (121 of 500) |#####                 | Elapsed Time: 0:00:02 ETA:   0:00:07"
          ]
        },
        {
          "output_type": "stream",
          "name": "stdout",
          "text": [
            "[331, 1001, 413]\n",
            "[311, 1165, 1997]\n",
            "[1525, 1708, 1613]\n",
            "[1948, 914, 1014]\n",
            "[1898, 827, 1428]\n",
            "[206, 1976, 986]\n",
            "[1712, 289, 868]\n",
            "[964, 1875, 127]\n"
          ]
        },
        {
          "output_type": "stream",
          "name": "stderr",
          "text": [
            "\r                                                                               \r\r 25% (126 of 500) |#####                 | Elapsed Time: 0:00:02 ETA:   0:00:07"
          ]
        },
        {
          "output_type": "stream",
          "name": "stdout",
          "text": [
            "[232, 904, 343]\n",
            "[1715, 879, 1396]\n"
          ]
        },
        {
          "output_type": "stream",
          "name": "stderr",
          "text": [
            "\r                                                                               \r\r 26% (132 of 500) |#####                 | Elapsed Time: 0:00:02 ETA:   0:00:07"
          ]
        },
        {
          "output_type": "stream",
          "name": "stdout",
          "text": [
            "[1363, 1645, 1973]\n",
            "[1196, 977, 1091]\n",
            "[578, 1622, 87]\n",
            "[278, 486, 729]\n",
            "[19, 1340, 1354]\n",
            "[1715, 1565, 879]\n",
            "[880, 759, 14]\n",
            "[566, 387, 241]\n",
            "[917, 1982, 1869]\n"
          ]
        },
        {
          "output_type": "stream",
          "name": "stderr",
          "text": [
            "\r                                                                               \r\r 27% (137 of 500) |######                | Elapsed Time: 0:00:02 ETA:   0:00:07"
          ]
        },
        {
          "output_type": "stream",
          "name": "stdout",
          "text": [
            "[824, 1544, 1799]\n",
            "[1503, 506, 1249]\n"
          ]
        },
        {
          "output_type": "stream",
          "name": "stderr",
          "text": [
            " 29% (146 of 500) |######                | Elapsed Time: 0:00:02 ETA:   0:00:07"
          ]
        },
        {
          "output_type": "stream",
          "name": "stdout",
          "text": [
            "[1769, 612, 40]\n",
            "[1130, 937, 169]\n",
            "[407, 394, 151]\n",
            "[470, 1024, 1290]\n",
            "[132, 1948, 994]\n",
            "[1140, 50, 636]\n",
            "[1148, 1610, 1405]\n",
            "[1948, 132, 1014]\n",
            "[384, 1156, 1189]\n",
            "[1585, 1621, 1835]\n",
            "[1375, 371, 440]\n"
          ]
        },
        {
          "output_type": "stream",
          "name": "stderr",
          "text": [
            "\r                                                                               \r\r 30% (151 of 500) |######                | Elapsed Time: 0:00:03 ETA:   0:00:07"
          ]
        },
        {
          "output_type": "stream",
          "name": "stdout",
          "text": [
            "[1609, 1585, 760]\n",
            "[1382, 987, 1634]\n",
            "[665, 692, 1057]\n",
            "[609, 1076, 332]\n",
            "[1034, 1003, 354]\n",
            "[1982, 1869, 745]\n",
            "[1123, 520, 447]\n",
            "[1585, 1609, 1621]\n"
          ]
        },
        {
          "output_type": "stream",
          "name": "stderr",
          "text": [
            "\r                                                                               \r\r 31% (157 of 500) |######                | Elapsed Time: 0:00:03 ETA:   0:00:06"
          ]
        },
        {
          "output_type": "stream",
          "name": "stdout",
          "text": [
            "[1287, 70, 1346]\n",
            "[305, 1903, 1720]\n"
          ]
        },
        {
          "output_type": "stream",
          "name": "stderr",
          "text": [
            "\r                                                                               \r\r 32% (163 of 500) |#######               | Elapsed Time: 0:00:03 ETA:   0:00:06"
          ]
        },
        {
          "output_type": "stream",
          "name": "stdout",
          "text": [
            "[68, 1547, 304]\n",
            "[1547, 1790, 68]\n",
            "[1594, 1326, 417]\n",
            "[112, 1526, 840]\n",
            "[159, 1029, 1996]\n",
            "[1122, 1170, 917]\n",
            "[1579, 421, 1863]\n",
            "[88, 1034, 1735]\n",
            "[1916, 1327, 1836]\n"
          ]
        },
        {
          "output_type": "stream",
          "name": "stderr",
          "text": [
            "\r                                                                               \r\r 33% (168 of 500) |#######               | Elapsed Time: 0:00:03 ETA:   0:00:06"
          ]
        },
        {
          "output_type": "stream",
          "name": "stdout",
          "text": [
            "[256, 1054, 930]\n",
            "[785, 950, 1230]\n"
          ]
        },
        {
          "output_type": "stream",
          "name": "stderr",
          "text": [
            " 35% (177 of 500) |#######               | Elapsed Time: 0:00:03 ETA:   0:00:06"
          ]
        },
        {
          "output_type": "stream",
          "name": "stdout",
          "text": [
            "[387, 1362, 1960]\n",
            "[1114, 846, 1872]\n",
            "[669, 1432, 802]\n",
            "[1809, 1039, 959]\n",
            "[1827, 1678, 141]\n",
            "[1075, 18, 1967]\n",
            "[1403, 463, 1881]\n",
            "[1022, 594, 1511]\n",
            "[441, 204, 1179]\n",
            "[1896, 1697, 1938]\n",
            "[1033, 1690, 237]\n"
          ]
        },
        {
          "output_type": "stream",
          "name": "stderr",
          "text": [
            " 37% (188 of 500) |########              | Elapsed Time: 0:00:03 ETA:   0:00:06"
          ]
        },
        {
          "output_type": "stream",
          "name": "stdout",
          "text": [
            "[1382, 1634, 660]\n",
            "[674, 981, 827]\n",
            "[1871, 151, 663]\n",
            "[1798, 146, 1160]\n",
            "[137, 381, 1862]\n",
            "[253, 1940, 815]\n",
            "[426, 76, 1157]\n",
            "[1513, 570, 97]\n",
            "[1485, 311, 1524]\n",
            "[1738, 1020, 204]\n"
          ]
        },
        {
          "output_type": "stream",
          "name": "stderr",
          "text": [
            " 39% (197 of 500) |########              | Elapsed Time: 0:00:03 ETA:   0:00:06"
          ]
        },
        {
          "output_type": "stream",
          "name": "stdout",
          "text": [
            "[417, 762, 823]\n",
            "[1014, 1192, 42]\n",
            "[1649, 446, 187]\n",
            "[440, 1018, 286]\n",
            "[1461, 109, 332]\n",
            "[1254, 1274, 471]\n",
            "[769, 404, 1134]\n",
            "[779, 1520, 1950]\n",
            "[1127, 35, 1141]\n",
            "[453, 1966, 1204]\n"
          ]
        },
        {
          "output_type": "stream",
          "name": "stderr",
          "text": [
            " 41% (208 of 500) |#########             | Elapsed Time: 0:00:04 ETA:   0:00:05"
          ]
        },
        {
          "output_type": "stream",
          "name": "stdout",
          "text": [
            "[1176, 1997, 238]\n",
            "[159, 199, 1886]\n",
            "[451, 1350, 1002]\n",
            "[785, 571, 1678]\n",
            "[636, 1033, 1546]\n",
            "[1816, 1875, 1704]\n",
            "[148, 909, 1521]\n",
            "[1169, 1485, 1156]\n",
            "[431, 556, 891]\n",
            "[807, 1467, 92]\n"
          ]
        },
        {
          "output_type": "stream",
          "name": "stderr",
          "text": [
            " 43% (216 of 500) |#########             | Elapsed Time: 0:00:04 ETA:   0:00:05"
          ]
        },
        {
          "output_type": "stream",
          "name": "stdout",
          "text": [
            "[1572, 1455, 608]\n",
            "[1182, 104, 1855]\n",
            "[1153, 1146, 646]\n",
            "[1862, 144, 557]\n",
            "[980, 1552, 1279]\n",
            "[1426, 607, 999]\n",
            "[1131, 895, 358]\n",
            "[380, 1026, 1634]\n",
            "[940, 1024, 470]\n",
            "[51, 584, 615]\n"
          ]
        },
        {
          "output_type": "stream",
          "name": "stderr",
          "text": [
            " 45% (227 of 500) |#########             | Elapsed Time: 0:00:04 ETA:   0:00:05"
          ]
        },
        {
          "output_type": "stream",
          "name": "stdout",
          "text": [
            "[1217, 29, 120]\n",
            "[1503, 182, 87]\n",
            "[1193, 962, 622]\n",
            "[114, 882, 1848]\n",
            "[1388, 30, 416]\n",
            "[917, 1982, 915]\n",
            "[536, 788, 328]\n",
            "[1618, 1549, 709]\n",
            "[1506, 285, 1283]\n",
            "[353, 1467, 74]\n",
            "[679, 540, 843]\n"
          ]
        },
        {
          "output_type": "stream",
          "name": "stderr",
          "text": [
            " 48% (241 of 500) |##########            | Elapsed Time: 0:00:04 ETA:   0:00:05"
          ]
        },
        {
          "output_type": "stream",
          "name": "stdout",
          "text": [
            "[1290, 422, 470]\n",
            "[1950, 957, 156]\n",
            "[1011, 1072, 724]\n",
            "[951, 384, 1009]\n",
            "[779, 940, 293]\n",
            "[989, 1601, 1873]\n",
            "[476, 709, 833]\n",
            "[336, 1475, 423]\n",
            "[1000, 1066, 17]\n",
            "[1162, 1921, 1175]\n"
          ]
        },
        {
          "output_type": "stream",
          "name": "stderr",
          "text": [
            " 50% (251 of 500) |###########           | Elapsed Time: 0:00:05 ETA:   0:00:05"
          ]
        },
        {
          "output_type": "stream",
          "name": "stdout",
          "text": [
            "[1921, 799, 1003]\n",
            "[606, 1059, 1598]\n",
            "[1596, 104, 401]\n",
            "[1198, 827, 1949]\n",
            "[470, 1059, 422]\n",
            "[132, 638, 137]\n",
            "[680, 213, 276]\n",
            "[1830, 7, 1997]\n",
            "[1077, 811, 1626]\n",
            "[1550, 1691, 1365]\n",
            "[1672, 157, 1847]\n"
          ]
        },
        {
          "output_type": "stream",
          "name": "stderr",
          "text": [
            " 52% (260 of 500) |###########           | Elapsed Time: 0:00:05 ETA:   0:00:04"
          ]
        },
        {
          "output_type": "stream",
          "name": "stdout",
          "text": [
            "[1597, 14, 784]\n",
            "[328, 1539, 798]\n",
            "[1906, 308, 992]\n",
            "[1869, 1982, 737]\n",
            "[5, 716, 438]\n",
            "[837, 1527, 651]\n",
            "[840, 752, 334]\n",
            "[656, 1111, 1701]\n",
            "[440, 477, 643]\n",
            "[189, 218, 1520]\n"
          ]
        },
        {
          "output_type": "stream",
          "name": "stderr",
          "text": [
            " 54% (271 of 500) |###########           | Elapsed Time: 0:00:05 ETA:   0:00:04"
          ]
        },
        {
          "output_type": "stream",
          "name": "stdout",
          "text": [
            "[855, 1713, 1825]\n",
            "[798, 497, 328]\n",
            "[1991, 1510, 292]\n",
            "[159, 963, 332]\n",
            "[272, 385, 1493]\n",
            "[1372, 928, 1412]\n",
            "[1351, 813, 1807]\n",
            "[1549, 1255, 1732]\n",
            "[757, 337, 350]\n",
            "[1801, 1159, 594]\n",
            "[568, 921, 1920]\n"
          ]
        },
        {
          "output_type": "stream",
          "name": "stderr",
          "text": [
            " 55% (279 of 500) |############          | Elapsed Time: 0:00:05 ETA:   0:00:04"
          ]
        },
        {
          "output_type": "stream",
          "name": "stdout",
          "text": [
            "[124, 74, 1820]\n",
            "[537, 1000, 1697]\n",
            "[779, 1240, 1896]\n",
            "[1948, 1014, 891]\n",
            "[185, 505, 925]\n",
            "[1892, 710, 1203]\n",
            "[727, 1580, 1782]\n",
            "[1296, 1513, 1004]\n",
            "[501, 917, 1339]\n",
            "[648, 1941, 1700]\n"
          ]
        },
        {
          "output_type": "stream",
          "name": "stderr",
          "text": [
            " 57% (290 of 500) |############          | Elapsed Time: 0:00:05 ETA:   0:00:04"
          ]
        },
        {
          "output_type": "stream",
          "name": "stdout",
          "text": [
            "[922, 1505, 162]\n",
            "[532, 925, 1412]\n",
            "[787, 589, 763]\n",
            "[356, 131, 544]\n",
            "[913, 674, 320]\n",
            "[1022, 409, 98]\n",
            "[1468, 1428, 277]\n",
            "[1779, 1809, 1815]\n",
            "[1485, 1311, 1524]\n",
            "[396, 809, 1879]\n",
            "[1714, 525, 539]\n"
          ]
        },
        {
          "output_type": "stream",
          "name": "stderr",
          "text": [
            " 60% (303 of 500) |#############         | Elapsed Time: 0:00:06 ETA:   0:00:04"
          ]
        },
        {
          "output_type": "stream",
          "name": "stdout",
          "text": [
            "[591, 517, 1846]\n",
            "[376, 1556, 1977]\n",
            "[1549, 344, 750]\n",
            "[204, 436, 1309]\n",
            "[1675, 310, 1010]\n",
            "[1157, 870, 1367]\n",
            "[79, 1976, 1235]\n",
            "[1898, 1130, 387]\n",
            "[1511, 1339, 864]\n",
            "[818, 7, 790]\n"
          ]
        },
        {
          "output_type": "stream",
          "name": "stderr",
          "text": [
            " 62% (311 of 500) |#############         | Elapsed Time: 0:00:06 ETA:   0:00:03"
          ]
        },
        {
          "output_type": "stream",
          "name": "stdout",
          "text": [
            "[1673, 1658, 439]\n",
            "[182, 1503, 1953]\n",
            "[1195, 884, 1542]\n",
            "[475, 132, 767]\n",
            "[1538, 791, 250]\n",
            "[1918, 1267, 546]\n",
            "[1075, 18, 1657]\n",
            "[1424, 1265, 1352]\n",
            "[1230, 1858, 785]\n",
            "[25, 1248, 1644]\n",
            "[407, 924, 563]\n"
          ]
        },
        {
          "output_type": "stream",
          "name": "stderr",
          "text": [
            " 64% (323 of 500) |##############        | Elapsed Time: 0:00:06 ETA:   0:00:03"
          ]
        },
        {
          "output_type": "stream",
          "name": "stdout",
          "text": [
            "[1348, 660, 1365]\n",
            "[1872, 1478, 948]\n",
            "[585, 1689, 801]\n",
            "[469, 715, 1263]\n",
            "[475, 1992, 1313]\n",
            "[1995, 670, 978]\n",
            "[1050, 1069, 1821]\n",
            "[1740, 453, 192]\n",
            "[1165, 1997, 7]\n",
            "[1852, 545, 898]\n",
            "[199, 1621, 1120]\n"
          ]
        },
        {
          "output_type": "stream",
          "name": "stderr",
          "text": [
            " 66% (334 of 500) |##############        | Elapsed Time: 0:00:06 ETA:   0:00:03"
          ]
        },
        {
          "output_type": "stream",
          "name": "stdout",
          "text": [
            "[196, 1257, 486]\n",
            "[271, 423, 1665]\n",
            "[1474, 422, 855]\n",
            "[751, 1572, 250]\n",
            "[1665, 1285, 1419]\n",
            "[1769, 1935, 1252]\n",
            "[1146, 432, 497]\n",
            "[1552, 980, 740]\n",
            "[256, 1446, 161]\n",
            "[1283, 682, 523]\n",
            "[54, 455, 1165]\n"
          ]
        },
        {
          "output_type": "stream",
          "name": "stderr",
          "text": [
            " 69% (346 of 500) |###############       | Elapsed Time: 0:00:07 ETA:   0:00:03"
          ]
        },
        {
          "output_type": "stream",
          "name": "stdout",
          "text": [
            "[1473, 13, 1926]\n",
            "[40, 1438, 619]\n",
            "[410, 1602, 1443]\n",
            "[1722, 788, 328]\n",
            "[1389, 166, 1306]\n",
            "[855, 422, 1482]\n",
            "[827, 1198, 1949]\n",
            "[1483, 1771, 1743]\n",
            "[813, 1588, 1426]\n",
            "[1482, 801, 1492]\n",
            "[41, 1414, 1494]\n"
          ]
        },
        {
          "output_type": "stream",
          "name": "stderr",
          "text": [
            " 70% (354 of 500) |###############       | Elapsed Time: 0:00:07 ETA:   0:00:02"
          ]
        },
        {
          "output_type": "stream",
          "name": "stdout",
          "text": [
            "[148, 350, 102]\n",
            "[1846, 1317, 14]\n",
            "[321, 407, 549]\n",
            "[1187, 1309, 336]\n",
            "[703, 260, 851]\n",
            "[1000, 1632, 1418]\n",
            "[336, 922, 130]\n",
            "[1935, 1358, 1650]\n",
            "[1536, 5, 882]\n",
            "[413, 1069, 1821]\n"
          ]
        },
        {
          "output_type": "stream",
          "name": "stderr",
          "text": [
            " 73% (366 of 500) |################      | Elapsed Time: 0:00:07 ETA:   0:00:02"
          ]
        },
        {
          "output_type": "stream",
          "name": "stdout",
          "text": [
            "[632, 1516, 1318]\n",
            "[600, 827, 1764]\n",
            "[849, 1143, 1047]\n",
            "[298, 1542, 1672]\n",
            "[1586, 846, 1242]\n",
            "[880, 977, 648]\n",
            "[1339, 1976, 1022]\n",
            "[1416, 277, 383]\n",
            "[461, 1781, 1418]\n",
            "[132, 1936, 994]\n"
          ]
        },
        {
          "output_type": "stream",
          "name": "stderr",
          "text": [
            " 74% (374 of 500) |################      | Elapsed Time: 0:00:07 ETA:   0:00:02"
          ]
        },
        {
          "output_type": "stream",
          "name": "stdout",
          "text": [
            "[827, 1198, 738]\n",
            "[1121, 24, 1040]\n",
            "[1601, 84, 1924]\n",
            "[880, 1332, 922]\n",
            "[84, 835, 1647]\n",
            "[1410, 728, 1521]\n",
            "[1904, 950, 785]\n",
            "[723, 356, 1512]\n",
            "[164, 69, 259]\n",
            "[1769, 1950, 40]\n",
            "[868, 1065, 325]\n"
          ]
        },
        {
          "output_type": "stream",
          "name": "stderr",
          "text": [
            " 77% (386 of 500) |################      | Elapsed Time: 0:00:07 ETA:   0:00:02"
          ]
        },
        {
          "output_type": "stream",
          "name": "stdout",
          "text": [
            "[1673, 439, 1658]\n",
            "[1946, 1207, 1959]\n",
            "[1872, 1967, 1478]\n",
            "[443, 1380, 843]\n",
            "[1964, 1752, 481]\n",
            "[77, 1168, 1426]\n",
            "[1815, 1691, 1039]\n",
            "[1798, 1419, 185]\n",
            "[712, 1309, 1138]\n",
            "[1539, 798, 432]\n",
            "[1599, 1185, 1617]\n"
          ]
        },
        {
          "output_type": "stream",
          "name": "stderr",
          "text": [
            " 79% (397 of 500) |#################     | Elapsed Time: 0:00:08 ETA:   0:00:02"
          ]
        },
        {
          "output_type": "stream",
          "name": "stdout",
          "text": [
            "[167, 813, 607]\n",
            "[244, 921, 1077]\n",
            "[863, 257, 1697]\n",
            "[840, 602, 823]\n",
            "[1635, 1462, 598]\n",
            "[156, 397, 446]\n",
            "[669, 1432, 1406]\n",
            "[1691, 1039, 1762]\n",
            "[388, 122, 298]\n",
            "[1467, 92, 884]\n",
            "[274, 667, 1502]\n"
          ]
        },
        {
          "output_type": "stream",
          "name": "stderr",
          "text": [
            " 82% (412 of 500) |##################    | Elapsed Time: 0:00:08 ETA:   0:00:01"
          ]
        },
        {
          "output_type": "stream",
          "name": "stdout",
          "text": [
            "[1904, 1683, 65]\n",
            "[84, 1601, 682]\n",
            "[377, 478, 971]\n",
            "[169, 1388, 937]\n",
            "[1524, 1169, 1079]\n",
            "[1170, 768, 114]\n",
            "[594, 1159, 1893]\n",
            "[492, 1718, 1080]\n",
            "[275, 1471, 1015]\n",
            "[1152, 518, 1759]\n",
            "[1156, 1189, 384]\n"
          ]
        },
        {
          "output_type": "stream",
          "name": "stderr",
          "text": [
            " 84% (423 of 500) |##################    | Elapsed Time: 0:00:08 ETA:   0:00:01"
          ]
        },
        {
          "output_type": "stream",
          "name": "stdout",
          "text": [
            "[347, 691, 1463]\n",
            "[583, 1788, 1064]\n",
            "[1233, 3, 903]\n",
            "[526, 223, 365]\n",
            "[884, 790, 818]\n",
            "[181, 248, 853]\n",
            "[1551, 102, 825]\n",
            "[378, 1332, 1505]\n",
            "[1198, 641, 1285]\n",
            "[1196, 1870, 1852]\n",
            "[1021, 1804, 238]\n"
          ]
        },
        {
          "output_type": "stream",
          "name": "stderr",
          "text": [
            "\r                                                                               \r\r 85% (429 of 500) |##################    | Elapsed Time: 0:00:08 ETA:   0:00:01"
          ]
        },
        {
          "output_type": "stream",
          "name": "stdout",
          "text": [
            "[147, 1546, 1033]\n",
            "[1233, 14, 1962]\n",
            "[605, 1036, 1060]\n",
            "[118, 884, 1889]\n",
            "[379, 73, 68]\n",
            "[1308, 1647, 1832]\n",
            "[73, 177, 799]\n",
            "[1321, 1836, 510]\n",
            "[1636, 1475, 395]\n",
            "[1155, 36, 1434]\n",
            "[1170, 813, 879]\n"
          ]
        },
        {
          "output_type": "stream",
          "name": "stderr",
          "text": [
            " 88% (444 of 500) |###################   | Elapsed Time: 0:00:08 ETA:   0:00:01"
          ]
        },
        {
          "output_type": "stream",
          "name": "stdout",
          "text": [
            "[1894, 368, 1763]\n",
            "[1198, 1091, 641]\n",
            "[341, 1221, 1755]\n",
            "[972, 1770, 687]\n",
            "[1200, 444, 1765]\n",
            "[133, 261, 451]\n",
            "[241, 383, 600]\n",
            "[592, 1732, 1259]\n",
            "[37, 239, 858]\n",
            "[1391, 327, 355]\n",
            "[56, 929, 757]\n"
          ]
        },
        {
          "output_type": "stream",
          "name": "stderr",
          "text": [
            " 91% (455 of 500) |####################  | Elapsed Time: 0:00:09 ETA:   0:00:00"
          ]
        },
        {
          "output_type": "stream",
          "name": "stdout",
          "text": [
            "[1599, 1327, 1548]\n",
            "[1432, 1585, 614]\n",
            "[967, 1528, 55]\n",
            "[1138, 1703, 1746]\n",
            "[192, 395, 606]\n",
            "[669, 1721, 714]\n",
            "[1821, 1001, 1808]\n",
            "[920, 1252, 1349]\n",
            "[1293, 58, 1316]\n",
            "[536, 1969, 1395]\n",
            "[481, 1389, 542]\n"
          ]
        },
        {
          "output_type": "stream",
          "name": "stderr",
          "text": [
            " 92% (463 of 500) |####################  | Elapsed Time: 0:00:09 ETA:   0:00:00"
          ]
        },
        {
          "output_type": "stream",
          "name": "stdout",
          "text": [
            "[1277, 571, 1399]\n",
            "[1118, 1859, 359]\n",
            "[1159, 725, 1004]\n",
            "[1907, 206, 1516]\n",
            "[210, 1601, 1233]\n",
            "[557, 58, 1680]\n",
            "[1842, 1530, 1542]\n",
            "[924, 83, 259]\n",
            "[132, 891, 1014]\n",
            "[851, 1223, 1280]\n"
          ]
        },
        {
          "output_type": "stream",
          "name": "stderr",
          "text": [
            " 94% (474 of 500) |####################  | Elapsed Time: 0:00:09 ETA:   0:00:00"
          ]
        },
        {
          "output_type": "stream",
          "name": "stdout",
          "text": [
            "[423, 1475, 1636]\n",
            "[841, 990, 718]\n",
            "[1892, 984, 710]\n",
            "[90, 225, 1859]\n",
            "[123, 1736, 1373]\n",
            "[1684, 1638, 916]\n",
            "[1068, 1726, 621]\n",
            "[604, 714, 1432]\n",
            "[384, 1156, 1193]\n",
            "[929, 1838, 1414]\n",
            "[1442, 1132, 1845]\n"
          ]
        },
        {
          "output_type": "stream",
          "name": "stderr",
          "text": [
            " 97% (486 of 500) |##################### | Elapsed Time: 0:00:09 ETA:   0:00:00"
          ]
        },
        {
          "output_type": "stream",
          "name": "stdout",
          "text": [
            "[1077, 1623, 1038]\n",
            "[1199, 1394, 54]\n",
            "[761, 829, 1476]\n",
            "[1357, 75, 219]\n",
            "[1969, 536, 279]\n",
            "[1387, 1024, 940]\n",
            "[1753, 394, 183]\n",
            "[1534, 550, 689]\n",
            "[1915, 1219, 1463]\n",
            "[1032, 1494, 1640]\n",
            "[117, 162, 1309]\n"
          ]
        },
        {
          "output_type": "stream",
          "name": "stderr",
          "text": [
            " 99% (498 of 500) |##################### | Elapsed Time: 0:00:10 ETA:   0:00:00"
          ]
        },
        {
          "output_type": "stream",
          "name": "stdout",
          "text": [
            "[99, 656, 1701]\n",
            "[259, 702, 69]\n",
            "[371, 1378, 1526]\n",
            "[1284, 1363, 1357]\n",
            "[785, 950, 1230]\n",
            "[1126, 977, 639]\n",
            "[1570, 1213, 218]\n",
            "[1783, 1910, 1122]\n",
            "[470, 1713, 874]\n",
            "[223, 365, 1795]\n",
            "[77, 1137, 1664]\n"
          ]
        },
        {
          "output_type": "stream",
          "name": "stderr",
          "text": [
            "\r                                                                               \r\r100% (500 of 500) |######################| Elapsed Time: 0:00:10 Time:  0:00:10\n"
          ]
        },
        {
          "output_type": "stream",
          "name": "stdout",
          "text": [
            "[1577, 1697, 863]\n",
            "('Error of nearest neighbor classifier with Euclidean distance: ', 0.8)\n",
            "('Classification time (seconds) with Euclidean distance: ', 10.11099910736084)\n"
          ]
        }
      ]
    },
    {
      "cell_type": "markdown",
      "metadata": {
        "id": "mZRZqAd2D-6D"
      },
      "source": [
        "## 3. Different distance metrics\n",
        "\n",
        "So far, we have been using the Euclidean distance. In this section, let's try the Manhattan distance. You will also design a distance function and report the results.\n",
        "\n",
        "Recall that the Manhattan distance (a.k.a. $\\ell_1$-norm) is given by:\n",
        "$$\\|x - y\\|_1 = {\\sum_{i=1}^d |x_i - y_i|}.$$\n",
        "\n",
        "**Task P2.5: Complete the definition of `manh_dist` and report the outputs of the following code and copy them to the problem set solution file.**"
      ]
    },
    {
      "cell_type": "code",
      "metadata": {
        "id": "aU09hQEAD-6E",
        "colab": {
          "base_uri": "https://localhost:8080/"
        },
        "outputId": "16e03c2d-e571-420f-baa8-64fce32124d5"
      },
      "source": [
        "## Computes Manhattan distance between two vectors.\n",
        "def manh_dist(x,y):\n",
        "    # input:\n",
        "    # x, y: vectorization of an image of size 28 by 28\n",
        "    # output:\n",
        "    # the distance between the two vectors\n",
        "    \n",
        "    ### STUDENT: YOUR CODE HERE\n",
        "    ## TODO\n",
        "    return sum(abs(val1-val2) for val1, val2 in zip(a,b))\n",
        "\n",
        "    ### CODE ENDS\n",
        "\n",
        "pbar = ProgressBar() # to show progress\n",
        "## Predict on each test data point (and time it!)\n",
        "t_before = time.time()\n",
        "test_predictions = np.zeros(len(test_labels))\n",
        "for i in pbar(range(len(test_labels))):   \n",
        "    test_predictions[i] = KNN_classifier(test_data[i,],train_data,train_labels,3,manh_dist)\n",
        "    \n",
        "t_after = time.time()\n",
        "\n",
        "## Compute the error\n",
        "err_positions = np.not_equal(test_predictions, test_labels)\n",
        "error = float(np.sum(err_positions))/len(test_labels)\n",
        "\n",
        "print(\"Error of nearest neighbor classifier with Manhattan distance: \", error)\n",
        "print(\"Classification time (seconds) with Manhattan distance: \", t_after - t_before)"
      ],
      "execution_count": 285,
      "outputs": [
        {
          "output_type": "stream",
          "name": "stderr",
          "text": [
            "  2% (13 of 500) |                       | Elapsed Time: 0:00:00 ETA:   0:00:05"
          ]
        },
        {
          "output_type": "stream",
          "name": "stdout",
          "text": [
            "[0, 1, 2]\n",
            "[0, 1, 2]\n",
            "[0, 1, 2]\n",
            "[0, 1, 2]\n",
            "[0, 1, 2]\n",
            "[0, 1, 2]\n",
            "[0, 1, 2]\n",
            "[0, 1, 2]\n",
            "[0, 1, 2]\n",
            "[0, 1, 2]\n",
            "[0, 1, 2]\n",
            "[0, 1, 2]\n",
            "[0, 1, 2]\n",
            "[0, 1, 2]\n",
            "[0, 1, 2]\n",
            "[0, 1, 2]\n",
            "[0, 1, 2]\n",
            "[0, 1, 2]\n",
            "[0, 1, 2]"
          ]
        },
        {
          "output_type": "stream",
          "name": "stderr",
          "text": [
            "  7% (38 of 500) |#                      | Elapsed Time: 0:00:00 ETA:   0:00:04"
          ]
        },
        {
          "output_type": "stream",
          "name": "stdout",
          "text": [
            "\n",
            "[0, 1, 2]\n",
            "[0, 1, 2]\n",
            "[0, 1, 2]\n",
            "[0, 1, 2]\n",
            "[0, 1, 2]\n",
            "[0, 1, 2]\n",
            "[0, 1, 2]\n",
            "[0, 1, 2]\n",
            "[0, 1, 2]\n",
            "[0, 1, 2]\n",
            "[0, 1, 2]\n",
            "[0, 1, 2]\n",
            "[0, 1, 2]\n",
            "[0, 1, 2]\n",
            "[0, 1, 2]\n",
            "[0, 1, 2]\n",
            "[0, 1, 2]\n",
            "[0, 1, 2]\n",
            "[0, 1, 2]\n",
            "[0, 1, 2]\n",
            "[0, 1, 2]\n",
            "[0, 1, 2]\n",
            "[0, 1, 2]\n"
          ]
        },
        {
          "output_type": "stream",
          "name": "stderr",
          "text": [
            " 11% (57 of 500) |##                     | Elapsed Time: 0:00:00 ETA:   0:00:04"
          ]
        },
        {
          "output_type": "stream",
          "name": "stdout",
          "text": [
            "[0, 1, 2]\n",
            "[0, 1, 2]\n",
            "[0, 1, 2]\n",
            "[0, 1, 2]\n",
            "[0, 1, 2]\n",
            "[0, 1, 2]\n",
            "[0, 1, 2]\n",
            "[0, 1, 2]\n",
            "[0, 1, 2]\n",
            "[0, 1, 2]\n",
            "[0, 1, 2]\n",
            "[0, 1, 2]\n",
            "[0, 1, 2]\n",
            "[0, 1, 2]\n",
            "[0, 1, 2]\n",
            "[0, 1, 2]\n",
            "[0, 1, 2]\n",
            "[0, 1, 2]\n",
            "[0, 1, 2]\n",
            "[0, 1, 2]\n",
            "[0, 1, 2]\n"
          ]
        },
        {
          "output_type": "stream",
          "name": "stderr",
          "text": [
            " 16% (83 of 500) |###                    | Elapsed Time: 0:00:00 ETA:   0:00:04"
          ]
        },
        {
          "output_type": "stream",
          "name": "stdout",
          "text": [
            "[0, 1, 2]\n",
            "[0, 1, 2]\n",
            "[0, 1, 2]\n",
            "[0, 1, 2]\n",
            "[0, 1, 2]\n",
            "[0, 1, 2]\n",
            "[0, 1, 2]\n",
            "[0, 1, 2]\n",
            "[0, 1, 2]\n",
            "[0, 1, 2]\n",
            "[0, 1, 2]\n",
            "[0, 1, 2]\n",
            "[0, 1, 2]\n",
            "[0, 1, 2]\n",
            "[0, 1, 2]\n",
            "[0, 1, 2]\n",
            "[0, 1, 2]\n",
            "[0, 1, 2]\n",
            "[0, 1, 2]\n",
            "[0, 1, 2]\n"
          ]
        },
        {
          "output_type": "stream",
          "name": "stderr",
          "text": [
            " 20% (102 of 500) |####                  | Elapsed Time: 0:00:01 ETA:   0:00:04"
          ]
        },
        {
          "output_type": "stream",
          "name": "stdout",
          "text": [
            "[0, 1, 2]\n",
            "[0, 1, 2]\n",
            "[0, 1, 2]\n",
            "[0, 1, 2]\n",
            "[0, 1, 2]\n",
            "[0, 1, 2]\n",
            "[0, 1, 2]\n",
            "[0, 1, 2]\n",
            "[0, 1, 2]\n",
            "[0, 1, 2]\n",
            "[0, 1, 2]\n",
            "[0, 1, 2]\n",
            "[0, 1, 2]\n",
            "[0, 1, 2]\n",
            "[0, 1, 2]\n",
            "[0, 1, 2]\n",
            "[0, 1, 2]\n",
            "[0, 1, 2]\n",
            "[0, 1, 2]\n",
            "[0, 1, 2]\n",
            "[0, 1, 2]\n",
            "[0, 1, 2]"
          ]
        },
        {
          "output_type": "stream",
          "name": "stderr",
          "text": [
            " 24% (121 of 500) |#####                 | Elapsed Time: 0:00:01 ETA:   0:00:03"
          ]
        },
        {
          "output_type": "stream",
          "name": "stdout",
          "text": [
            "\n",
            "[0, 1, 2]\n",
            "[0, 1, 2]\n",
            "[0, 1, 2]\n",
            "[0, 1, 2]\n",
            "[0, 1, 2]\n",
            "[0, 1, 2]\n",
            "[0, 1, 2]\n",
            "[0, 1, 2]\n",
            "[0, 1, 2]\n",
            "[0, 1, 2]\n",
            "[0, 1, 2]\n",
            "[0, 1, 2]\n",
            "[0, 1, 2]\n",
            "[0, 1, 2]\n",
            "[0, 1, 2]\n",
            "[0, 1, 2]\n",
            "[0, 1, 2]\n",
            "[0, 1, 2]\n",
            "[0, 1, 2]\n",
            "[0, 1, 2]\n",
            "[0, 1, 2]\n"
          ]
        },
        {
          "output_type": "stream",
          "name": "stderr",
          "text": [
            " 28% (140 of 500) |######                | Elapsed Time: 0:00:01 ETA:   0:00:03"
          ]
        },
        {
          "output_type": "stream",
          "name": "stdout",
          "text": [
            "[0, 1, 2]\n",
            "[0, 1, 2]\n",
            "[0, 1, 2]\n",
            "[0, 1, 2]\n",
            "[0, 1, 2]\n",
            "[0, 1, 2]\n",
            "[0, 1, 2]\n",
            "[0, 1, 2]\n",
            "[0, 1, 2]\n",
            "[0, 1, 2]\n",
            "[0, 1, 2]\n",
            "[0, 1, 2]\n",
            "[0, 1, 2]\n",
            "[0, 1, 2]\n",
            "[0, 1, 2]\n",
            "[0, 1, 2]\n",
            "[0, 1, 2]\n",
            "[0, 1, 2]\n",
            "[0, 1, 2]\n",
            "[0, 1, 2]\n",
            "[0, 1, 2]\n",
            "[0, 1, 2]\n",
            "[0, 1, 2]\n"
          ]
        },
        {
          "output_type": "stream",
          "name": "stderr",
          "text": [
            " 34% (171 of 500) |#######               | Elapsed Time: 0:00:01 ETA:   0:00:03"
          ]
        },
        {
          "output_type": "stream",
          "name": "stdout",
          "text": [
            "[0, 1, 2]\n",
            "[0, 1, 2]\n",
            "[0, 1, 2]\n",
            "[0, 1, 2]\n",
            "[0, 1, 2]\n",
            "[0, 1, 2]\n",
            "[0, 1, 2]\n",
            "[0, 1, 2]\n",
            "[0, 1, 2]\n",
            "[0, 1, 2]\n",
            "[0, 1, 2]\n",
            "[0, 1, 2]\n",
            "[0, 1, 2]\n",
            "[0, 1, 2]\n",
            "[0, 1, 2]\n",
            "[0, 1, 2]\n",
            "[0, 1, 2]\n",
            "[0, 1, 2]\n",
            "[0, 1, 2]\n",
            "[0, 1, 2]\n",
            "[0, 1, 2]\n",
            "[0, 1, 2]\n"
          ]
        },
        {
          "output_type": "stream",
          "name": "stderr",
          "text": [
            " 38% (190 of 500) |########              | Elapsed Time: 0:00:01 ETA:   0:00:03"
          ]
        },
        {
          "output_type": "stream",
          "name": "stdout",
          "text": [
            "[0, 1, 2]\n",
            "[0, 1, 2]\n",
            "[0, 1, 2]\n",
            "[0, 1, 2]\n",
            "[0, 1, 2]\n",
            "[0, 1, 2]\n",
            "[0, 1, 2]\n",
            "[0, 1, 2]\n",
            "[0, 1, 2]\n",
            "[0, 1, 2]\n",
            "[0, 1, 2]\n",
            "[0, 1, 2]\n",
            "[0, 1, 2]\n",
            "[0, 1, 2]\n",
            "[0, 1, 2]\n",
            "[0, 1, 2]\n",
            "[0, 1, 2]\n",
            "[0, 1, 2]\n",
            "[0, 1, 2]\n",
            "[0, 1, 2]\n",
            "[0, 1, 2]\n"
          ]
        },
        {
          "output_type": "stream",
          "name": "stderr",
          "text": [
            " 41% (209 of 500) |#########             | Elapsed Time: 0:00:02 ETA:   0:00:02"
          ]
        },
        {
          "output_type": "stream",
          "name": "stdout",
          "text": [
            "[0, 1, 2]\n",
            "[0, 1, 2]\n",
            "[0, 1, 2]\n",
            "[0, 1, 2]\n",
            "[0, 1, 2]\n",
            "[0, 1, 2]\n",
            "[0, 1, 2]\n",
            "[0, 1, 2]\n",
            "[0, 1, 2]\n",
            "[0, 1, 2]\n",
            "[0, 1, 2]\n",
            "[0, 1, 2]\n",
            "[0, 1, 2]\n",
            "[0, 1, 2]\n",
            "[0, 1, 2]\n",
            "[0, 1, 2]\n",
            "[0, 1, 2]\n",
            "[0, 1, 2]\n",
            "[0, 1, 2]\n",
            "[0, 1, 2]\n",
            "[0, 1, 2]\n",
            "[0, 1, 2]\n",
            "[0, 1, 2]\n"
          ]
        },
        {
          "output_type": "stream",
          "name": "stderr",
          "text": [
            " 48% (241 of 500) |##########            | Elapsed Time: 0:00:02 ETA:   0:00:02"
          ]
        },
        {
          "output_type": "stream",
          "name": "stdout",
          "text": [
            "[0, 1, 2]\n",
            "[0, 1, 2]\n",
            "[0, 1, 2]\n",
            "[0, 1, 2]\n",
            "[0, 1, 2]\n",
            "[0, 1, 2]\n",
            "[0, 1, 2]\n",
            "[0, 1, 2]\n",
            "[0, 1, 2]\n",
            "[0, 1, 2]\n",
            "[0, 1, 2]\n",
            "[0, 1, 2]\n",
            "[0, 1, 2]\n",
            "[0, 1, 2]\n",
            "[0, 1, 2]\n",
            "[0, 1, 2]\n",
            "[0, 1, 2]\n",
            "[0, 1, 2]\n",
            "[0, 1, 2]\n",
            "[0, 1, 2]\n",
            "[0, 1, 2]\n",
            "[0, 1, 2]\n",
            "[0, 1, 2]\n",
            "[0, 1, 2]\n",
            "[0, 1, 2]\n",
            "[0, 1, 2]\n",
            "[0, 1, 2]\n",
            "[0, 1, 2]\n",
            "[0, 1, 2]\n",
            "[0, 1, 2]\n",
            "[0, 1, 2]\n",
            "[0, 1, 2]\n"
          ]
        },
        {
          "output_type": "stream",
          "name": "stderr",
          "text": [
            " 53% (266 of 500) |###########           | Elapsed Time: 0:00:02 ETA:   0:00:02"
          ]
        },
        {
          "output_type": "stream",
          "name": "stdout",
          "text": [
            "[0, 1, 2]\n",
            "[0, 1, 2]\n",
            "[0, 1, 2]\n",
            "[0, 1, 2]\n",
            "[0, 1, 2]\n",
            "[0, 1, 2]\n",
            "[0, 1, 2]\n",
            "[0, 1, 2]\n",
            "[0, 1, 2]\n",
            "[0, 1, 2]\n",
            "[0, 1, 2]\n",
            "[0, 1, 2]\n",
            "[0, 1, 2]\n",
            "[0, 1, 2]\n",
            "[0, 1, 2]\n",
            "[0, 1, 2]\n",
            "[0, 1, 2]\n",
            "[0, 1, 2]\n",
            "[0, 1, 2]\n",
            "[0, 1, 2]\n",
            "[0, 1, 2]\n",
            "[0, 1, 2]\n",
            "[0, 1, 2]\n"
          ]
        },
        {
          "output_type": "stream",
          "name": "stderr",
          "text": [
            " 58% (292 of 500) |############          | Elapsed Time: 0:00:02 ETA:   0:00:01"
          ]
        },
        {
          "output_type": "stream",
          "name": "stdout",
          "text": [
            "[0, 1, 2]\n",
            "[0, 1, 2]\n",
            "[0, 1, 2]\n",
            "[0, 1, 2]\n",
            "[0, 1, 2]\n",
            "[0, 1, 2]\n",
            "[0, 1, 2]\n",
            "[0, 1, 2]\n",
            "[0, 1, 2]\n",
            "[0, 1, 2]\n",
            "[0, 1, 2]\n",
            "[0, 1, 2]\n",
            "[0, 1, 2]\n",
            "[0, 1, 2]\n",
            "[0, 1, 2]\n",
            "[0, 1, 2]\n",
            "[0, 1, 2]\n",
            "[0, 1, 2]\n",
            "[0, 1, 2]\n",
            "[0, 1, 2]\n",
            "[0, 1, 2]\n",
            "[0, 1, 2]\n",
            "[0, 1, 2]\n",
            "[0, 1, 2]\n"
          ]
        },
        {
          "output_type": "stream",
          "name": "stderr",
          "text": [
            " 63% (317 of 500) |#############         | Elapsed Time: 0:00:03 ETA:   0:00:01"
          ]
        },
        {
          "output_type": "stream",
          "name": "stdout",
          "text": [
            "[0, 1, 2]\n",
            "[0, 1, 2]\n",
            "[0, 1, 2]\n",
            "[0, 1, 2]\n",
            "[0, 1, 2]\n",
            "[0, 1, 2]\n",
            "[0, 1, 2]\n",
            "[0, 1, 2]\n",
            "[0, 1, 2]\n",
            "[0, 1, 2]\n",
            "[0, 1, 2]\n",
            "[0, 1, 2]\n",
            "[0, 1, 2]\n",
            "[0, 1, 2]\n",
            "[0, 1, 2]\n",
            "[0, 1, 2]\n",
            "[0, 1, 2]\n",
            "[0, 1, 2]\n",
            "[0, 1, 2]\n",
            "[0, 1, 2]\n",
            "[0, 1, 2]\n",
            "[0, 1, 2]\n",
            "[0, 1, 2]\n"
          ]
        },
        {
          "output_type": "stream",
          "name": "stderr",
          "text": [
            " 67% (336 of 500) |##############        | Elapsed Time: 0:00:03 ETA:   0:00:01"
          ]
        },
        {
          "output_type": "stream",
          "name": "stdout",
          "text": [
            "[0, 1, 2]\n",
            "[0, 1, 2]\n",
            "[0, 1, 2]\n",
            "[0, 1, 2]\n",
            "[0, 1, 2]\n",
            "[0, 1, 2]\n",
            "[0, 1, 2]\n",
            "[0, 1, 2]\n",
            "[0, 1, 2]\n",
            "[0, 1, 2]\n",
            "[0, 1, 2]\n",
            "[0, 1, 2]\n",
            "[0, 1, 2]\n",
            "[0, 1, 2]\n",
            "[0, 1, 2]\n",
            "[0, 1, 2]\n",
            "[0, 1, 2]\n",
            "[0, 1, 2]\n",
            "[0, 1, 2]\n",
            "[0, 1, 2]\n",
            "[0, 1, 2]\n",
            "[0, 1, 2]\n",
            "[0, 1, 2]\n",
            "[0, 1, 2]\n",
            "[0, 1, 2]\n"
          ]
        },
        {
          "output_type": "stream",
          "name": "stderr",
          "text": [
            " 73% (368 of 500) |################      | Elapsed Time: 0:00:03 ETA:   0:00:01"
          ]
        },
        {
          "output_type": "stream",
          "name": "stdout",
          "text": [
            "[0, 1, 2]\n",
            "[0, 1, 2]\n",
            "[0, 1, 2]\n",
            "[0, 1, 2]\n",
            "[0, 1, 2]\n",
            "[0, 1, 2]\n",
            "[0, 1, 2]\n",
            "[0, 1, 2]\n",
            "[0, 1, 2]\n",
            "[0, 1, 2]\n",
            "[0, 1, 2]\n",
            "[0, 1, 2]\n",
            "[0, 1, 2]\n",
            "[0, 1, 2]\n",
            "[0, 1, 2]\n",
            "[0, 1, 2]\n",
            "[0, 1, 2]\n",
            "[0, 1, 2]\n",
            "[0, 1, 2]\n",
            "[0, 1, 2]\n",
            "[0, 1, 2]\n",
            "[0, 1, 2]\n",
            "[0, 1, 2]\n",
            "[0, 1, 2]\n",
            "[0, 1, 2]\n",
            "[0, 1, 2]\n"
          ]
        },
        {
          "output_type": "stream",
          "name": "stderr",
          "text": [
            " 77% (387 of 500) |#################     | Elapsed Time: 0:00:03 ETA:   0:00:00"
          ]
        },
        {
          "output_type": "stream",
          "name": "stdout",
          "text": [
            "[0, 1, 2]\n",
            "[0, 1, 2]\n",
            "[0, 1, 2]\n",
            "[0, 1, 2]\n",
            "[0, 1, 2]\n",
            "[0, 1, 2]\n",
            "[0, 1, 2]\n",
            "[0, 1, 2]\n",
            "[0, 1, 2]\n",
            "[0, 1, 2]\n",
            "[0, 1, 2]\n",
            "[0, 1, 2]\n",
            "[0, 1, 2]\n",
            "[0, 1, 2]\n",
            "[0, 1, 2]\n",
            "[0, 1, 2]\n",
            "[0, 1, 2]\n",
            "[0, 1, 2]\n",
            "[0, 1, 2]\n",
            "[0, 1, 2]\n",
            "[0, 1, 2]\n",
            "[0, 1, 2]\n",
            "[0, 1, 2]\n",
            "[0, 1, 2]\n",
            "[0, 1, 2]\n",
            "[0, 1, 2]\n",
            "[0, 1, 2]\n",
            "[0, 1, 2]\n",
            "[0, 1, 2]\n",
            "[0, 1, 2]\n"
          ]
        },
        {
          "output_type": "stream",
          "name": "stderr",
          "text": [
            " 83% (418 of 500) |##################    | Elapsed Time: 0:00:03 ETA:   0:00:00"
          ]
        },
        {
          "output_type": "stream",
          "name": "stdout",
          "text": [
            "[0, 1, 2]\n",
            "[0, 1, 2]\n",
            "[0, 1, 2]\n",
            "[0, 1, 2]\n",
            "[0, 1, 2]\n",
            "[0, 1, 2]\n",
            "[0, 1, 2]\n",
            "[0, 1, 2]\n",
            "[0, 1, 2]\n",
            "[0, 1, 2]\n",
            "[0, 1, 2]\n",
            "[0, 1, 2]\n",
            "[0, 1, 2]\n",
            "[0, 1, 2]\n",
            "[0, 1, 2]\n",
            "[0, 1, 2]\n",
            "[0, 1, 2]\n",
            "[0, 1, 2]\n",
            "[0, 1, 2]\n",
            "[0, 1, 2]\n",
            "[0, 1, 2]\n",
            "[0, 1, 2]\n"
          ]
        },
        {
          "output_type": "stream",
          "name": "stderr",
          "text": [
            " 87% (437 of 500) |###################   | Elapsed Time: 0:00:04 ETA:   0:00:00"
          ]
        },
        {
          "output_type": "stream",
          "name": "stdout",
          "text": [
            "[0, 1, 2]\n",
            "[0, 1, 2]\n",
            "[0, 1, 2]\n",
            "[0, 1, 2]\n",
            "[0, 1, 2]\n",
            "[0, 1, 2]\n",
            "[0, 1, 2]\n",
            "[0, 1, 2]\n",
            "[0, 1, 2]\n",
            "[0, 1, 2]\n",
            "[0, 1, 2]\n",
            "[0, 1, 2]\n",
            "[0, 1, 2]\n",
            "[0, 1, 2]\n",
            "[0, 1, 2]\n",
            "[0, 1, 2]\n",
            "[0, 1, 2]\n",
            "[0, 1, 2]\n",
            "[0, 1, 2]\n",
            "[0, 1, 2]\n"
          ]
        },
        {
          "output_type": "stream",
          "name": "stderr",
          "text": [
            " 91% (456 of 500) |####################  | Elapsed Time: 0:00:04 ETA:   0:00:00"
          ]
        },
        {
          "output_type": "stream",
          "name": "stdout",
          "text": [
            "[0, 1, 2]\n",
            "[0, 1, 2]\n",
            "[0, 1, 2]\n",
            "[0, 1, 2]\n",
            "[0, 1, 2]\n",
            "[0, 1, 2]\n",
            "[0, 1, 2]\n",
            "[0, 1, 2]\n",
            "[0, 1, 2]\n",
            "[0, 1, 2]\n",
            "[0, 1, 2]\n",
            "[0, 1, 2]\n",
            "[0, 1, 2]\n",
            "[0, 1, 2]\n",
            "[0, 1, 2]\n",
            "[0, 1, 2]\n",
            "[0, 1, 2]\n",
            "[0, 1, 2]\n",
            "[0, 1, 2]\n",
            "[0, 1, 2]\n"
          ]
        },
        {
          "output_type": "stream",
          "name": "stderr",
          "text": [
            " 96% (482 of 500) |##################### | Elapsed Time: 0:00:04 ETA:   0:00:00"
          ]
        },
        {
          "output_type": "stream",
          "name": "stdout",
          "text": [
            "[0, 1, 2]\n",
            "[0, 1, 2]\n",
            "[0, 1, 2]\n",
            "[0, 1, 2]\n",
            "[0, 1, 2]\n",
            "[0, 1, 2]\n",
            "[0, 1, 2]\n",
            "[0, 1, 2]\n",
            "[0, 1, 2]\n",
            "[0, 1, 2]\n",
            "[0, 1, 2]\n",
            "[0, 1, 2]\n",
            "[0, 1, 2]\n",
            "[0, 1, 2]\n",
            "[0, 1, 2]\n",
            "[0, 1, 2]\n",
            "[0, 1, 2]\n",
            "[0, 1, 2]\n",
            "[0, 1, 2]\n",
            "[0, 1, 2]\n",
            "[0, 1, 2]\n",
            "[0, 1, 2]\n",
            "[0, 1, 2]\n",
            "[0, 1, 2]\n",
            "[0, 1, 2]\n",
            "[0, 1, 2]\n",
            "[0, 1, 2]\n"
          ]
        },
        {
          "output_type": "stream",
          "name": "stderr",
          "text": [
            "100% (500 of 500) |######################| Elapsed Time: 0:00:04 Time:  0:00:04\n"
          ]
        },
        {
          "output_type": "stream",
          "name": "stdout",
          "text": [
            "[0, 1, 2]\n",
            "[0, 1, 2]\n",
            "[0, 1, 2]\n",
            "[0, 1, 2]\n",
            "[0, 1, 2]\n",
            "[0, 1, 2]\n",
            "[0, 1, 2]\n",
            "[0, 1, 2]\n",
            "[0, 1, 2]\n",
            "[0, 1, 2]\n",
            "[0, 1, 2]\n",
            "[0, 1, 2]\n",
            "[0, 1, 2]\n",
            "('Error of nearest neighbor classifier with Manhattan distance: ', 0.894)\n",
            "('Classification time (seconds) with Manhattan distance: ', 4.698405027389526)\n"
          ]
        }
      ]
    },
    {
      "cell_type": "markdown",
      "metadata": {
        "id": "be6EpV71D-6E"
      },
      "source": [
        "**Task P2.6: Define your own distance function and write down the mathematical definition. Copy the code and the result to the problem set solution file. (2 bonus point) Can you improve over the Euclidean distance?**"
      ]
    },
    {
      "cell_type": "code",
      "metadata": {
        "id": "LqeWTxc2D-6F"
      },
      "source": [
        "## Compute a distance metric of your design\n",
        "def my_dist(x,y):\n",
        "    s = 0\n",
        "    ar = []\n",
        "    for ix, iy in zip(x, y):\n",
        "      ar.append(abs(ix-iy))\n",
        "    return max(ar)\n",
        "    \n",
        "\n",
        "# my_dist(np.array([0, 1, 3, 10]), np.array([0, 2, 3, 4]))"
      ],
      "execution_count": 279,
      "outputs": []
    },
    {
      "cell_type": "code",
      "metadata": {
        "id": "CowZGXnoD-6F",
        "colab": {
          "base_uri": "https://localhost:8080/"
        },
        "outputId": "19902f0f-5291-4fca-c4c2-d00c842da0d6"
      },
      "source": [
        "pbar = ProgressBar() # to show progress\n",
        "## Predict on each test data point (and time it!)\n",
        "t_before = time.time()\n",
        "test_predictions = np.zeros(len(test_labels))\n",
        "for i in pbar(range(len(test_labels))):   \n",
        "  # print(test_data[i,])\n",
        "    test_predictions[i] = KNN_classifier(test_data[i,],train_data,train_labels,3,my_dist)\n",
        "\n",
        "t_after = time.time()\n",
        "\n",
        "## Compute the error\n",
        "err_positions = np.not_equal(test_predictions, test_labels)\n",
        "error = float(np.sum(err_positions))/len(test_labels)\n",
        "\n",
        "print(\"Error of nearest neighbor classifier with the new distance: \", error)\n",
        "print(\"Classification time (seconds) with the new distance: \", t_after - t_before)"
      ],
      "execution_count": null,
      "outputs": [
        {
          "output_type": "stream",
          "name": "stderr",
          "text": [
            "  0% (1 of 500) |                        | Elapsed Time: 0:00:00 ETA:   0:04:21"
          ]
        },
        {
          "output_type": "stream",
          "name": "stdout",
          "text": [
            "[249, 1010, 1229]\n"
          ]
        },
        {
          "output_type": "stream",
          "name": "stderr",
          "text": [
            "\r                                                                               \r\r  0% (2 of 500) |                        | Elapsed Time: 0:00:01 ETA:   0:04:22"
          ]
        },
        {
          "output_type": "stream",
          "name": "stdout",
          "text": [
            "[292, 439, 785]\n"
          ]
        },
        {
          "output_type": "stream",
          "name": "stderr",
          "text": [
            "\r                                                                               \r\r  0% (3 of 500) |                        | Elapsed Time: 0:00:01 ETA:   0:04:21"
          ]
        },
        {
          "output_type": "stream",
          "name": "stdout",
          "text": [
            "[757, 1414, 2]\n"
          ]
        },
        {
          "output_type": "stream",
          "name": "stderr",
          "text": [
            "\r                                                                               \r\r  0% (4 of 500) |                        | Elapsed Time: 0:00:02 ETA:   0:04:20"
          ]
        },
        {
          "output_type": "stream",
          "name": "stdout",
          "text": [
            "[2, 7, 17]\n"
          ]
        },
        {
          "output_type": "stream",
          "name": "stderr",
          "text": [
            "\r                                                                               \r\r  1% (5 of 500) |                        | Elapsed Time: 0:00:02 ETA:   0:04:21"
          ]
        },
        {
          "output_type": "stream",
          "name": "stdout",
          "text": [
            "[2, 7, 20]\n"
          ]
        },
        {
          "output_type": "stream",
          "name": "stderr",
          "text": [
            "\r                                                                               \r\r  1% (6 of 500) |                        | Elapsed Time: 0:00:03 ETA:   0:04:18"
          ]
        },
        {
          "output_type": "stream",
          "name": "stdout",
          "text": [
            "[1405, 1592, 0]\n"
          ]
        },
        {
          "output_type": "stream",
          "name": "stderr",
          "text": [
            "\r                                                                               \r\r  1% (7 of 500) |                        | Elapsed Time: 0:00:03 ETA:   0:04:18"
          ]
        },
        {
          "output_type": "stream",
          "name": "stdout",
          "text": [
            "[171, 95, 134]\n"
          ]
        },
        {
          "output_type": "stream",
          "name": "stderr",
          "text": [
            "\r                                                                               \r\r  1% (8 of 500) |                        | Elapsed Time: 0:00:04 ETA:   0:04:17"
          ]
        },
        {
          "output_type": "stream",
          "name": "stdout",
          "text": [
            "[11, 16, 20]\n"
          ]
        },
        {
          "output_type": "stream",
          "name": "stderr",
          "text": [
            "\r                                                                               \r\r  1% (9 of 500) |                        | Elapsed Time: 0:00:04 ETA:   0:04:17"
          ]
        },
        {
          "output_type": "stream",
          "name": "stdout",
          "text": [
            "[1081, 556, 687]\n"
          ]
        },
        {
          "output_type": "stream",
          "name": "stderr",
          "text": [
            "\r                                                                               \r\r  2% (10 of 500) |                       | Elapsed Time: 0:00:05 ETA:   0:04:17"
          ]
        },
        {
          "output_type": "stream",
          "name": "stdout",
          "text": [
            "[715, 2, 5]\n"
          ]
        },
        {
          "output_type": "stream",
          "name": "stderr",
          "text": [
            "\r                                                                               \r\r  2% (11 of 500) |                       | Elapsed Time: 0:00:05 ETA:   0:04:16"
          ]
        },
        {
          "output_type": "stream",
          "name": "stdout",
          "text": [
            "[563, 1413, 1705]\n"
          ]
        },
        {
          "output_type": "stream",
          "name": "stderr",
          "text": [
            "\r                                                                               \r\r  2% (12 of 500) |                       | Elapsed Time: 0:00:06 ETA:   0:04:16"
          ]
        },
        {
          "output_type": "stream",
          "name": "stdout",
          "text": [
            "[173, 226, 250]\n"
          ]
        },
        {
          "output_type": "stream",
          "name": "stderr",
          "text": [
            "\r                                                                               \r\r  2% (13 of 500) |                       | Elapsed Time: 0:00:06 ETA:   0:04:15"
          ]
        },
        {
          "output_type": "stream",
          "name": "stdout",
          "text": [
            "[564, 784, 1542]\n"
          ]
        },
        {
          "output_type": "stream",
          "name": "stderr",
          "text": [
            "\r                                                                               \r\r  2% (14 of 500) |                       | Elapsed Time: 0:00:07 ETA:   0:04:16"
          ]
        },
        {
          "output_type": "stream",
          "name": "stdout",
          "text": [
            "[11, 28, 32]\n"
          ]
        },
        {
          "output_type": "stream",
          "name": "stderr",
          "text": [
            "\r                                                                               \r\r  3% (15 of 500) |                       | Elapsed Time: 0:00:07 ETA:   0:04:15"
          ]
        },
        {
          "output_type": "stream",
          "name": "stdout",
          "text": [
            "[1431, 16, 18]\n"
          ]
        },
        {
          "output_type": "stream",
          "name": "stderr",
          "text": [
            "\r                                                                               \r\r  3% (16 of 500) |                       | Elapsed Time: 0:00:08 ETA:   0:04:14"
          ]
        },
        {
          "output_type": "stream",
          "name": "stdout",
          "text": [
            "[2, 7, 92]\n"
          ]
        },
        {
          "output_type": "stream",
          "name": "stderr",
          "text": [
            "\r                                                                               \r\r  3% (17 of 500) |                       | Elapsed Time: 0:00:08 ETA:   0:04:13"
          ]
        },
        {
          "output_type": "stream",
          "name": "stdout",
          "text": [
            "[17, 178, 201]\n"
          ]
        },
        {
          "output_type": "stream",
          "name": "stderr",
          "text": [
            "\r                                                                               \r\r  3% (18 of 500) |                       | Elapsed Time: 0:00:09 ETA:   0:04:11"
          ]
        },
        {
          "output_type": "stream",
          "name": "stdout",
          "text": [
            "[20, 25, 45]\n"
          ]
        },
        {
          "output_type": "stream",
          "name": "stderr",
          "text": [
            "\r                                                                               \r\r  3% (19 of 500) |                       | Elapsed Time: 0:00:09 ETA:   0:04:10"
          ]
        },
        {
          "output_type": "stream",
          "name": "stdout",
          "text": [
            "[324, 339, 963]\n"
          ]
        },
        {
          "output_type": "stream",
          "name": "stderr",
          "text": [
            "\r                                                                               \r\r  4% (20 of 500) |                       | Elapsed Time: 0:00:10 ETA:   0:04:10"
          ]
        },
        {
          "output_type": "stream",
          "name": "stdout",
          "text": [
            "[5, 78, 82]\n"
          ]
        },
        {
          "output_type": "stream",
          "name": "stderr",
          "text": [
            "\r                                                                               \r\r  4% (21 of 500) |                       | Elapsed Time: 0:00:11 ETA:   0:04:10"
          ]
        },
        {
          "output_type": "stream",
          "name": "stdout",
          "text": [
            "[72, 81, 167]\n"
          ]
        },
        {
          "output_type": "stream",
          "name": "stderr",
          "text": [
            "\r                                                                               \r\r  4% (22 of 500) |#                      | Elapsed Time: 0:00:11 ETA:   0:04:11"
          ]
        },
        {
          "output_type": "stream",
          "name": "stdout",
          "text": [
            "[35, 324, 349]\n"
          ]
        },
        {
          "output_type": "stream",
          "name": "stderr",
          "text": [
            "\r                                                                               \r\r  4% (23 of 500) |#                      | Elapsed Time: 0:00:12 ETA:   0:04:11"
          ]
        },
        {
          "output_type": "stream",
          "name": "stdout",
          "text": [
            "[0, 1, 2]\n"
          ]
        },
        {
          "output_type": "stream",
          "name": "stderr",
          "text": [
            "\r                                                                               \r\r  4% (24 of 500) |#                      | Elapsed Time: 0:00:12 ETA:   0:04:11"
          ]
        },
        {
          "output_type": "stream",
          "name": "stdout",
          "text": [
            "[744, 2, 18]\n"
          ]
        },
        {
          "output_type": "stream",
          "name": "stderr",
          "text": [
            "\r                                                                               \r\r  5% (25 of 500) |#                      | Elapsed Time: 0:00:13 ETA:   0:04:10"
          ]
        },
        {
          "output_type": "stream",
          "name": "stdout",
          "text": [
            "[0, 1, 2]\n"
          ]
        },
        {
          "output_type": "stream",
          "name": "stderr",
          "text": [
            "\r                                                                               \r\r  5% (26 of 500) |#                      | Elapsed Time: 0:00:13 ETA:   0:04:11"
          ]
        },
        {
          "output_type": "stream",
          "name": "stdout",
          "text": [
            "[173, 221, 241]\n"
          ]
        },
        {
          "output_type": "stream",
          "name": "stderr",
          "text": [
            "\r                                                                               \r\r  5% (27 of 500) |#                      | Elapsed Time: 0:00:14 ETA:   0:04:08"
          ]
        },
        {
          "output_type": "stream",
          "name": "stdout",
          "text": [
            "[1696, 2, 7]\n"
          ]
        },
        {
          "output_type": "stream",
          "name": "stderr",
          "text": [
            "\r                                                                               \r\r  5% (28 of 500) |#                      | Elapsed Time: 0:00:14 ETA:   0:04:08"
          ]
        },
        {
          "output_type": "stream",
          "name": "stdout",
          "text": [
            "[1598, 2, 3]\n"
          ]
        },
        {
          "output_type": "stream",
          "name": "stderr",
          "text": [
            "\r                                                                               \r\r  5% (29 of 500) |#                      | Elapsed Time: 0:00:15 ETA:   0:04:06"
          ]
        },
        {
          "output_type": "stream",
          "name": "stdout",
          "text": [
            "[3, 67, 82]\n"
          ]
        },
        {
          "output_type": "stream",
          "name": "stderr",
          "text": [
            "\r                                                                               \r\r  6% (30 of 500) |#                      | Elapsed Time: 0:00:15 ETA:   0:04:05"
          ]
        },
        {
          "output_type": "stream",
          "name": "stdout",
          "text": [
            "[32, 63, 66]\n"
          ]
        },
        {
          "output_type": "stream",
          "name": "stderr",
          "text": [
            "\r                                                                               \r\r  6% (31 of 500) |#                      | Elapsed Time: 0:00:16 ETA:   0:04:05"
          ]
        },
        {
          "output_type": "stream",
          "name": "stdout",
          "text": [
            "[356, 829, 936]\n"
          ]
        },
        {
          "output_type": "stream",
          "name": "stderr",
          "text": [
            "\r                                                                               \r\r  6% (32 of 500) |#                      | Elapsed Time: 0:00:16 ETA:   0:04:05"
          ]
        },
        {
          "output_type": "stream",
          "name": "stdout",
          "text": [
            "[357, 427, 471]\n"
          ]
        },
        {
          "output_type": "stream",
          "name": "stderr",
          "text": [
            "\r                                                                               \r\r  6% (33 of 500) |#                      | Elapsed Time: 0:00:17 ETA:   0:04:05"
          ]
        },
        {
          "output_type": "stream",
          "name": "stdout",
          "text": [
            "[1065, 2, 78]\n"
          ]
        },
        {
          "output_type": "stream",
          "name": "stderr",
          "text": [
            "\r                                                                               \r\r  6% (34 of 500) |#                      | Elapsed Time: 0:00:17 ETA:   0:04:05"
          ]
        },
        {
          "output_type": "stream",
          "name": "stdout",
          "text": [
            "[0, 1, 2]\n"
          ]
        },
        {
          "output_type": "stream",
          "name": "stderr",
          "text": [
            "\r                                                                               \r\r  7% (35 of 500) |#                      | Elapsed Time: 0:00:18 ETA:   0:04:04"
          ]
        },
        {
          "output_type": "stream",
          "name": "stdout",
          "text": [
            "[297, 0, 1]\n"
          ]
        },
        {
          "output_type": "stream",
          "name": "stderr",
          "text": [
            "\r                                                                               \r\r  7% (36 of 500) |#                      | Elapsed Time: 0:00:18 ETA:   0:04:03"
          ]
        },
        {
          "output_type": "stream",
          "name": "stdout",
          "text": [
            "[1389, 3, 9]\n"
          ]
        },
        {
          "output_type": "stream",
          "name": "stderr",
          "text": [
            "\r                                                                               \r\r  7% (37 of 500) |#                      | Elapsed Time: 0:00:19 ETA:   0:04:04"
          ]
        },
        {
          "output_type": "stream",
          "name": "stdout",
          "text": [
            "[257, 422, 470]\n"
          ]
        },
        {
          "output_type": "stream",
          "name": "stderr",
          "text": [
            "\r                                                                               \r\r  7% (38 of 500) |#                      | Elapsed Time: 0:00:19 ETA:   0:04:04"
          ]
        },
        {
          "output_type": "stream",
          "name": "stdout",
          "text": [
            "[1773, 17, 25]\n"
          ]
        },
        {
          "output_type": "stream",
          "name": "stderr",
          "text": [
            "\r                                                                               \r\r  7% (39 of 500) |#                      | Elapsed Time: 0:00:20 ETA:   0:04:03"
          ]
        },
        {
          "output_type": "stream",
          "name": "stdout",
          "text": [
            "[1059, 1970, 1997]\n"
          ]
        },
        {
          "output_type": "stream",
          "name": "stderr",
          "text": [
            "\r                                                                               \r\r  8% (40 of 500) |#                      | Elapsed Time: 0:00:21 ETA:   0:04:02"
          ]
        },
        {
          "output_type": "stream",
          "name": "stdout",
          "text": [
            "[97, 201, 250]\n"
          ]
        },
        {
          "output_type": "stream",
          "name": "stderr",
          "text": [
            "\r                                                                               \r\r  8% (41 of 500) |#                      | Elapsed Time: 0:00:21 ETA:   0:04:00"
          ]
        },
        {
          "output_type": "stream",
          "name": "stdout",
          "text": [
            "[2, 6, 7]\n"
          ]
        },
        {
          "output_type": "stream",
          "name": "stderr",
          "text": [
            "\r                                                                               \r\r  8% (42 of 500) |#                      | Elapsed Time: 0:00:22 ETA:   0:03:59"
          ]
        },
        {
          "output_type": "stream",
          "name": "stdout",
          "text": [
            "[192, 1253, 2]\n"
          ]
        },
        {
          "output_type": "stream",
          "name": "stderr",
          "text": [
            "\r                                                                               \r\r  8% (43 of 500) |#                      | Elapsed Time: 0:00:22 ETA:   0:03:59"
          ]
        },
        {
          "output_type": "stream",
          "name": "stdout",
          "text": [
            "[20, 30, 47]\n"
          ]
        },
        {
          "output_type": "stream",
          "name": "stderr",
          "text": [
            "\r                                                                               \r\r  8% (44 of 500) |##                     | Elapsed Time: 0:00:23 ETA:   0:03:57"
          ]
        },
        {
          "output_type": "stream",
          "name": "stdout",
          "text": [
            "[326, 0, 13]\n"
          ]
        },
        {
          "output_type": "stream",
          "name": "stderr",
          "text": [
            "\r                                                                               \r\r  9% (45 of 500) |##                     | Elapsed Time: 0:00:23 ETA:   0:03:57"
          ]
        },
        {
          "output_type": "stream",
          "name": "stdout",
          "text": [
            "[31, 63, 97]\n"
          ]
        },
        {
          "output_type": "stream",
          "name": "stderr",
          "text": [
            "\r                                                                               \r\r  9% (46 of 500) |##                     | Elapsed Time: 0:00:24 ETA:   0:03:56"
          ]
        },
        {
          "output_type": "stream",
          "name": "stdout",
          "text": [
            "[2, 3, 5]\n"
          ]
        },
        {
          "output_type": "stream",
          "name": "stderr",
          "text": [
            "\r                                                                               \r\r  9% (47 of 500) |##                     | Elapsed Time: 0:00:24 ETA:   0:03:56"
          ]
        },
        {
          "output_type": "stream",
          "name": "stdout",
          "text": [
            "[32, 66, 136]\n"
          ]
        },
        {
          "output_type": "stream",
          "name": "stderr",
          "text": [
            "\r                                                                               \r\r  9% (48 of 500) |##                     | Elapsed Time: 0:00:25 ETA:   0:03:57"
          ]
        },
        {
          "output_type": "stream",
          "name": "stdout",
          "text": [
            "[25, 201, 657]\n"
          ]
        },
        {
          "output_type": "stream",
          "name": "stderr",
          "text": [
            "\r                                                                               \r\r  9% (49 of 500) |##                     | Elapsed Time: 0:00:25 ETA:   0:03:57"
          ]
        },
        {
          "output_type": "stream",
          "name": "stdout",
          "text": [
            "[716, 768, 1087]\n"
          ]
        },
        {
          "output_type": "stream",
          "name": "stderr",
          "text": [
            "\r                                                                               \r\r 10% (50 of 500) |##                     | Elapsed Time: 0:00:26 ETA:   0:03:56"
          ]
        },
        {
          "output_type": "stream",
          "name": "stdout",
          "text": [
            "[1192, 1862, 42]\n"
          ]
        },
        {
          "output_type": "stream",
          "name": "stderr",
          "text": [
            "\r                                                                               \r\r 10% (51 of 500) |##                     | Elapsed Time: 0:00:26 ETA:   0:03:57"
          ]
        },
        {
          "output_type": "stream",
          "name": "stdout",
          "text": [
            "[2, 5, 7]\n"
          ]
        },
        {
          "output_type": "stream",
          "name": "stderr",
          "text": [
            "\r                                                                               \r\r 10% (52 of 500) |##                     | Elapsed Time: 0:00:27 ETA:   0:03:54"
          ]
        },
        {
          "output_type": "stream",
          "name": "stdout",
          "text": [
            "[1929, 497, 684]\n"
          ]
        },
        {
          "output_type": "stream",
          "name": "stderr",
          "text": [
            "\r                                                                               \r\r 10% (53 of 500) |##                     | Elapsed Time: 0:00:27 ETA:   0:03:55"
          ]
        },
        {
          "output_type": "stream",
          "name": "stdout",
          "text": [
            "[9, 84, 97]\n"
          ]
        },
        {
          "output_type": "stream",
          "name": "stderr",
          "text": [
            "\r                                                                               \r\r 10% (54 of 500) |##                     | Elapsed Time: 0:00:28 ETA:   0:03:54"
          ]
        },
        {
          "output_type": "stream",
          "name": "stdout",
          "text": [
            "[153, 213, 1592]\n"
          ]
        },
        {
          "output_type": "stream",
          "name": "stderr",
          "text": [
            "\r                                                                               \r\r 11% (55 of 500) |##                     | Elapsed Time: 0:00:28 ETA:   0:03:52"
          ]
        },
        {
          "output_type": "stream",
          "name": "stdout",
          "text": [
            "[2, 7, 40]\n"
          ]
        },
        {
          "output_type": "stream",
          "name": "stderr",
          "text": [
            "\r                                                                               \r\r 11% (56 of 500) |##                     | Elapsed Time: 0:00:29 ETA:   0:03:55"
          ]
        },
        {
          "output_type": "stream",
          "name": "stdout",
          "text": [
            "[1065, 3, 16]\n"
          ]
        },
        {
          "output_type": "stream",
          "name": "stderr",
          "text": [
            "\r                                                                               \r\r 11% (57 of 500) |##                     | Elapsed Time: 0:00:29 ETA:   0:03:53"
          ]
        },
        {
          "output_type": "stream",
          "name": "stdout",
          "text": [
            "[422, 485, 1885]\n"
          ]
        },
        {
          "output_type": "stream",
          "name": "stderr",
          "text": [
            "\r                                                                               \r\r 11% (58 of 500) |##                     | Elapsed Time: 0:00:30 ETA:   0:03:54"
          ]
        },
        {
          "output_type": "stream",
          "name": "stdout",
          "text": [
            "[575, 1329, 1708]\n"
          ]
        },
        {
          "output_type": "stream",
          "name": "stderr",
          "text": [
            "\r                                                                               \r\r 11% (59 of 500) |##                     | Elapsed Time: 0:00:31 ETA:   0:03:55"
          ]
        },
        {
          "output_type": "stream",
          "name": "stdout",
          "text": [
            "[153, 403, 581]\n"
          ]
        },
        {
          "output_type": "stream",
          "name": "stderr",
          "text": [
            "\r                                                                               \r\r 12% (60 of 500) |##                     | Elapsed Time: 0:00:31 ETA:   0:03:51"
          ]
        },
        {
          "output_type": "stream",
          "name": "stdout",
          "text": [
            "[895, 1275, 2]\n"
          ]
        },
        {
          "output_type": "stream",
          "name": "stderr",
          "text": [
            "\r                                                                               \r\r 12% (61 of 500) |##                     | Elapsed Time: 0:00:32 ETA:   0:03:50"
          ]
        },
        {
          "output_type": "stream",
          "name": "stdout",
          "text": [
            "[40, 140, 191]\n"
          ]
        },
        {
          "output_type": "stream",
          "name": "stderr",
          "text": [
            "\r                                                                               \r\r 12% (62 of 500) |##                     | Elapsed Time: 0:00:32 ETA:   0:03:49"
          ]
        },
        {
          "output_type": "stream",
          "name": "stdout",
          "text": [
            "[528, 708, 834]\n"
          ]
        },
        {
          "output_type": "stream",
          "name": "stderr",
          "text": [
            "\r                                                                               \r\r 12% (63 of 500) |##                     | Elapsed Time: 0:00:33 ETA:   0:03:49"
          ]
        },
        {
          "output_type": "stream",
          "name": "stdout",
          "text": [
            "[604, 1880, 32]\n"
          ]
        },
        {
          "output_type": "stream",
          "name": "stderr",
          "text": [
            "\r                                                                               \r\r 12% (64 of 500) |##                     | Elapsed Time: 0:00:33 ETA:   0:03:49"
          ]
        },
        {
          "output_type": "stream",
          "name": "stdout",
          "text": [
            "[136, 173, 191]\n"
          ]
        },
        {
          "output_type": "stream",
          "name": "stderr",
          "text": [
            "\r                                                                               \r\r 13% (65 of 500) |##                     | Elapsed Time: 0:00:34 ETA:   0:03:49"
          ]
        },
        {
          "output_type": "stream",
          "name": "stdout",
          "text": [
            "[1058, 280, 443]\n"
          ]
        },
        {
          "output_type": "stream",
          "name": "stderr",
          "text": [
            "\r                                                                               \r\r 13% (66 of 500) |###                    | Elapsed Time: 0:00:34 ETA:   0:03:49"
          ]
        },
        {
          "output_type": "stream",
          "name": "stdout",
          "text": [
            "[3, 6, 9]\n"
          ]
        },
        {
          "output_type": "stream",
          "name": "stderr",
          "text": [
            "\r                                                                               \r\r 13% (67 of 500) |###                    | Elapsed Time: 0:00:35 ETA:   0:03:47"
          ]
        },
        {
          "output_type": "stream",
          "name": "stdout",
          "text": [
            "[1189, 1970, 2]\n"
          ]
        },
        {
          "output_type": "stream",
          "name": "stderr",
          "text": [
            "\r                                                                               \r\r 13% (68 of 500) |###                    | Elapsed Time: 0:00:35 ETA:   0:03:47"
          ]
        },
        {
          "output_type": "stream",
          "name": "stdout",
          "text": [
            "[502, 846, 243]\n"
          ]
        },
        {
          "output_type": "stream",
          "name": "stderr",
          "text": [
            "\r                                                                               \r\r 13% (69 of 500) |###                    | Elapsed Time: 0:00:36 ETA:   0:03:48"
          ]
        },
        {
          "output_type": "stream",
          "name": "stdout",
          "text": [
            "[169, 396, 1123]\n"
          ]
        },
        {
          "output_type": "stream",
          "name": "stderr",
          "text": [
            "\r                                                                               \r\r 14% (70 of 500) |###                    | Elapsed Time: 0:00:36 ETA:   0:03:47"
          ]
        },
        {
          "output_type": "stream",
          "name": "stdout",
          "text": [
            "[403, 1489, 1592]\n"
          ]
        },
        {
          "output_type": "stream",
          "name": "stderr",
          "text": [
            "\r                                                                               \r\r 14% (71 of 500) |###                    | Elapsed Time: 0:00:37 ETA:   0:03:46"
          ]
        },
        {
          "output_type": "stream",
          "name": "stdout",
          "text": [
            "[464, 629, 1089]\n"
          ]
        },
        {
          "output_type": "stream",
          "name": "stderr",
          "text": [
            "\r                                                                               \r\r 14% (72 of 500) |###                    | Elapsed Time: 0:00:37 ETA:   0:03:45"
          ]
        },
        {
          "output_type": "stream",
          "name": "stdout",
          "text": [
            "[1869, 40, 119]\n"
          ]
        },
        {
          "output_type": "stream",
          "name": "stderr",
          "text": [
            "\r                                                                               \r\r 14% (73 of 500) |###                    | Elapsed Time: 0:00:38 ETA:   0:03:43"
          ]
        },
        {
          "output_type": "stream",
          "name": "stdout",
          "text": [
            "[5, 20, 24]\n"
          ]
        },
        {
          "output_type": "stream",
          "name": "stderr",
          "text": [
            "\r                                                                               \r\r 14% (74 of 500) |###                    | Elapsed Time: 0:00:38 ETA:   0:03:43"
          ]
        },
        {
          "output_type": "stream",
          "name": "stdout",
          "text": [
            "[1781, 2, 7]\n"
          ]
        },
        {
          "output_type": "stream",
          "name": "stderr",
          "text": [
            "\r                                                                               \r\r 15% (75 of 500) |###                    | Elapsed Time: 0:00:39 ETA:   0:03:43"
          ]
        },
        {
          "output_type": "stream",
          "name": "stdout",
          "text": [
            "[1961, 0, 16]\n"
          ]
        },
        {
          "output_type": "stream",
          "name": "stderr",
          "text": [
            "\r                                                                               \r\r 15% (76 of 500) |###                    | Elapsed Time: 0:00:39 ETA:   0:03:44"
          ]
        },
        {
          "output_type": "stream",
          "name": "stdout",
          "text": [
            "[2, 65, 83]\n"
          ]
        },
        {
          "output_type": "stream",
          "name": "stderr",
          "text": [
            "\r                                                                               \r\r 15% (77 of 500) |###                    | Elapsed Time: 0:00:40 ETA:   0:03:44"
          ]
        },
        {
          "output_type": "stream",
          "name": "stdout",
          "text": [
            "[1257, 2, 8]\n"
          ]
        },
        {
          "output_type": "stream",
          "name": "stderr",
          "text": [
            "\r                                                                               \r\r 15% (78 of 500) |###                    | Elapsed Time: 0:00:41 ETA:   0:03:44"
          ]
        },
        {
          "output_type": "stream",
          "name": "stdout",
          "text": [
            "[1100, 716, 1528]\n"
          ]
        },
        {
          "output_type": "stream",
          "name": "stderr",
          "text": [
            "\r                                                                               \r\r 15% (79 of 500) |###                    | Elapsed Time: 0:00:41 ETA:   0:03:41"
          ]
        },
        {
          "output_type": "stream",
          "name": "stdout",
          "text": [
            "[97, 261, 330]\n"
          ]
        },
        {
          "output_type": "stream",
          "name": "stderr",
          "text": [
            "\r                                                                               \r\r 16% (80 of 500) |###                    | Elapsed Time: 0:00:42 ETA:   0:03:42"
          ]
        },
        {
          "output_type": "stream",
          "name": "stdout",
          "text": [
            "[1000, 11, 27]\n"
          ]
        },
        {
          "output_type": "stream",
          "name": "stderr",
          "text": [
            "\r                                                                               \r\r 16% (81 of 500) |###                    | Elapsed Time: 0:00:42 ETA:   0:03:39"
          ]
        },
        {
          "output_type": "stream",
          "name": "stdout",
          "text": [
            "[1223, 108, 1212]\n"
          ]
        },
        {
          "output_type": "stream",
          "name": "stderr",
          "text": [
            "\r                                                                               \r\r 16% (82 of 500) |###                    | Elapsed Time: 0:00:43 ETA:   0:03:39"
          ]
        },
        {
          "output_type": "stream",
          "name": "stdout",
          "text": [
            "[1346, 2, 71]\n"
          ]
        },
        {
          "output_type": "stream",
          "name": "stderr",
          "text": [
            "\r                                                                               \r\r 16% (83 of 500) |###                    | Elapsed Time: 0:00:43 ETA:   0:03:38"
          ]
        },
        {
          "output_type": "stream",
          "name": "stdout",
          "text": [
            "[2, 3, 18]\n"
          ]
        },
        {
          "output_type": "stream",
          "name": "stderr",
          "text": [
            "\r                                                                               \r\r 16% (84 of 500) |###                    | Elapsed Time: 0:00:44 ETA:   0:03:39"
          ]
        },
        {
          "output_type": "stream",
          "name": "stdout",
          "text": [
            "[9, 16, 32]\n"
          ]
        },
        {
          "output_type": "stream",
          "name": "stderr",
          "text": [
            "\r                                                                               \r\r 17% (85 of 500) |###                    | Elapsed Time: 0:00:44 ETA:   0:03:38"
          ]
        },
        {
          "output_type": "stream",
          "name": "stdout",
          "text": [
            "[2, 162, 163]\n"
          ]
        },
        {
          "output_type": "stream",
          "name": "stderr",
          "text": [
            "\r                                                                               \r\r 17% (86 of 500) |###                    | Elapsed Time: 0:00:45 ETA:   0:03:37"
          ]
        },
        {
          "output_type": "stream",
          "name": "stdout",
          "text": [
            "[11, 22, 25]\n"
          ]
        },
        {
          "output_type": "stream",
          "name": "stderr",
          "text": [
            "\r                                                                               \r\r 17% (87 of 500) |####                   | Elapsed Time: 0:00:45 ETA:   0:03:38"
          ]
        },
        {
          "output_type": "stream",
          "name": "stdout",
          "text": [
            "[76, 426, 716]\n"
          ]
        },
        {
          "output_type": "stream",
          "name": "stderr",
          "text": [
            "\r                                                                               \r\r 17% (88 of 500) |####                   | Elapsed Time: 0:00:46 ETA:   0:03:36"
          ]
        },
        {
          "output_type": "stream",
          "name": "stdout",
          "text": [
            "[2, 5, 45]\n"
          ]
        },
        {
          "output_type": "stream",
          "name": "stderr",
          "text": [
            "\r                                                                               \r\r 17% (89 of 500) |####                   | Elapsed Time: 0:00:46 ETA:   0:03:36"
          ]
        },
        {
          "output_type": "stream",
          "name": "stdout",
          "text": [
            "[15, 41, 70]\n"
          ]
        },
        {
          "output_type": "stream",
          "name": "stderr",
          "text": [
            "\r                                                                               \r\r 18% (90 of 500) |####                   | Elapsed Time: 0:00:47 ETA:   0:03:37"
          ]
        },
        {
          "output_type": "stream",
          "name": "stdout",
          "text": [
            "[0, 1, 2]\n"
          ]
        },
        {
          "output_type": "stream",
          "name": "stderr",
          "text": [
            "\r                                                                               \r\r 18% (91 of 500) |####                   | Elapsed Time: 0:00:47 ETA:   0:03:36"
          ]
        },
        {
          "output_type": "stream",
          "name": "stdout",
          "text": [
            "[63, 78, 97]\n"
          ]
        },
        {
          "output_type": "stream",
          "name": "stderr",
          "text": [
            "\r                                                                               \r\r 18% (92 of 500) |####                   | Elapsed Time: 0:00:48 ETA:   0:03:35"
          ]
        },
        {
          "output_type": "stream",
          "name": "stdout",
          "text": [
            "[1519, 192, 373]\n"
          ]
        },
        {
          "output_type": "stream",
          "name": "stderr",
          "text": [
            "\r                                                                               \r\r 18% (93 of 500) |####                   | Elapsed Time: 0:00:48 ETA:   0:03:35"
          ]
        },
        {
          "output_type": "stream",
          "name": "stdout",
          "text": [
            "[0, 1, 2]\n"
          ]
        },
        {
          "output_type": "stream",
          "name": "stderr",
          "text": [
            "\r                                                                               \r\r 18% (94 of 500) |####                   | Elapsed Time: 0:00:49 ETA:   0:03:33"
          ]
        },
        {
          "output_type": "stream",
          "name": "stdout",
          "text": [
            "[35, 81, 141]\n"
          ]
        },
        {
          "output_type": "stream",
          "name": "stderr",
          "text": [
            "\r                                                                               \r\r 19% (95 of 500) |####                   | Elapsed Time: 0:00:49 ETA:   0:03:32"
          ]
        },
        {
          "output_type": "stream",
          "name": "stdout",
          "text": [
            "[15, 97, 105]\n"
          ]
        },
        {
          "output_type": "stream",
          "name": "stderr",
          "text": [
            "\r                                                                               \r\r 19% (96 of 500) |####                   | Elapsed Time: 0:00:50 ETA:   0:03:33"
          ]
        },
        {
          "output_type": "stream",
          "name": "stdout",
          "text": [
            "[35, 72, 159]\n"
          ]
        },
        {
          "output_type": "stream",
          "name": "stderr",
          "text": [
            "\r                                                                               \r\r 19% (97 of 500) |####                   | Elapsed Time: 0:00:51 ETA:   0:03:31"
          ]
        },
        {
          "output_type": "stream",
          "name": "stdout",
          "text": [
            "[3, 5, 6]\n"
          ]
        },
        {
          "output_type": "stream",
          "name": "stderr",
          "text": [
            "\r                                                                               \r\r 19% (98 of 500) |####                   | Elapsed Time: 0:00:51 ETA:   0:03:33"
          ]
        },
        {
          "output_type": "stream",
          "name": "stdout",
          "text": [
            "[2, 5, 6]\n"
          ]
        },
        {
          "output_type": "stream",
          "name": "stderr",
          "text": [
            "\r                                                                               \r\r 19% (99 of 500) |####                   | Elapsed Time: 0:00:52 ETA:   0:03:31"
          ]
        },
        {
          "output_type": "stream",
          "name": "stdout",
          "text": [
            "[1384, 7, 92]\n"
          ]
        },
        {
          "output_type": "stream",
          "name": "stderr",
          "text": [
            "\r                                                                               \r\r 20% (100 of 500) |####                  | Elapsed Time: 0:00:52 ETA:   0:03:31"
          ]
        },
        {
          "output_type": "stream",
          "name": "stdout",
          "text": [
            "[1651, 1844, 2]\n"
          ]
        },
        {
          "output_type": "stream",
          "name": "stderr",
          "text": [
            "\r                                                                               \r\r 20% (101 of 500) |####                  | Elapsed Time: 0:00:53 ETA:   0:03:32"
          ]
        },
        {
          "output_type": "stream",
          "name": "stdout",
          "text": [
            "[152, 236, 2]\n"
          ]
        },
        {
          "output_type": "stream",
          "name": "stderr",
          "text": [
            "\r                                                                               \r\r 20% (102 of 500) |####                  | Elapsed Time: 0:00:53 ETA:   0:03:30"
          ]
        },
        {
          "output_type": "stream",
          "name": "stdout",
          "text": [
            "[586, 809, 1532]\n"
          ]
        },
        {
          "output_type": "stream",
          "name": "stderr",
          "text": [
            "\r                                                                               \r\r 20% (103 of 500) |####                  | Elapsed Time: 0:00:54 ETA:   0:03:30"
          ]
        },
        {
          "output_type": "stream",
          "name": "stdout",
          "text": [
            "[0, 63, 130]\n"
          ]
        },
        {
          "output_type": "stream",
          "name": "stderr",
          "text": [
            "\r                                                                               \r\r 20% (104 of 500) |####                  | Elapsed Time: 0:00:54 ETA:   0:03:29"
          ]
        },
        {
          "output_type": "stream",
          "name": "stdout",
          "text": [
            "[1030, 60, 852]\n"
          ]
        },
        {
          "output_type": "stream",
          "name": "stderr",
          "text": [
            "\r                                                                               \r\r 21% (105 of 500) |####                  | Elapsed Time: 0:00:55 ETA:   0:03:29"
          ]
        },
        {
          "output_type": "stream",
          "name": "stdout",
          "text": [
            "[28, 526, 1251]\n"
          ]
        },
        {
          "output_type": "stream",
          "name": "stderr",
          "text": [
            "\r                                                                               \r\r 21% (106 of 500) |####                  | Elapsed Time: 0:00:55 ETA:   0:03:27"
          ]
        },
        {
          "output_type": "stream",
          "name": "stdout",
          "text": [
            "[1862, 557, 1680]\n"
          ]
        },
        {
          "output_type": "stream",
          "name": "stderr",
          "text": [
            "\r                                                                               \r\r 21% (107 of 500) |####                  | Elapsed Time: 0:00:56 ETA:   0:03:27"
          ]
        },
        {
          "output_type": "stream",
          "name": "stdout",
          "text": [
            "[397, 2, 5]\n"
          ]
        },
        {
          "output_type": "stream",
          "name": "stderr",
          "text": [
            "\r                                                                               \r\r 21% (108 of 500) |####                  | Elapsed Time: 0:00:56 ETA:   0:03:26"
          ]
        },
        {
          "output_type": "stream",
          "name": "stdout",
          "text": [
            "[153, 213, 755]\n"
          ]
        },
        {
          "output_type": "stream",
          "name": "stderr",
          "text": [
            "\r                                                                               \r\r 21% (109 of 500) |####                  | Elapsed Time: 0:00:57 ETA:   0:03:25"
          ]
        },
        {
          "output_type": "stream",
          "name": "stdout",
          "text": [
            "[0, 7, 31]\n"
          ]
        },
        {
          "output_type": "stream",
          "name": "stderr",
          "text": [
            "\r                                                                               \r\r 22% (110 of 500) |####                  | Elapsed Time: 0:00:57 ETA:   0:03:24"
          ]
        },
        {
          "output_type": "stream",
          "name": "stdout",
          "text": [
            "[580, 15, 17]\n"
          ]
        },
        {
          "output_type": "stream",
          "name": "stderr",
          "text": [
            "\r                                                                               \r\r 22% (111 of 500) |####                  | Elapsed Time: 0:00:58 ETA:   0:03:24"
          ]
        },
        {
          "output_type": "stream",
          "name": "stdout",
          "text": [
            "[215, 391, 569]\n"
          ]
        },
        {
          "output_type": "stream",
          "name": "stderr",
          "text": [
            "\r                                                                               \r\r 22% (112 of 500) |####                  | Elapsed Time: 0:00:58 ETA:   0:03:23"
          ]
        },
        {
          "output_type": "stream",
          "name": "stdout",
          "text": [
            "[606, 3, 11]\n"
          ]
        },
        {
          "output_type": "stream",
          "name": "stderr",
          "text": [
            "\r                                                                               \r\r 22% (113 of 500) |####                  | Elapsed Time: 0:00:59 ETA:   0:03:23"
          ]
        },
        {
          "output_type": "stream",
          "name": "stdout",
          "text": [
            "[81, 206, 391]\n"
          ]
        },
        {
          "output_type": "stream",
          "name": "stderr",
          "text": [
            "\r                                                                               \r\r 22% (114 of 500) |#####                 | Elapsed Time: 0:01:00 ETA:   0:03:22"
          ]
        },
        {
          "output_type": "stream",
          "name": "stdout",
          "text": [
            "[6, 9, 87]\n"
          ]
        },
        {
          "output_type": "stream",
          "name": "stderr",
          "text": [
            "\r                                                                               \r\r 23% (115 of 500) |#####                 | Elapsed Time: 0:01:00 ETA:   0:03:23"
          ]
        },
        {
          "output_type": "stream",
          "name": "stdout",
          "text": [
            "[172, 191, 215]\n"
          ]
        },
        {
          "output_type": "stream",
          "name": "stderr",
          "text": [
            "\r                                                                               \r\r 23% (116 of 500) |#####                 | Elapsed Time: 0:01:01 ETA:   0:03:23"
          ]
        },
        {
          "output_type": "stream",
          "name": "stdout",
          "text": [
            "[968, 139, 231]\n"
          ]
        },
        {
          "output_type": "stream",
          "name": "stderr",
          "text": [
            "\r                                                                               \r\r 23% (117 of 500) |#####                 | Elapsed Time: 0:01:01 ETA:   0:03:23"
          ]
        },
        {
          "output_type": "stream",
          "name": "stdout",
          "text": [
            "[2, 7, 8]\n"
          ]
        },
        {
          "output_type": "stream",
          "name": "stderr",
          "text": [
            "\r                                                                               \r\r 23% (118 of 500) |#####                 | Elapsed Time: 0:01:02 ETA:   0:03:22"
          ]
        },
        {
          "output_type": "stream",
          "name": "stdout",
          "text": [
            "[1997, 2, 7]\n"
          ]
        },
        {
          "output_type": "stream",
          "name": "stderr",
          "text": [
            "\r                                                                               \r\r 23% (119 of 500) |#####                 | Elapsed Time: 0:01:02 ETA:   0:03:21"
          ]
        },
        {
          "output_type": "stream",
          "name": "stdout",
          "text": [
            "[1708, 2, 63]\n"
          ]
        },
        {
          "output_type": "stream",
          "name": "stderr",
          "text": [
            "\r                                                                               \r\r 24% (120 of 500) |#####                 | Elapsed Time: 0:01:03 ETA:   0:03:20"
          ]
        },
        {
          "output_type": "stream",
          "name": "stdout",
          "text": [
            "[1948, 914, 619]\n"
          ]
        },
        {
          "output_type": "stream",
          "name": "stderr",
          "text": [
            "\r                                                                               \r\r 24% (121 of 500) |#####                 | Elapsed Time: 0:01:03 ETA:   0:03:19"
          ]
        },
        {
          "output_type": "stream",
          "name": "stdout",
          "text": [
            "[6, 9, 35]\n"
          ]
        },
        {
          "output_type": "stream",
          "name": "stderr",
          "text": [
            "\r                                                                               \r\r 24% (122 of 500) |#####                 | Elapsed Time: 0:01:04 ETA:   0:03:19"
          ]
        },
        {
          "output_type": "stream",
          "name": "stdout",
          "text": [
            "[281, 416, 2]\n"
          ]
        },
        {
          "output_type": "stream",
          "name": "stderr",
          "text": [
            "\r                                                                               \r\r 24% (123 of 500) |#####                 | Elapsed Time: 0:01:04 ETA:   0:03:17"
          ]
        },
        {
          "output_type": "stream",
          "name": "stdout",
          "text": [
            "[1004, 1129, 16]\n"
          ]
        },
        {
          "output_type": "stream",
          "name": "stderr",
          "text": [
            "\r                                                                               \r\r 24% (124 of 500) |#####                 | Elapsed Time: 0:01:05 ETA:   0:03:16"
          ]
        },
        {
          "output_type": "stream",
          "name": "stdout",
          "text": [
            "[749, 0, 7]\n"
          ]
        },
        {
          "output_type": "stream",
          "name": "stderr",
          "text": [
            "\r                                                                               \r\r 25% (125 of 500) |#####                 | Elapsed Time: 0:01:05 ETA:   0:03:16"
          ]
        },
        {
          "output_type": "stream",
          "name": "stdout",
          "text": [
            "[6, 9, 87]\n"
          ]
        },
        {
          "output_type": "stream",
          "name": "stderr",
          "text": [
            "\r                                                                               \r\r 25% (126 of 500) |#####                 | Elapsed Time: 0:01:06 ETA:   0:03:15"
          ]
        },
        {
          "output_type": "stream",
          "name": "stdout",
          "text": [
            "[172, 191, 215]\n"
          ]
        },
        {
          "output_type": "stream",
          "name": "stderr",
          "text": [
            "\r                                                                               \r\r 25% (127 of 500) |#####                 | Elapsed Time: 0:01:06 ETA:   0:03:16"
          ]
        },
        {
          "output_type": "stream",
          "name": "stdout",
          "text": [
            "[825, 9, 35]\n"
          ]
        },
        {
          "output_type": "stream",
          "name": "stderr",
          "text": [
            "\r                                                                               \r\r 25% (128 of 500) |#####                 | Elapsed Time: 0:01:07 ETA:   0:03:16"
          ]
        },
        {
          "output_type": "stream",
          "name": "stdout",
          "text": [
            "[35, 81, 114]\n"
          ]
        },
        {
          "output_type": "stream",
          "name": "stderr",
          "text": [
            "\r                                                                               \r\r 25% (129 of 500) |#####                 | Elapsed Time: 0:01:07 ETA:   0:03:15"
          ]
        },
        {
          "output_type": "stream",
          "name": "stdout",
          "text": [
            "[45, 80, 82]\n"
          ]
        },
        {
          "output_type": "stream",
          "name": "stderr",
          "text": [
            "\r                                                                               \r\r 26% (130 of 500) |#####                 | Elapsed Time: 0:01:08 ETA:   0:03:16"
          ]
        },
        {
          "output_type": "stream",
          "name": "stdout",
          "text": [
            "[40, 53, 58]\n"
          ]
        },
        {
          "output_type": "stream",
          "name": "stderr",
          "text": [
            "\r                                                                               \r\r 26% (131 of 500) |#####                 | Elapsed Time: 0:01:08 ETA:   0:03:15"
          ]
        },
        {
          "output_type": "stream",
          "name": "stdout",
          "text": [
            "[326, 1414, 2]\n"
          ]
        },
        {
          "output_type": "stream",
          "name": "stderr",
          "text": [
            "\r                                                                               \r\r 26% (132 of 500) |#####                 | Elapsed Time: 0:01:09 ETA:   0:03:15"
          ]
        },
        {
          "output_type": "stream",
          "name": "stdout",
          "text": [
            "[367, 748, 1532]\n"
          ]
        },
        {
          "output_type": "stream",
          "name": "stderr",
          "text": [
            "\r                                                                               \r\r 26% (133 of 500) |#####                 | Elapsed Time: 0:01:10 ETA:   0:03:14"
          ]
        },
        {
          "output_type": "stream",
          "name": "stdout",
          "text": [
            "[2, 5, 6]\n"
          ]
        },
        {
          "output_type": "stream",
          "name": "stderr",
          "text": [
            "\r                                                                               \r\r 26% (134 of 500) |#####                 | Elapsed Time: 0:01:10 ETA:   0:03:13"
          ]
        },
        {
          "output_type": "stream",
          "name": "stdout",
          "text": [
            "[0, 2, 3]\n"
          ]
        },
        {
          "output_type": "stream",
          "name": "stderr",
          "text": [
            "\r                                                                               \r\r 27% (135 of 500) |#####                 | Elapsed Time: 0:01:11 ETA:   0:03:12"
          ]
        },
        {
          "output_type": "stream",
          "name": "stdout",
          "text": [
            "[136, 191, 338]\n"
          ]
        },
        {
          "output_type": "stream",
          "name": "stderr",
          "text": [
            "\r                                                                               \r\r 27% (136 of 500) |#####                 | Elapsed Time: 0:01:11 ETA:   0:03:11"
          ]
        },
        {
          "output_type": "stream",
          "name": "stdout",
          "text": [
            "[71, 173, 183]\n"
          ]
        },
        {
          "output_type": "stream",
          "name": "stderr",
          "text": [
            "\r                                                                               \r\r 27% (137 of 500) |######                | Elapsed Time: 0:01:12 ETA:   0:03:11"
          ]
        },
        {
          "output_type": "stream",
          "name": "stdout",
          "text": [
            "[87, 146, 604]\n"
          ]
        },
        {
          "output_type": "stream",
          "name": "stderr",
          "text": [
            "\r                                                                               \r\r 27% (138 of 500) |######                | Elapsed Time: 0:01:12 ETA:   0:03:11"
          ]
        },
        {
          "output_type": "stream",
          "name": "stdout",
          "text": [
            "[0, 1, 2]\n"
          ]
        },
        {
          "output_type": "stream",
          "name": "stderr",
          "text": [
            "\r                                                                               \r\r 27% (139 of 500) |######                | Elapsed Time: 0:01:13 ETA:   0:03:11"
          ]
        },
        {
          "output_type": "stream",
          "name": "stdout",
          "text": [
            "[2, 6, 7]\n"
          ]
        },
        {
          "output_type": "stream",
          "name": "stderr",
          "text": [
            "\r                                                                               \r\r 28% (140 of 500) |######                | Elapsed Time: 0:01:13 ETA:   0:03:11"
          ]
        },
        {
          "output_type": "stream",
          "name": "stdout",
          "text": [
            "[418, 958, 1656]\n"
          ]
        },
        {
          "output_type": "stream",
          "name": "stderr",
          "text": [
            "\r                                                                               \r\r 28% (141 of 500) |######                | Elapsed Time: 0:01:14 ETA:   0:03:10"
          ]
        },
        {
          "output_type": "stream",
          "name": "stdout",
          "text": [
            "[0, 7, 12]\n"
          ]
        },
        {
          "output_type": "stream",
          "name": "stderr",
          "text": [
            "\r                                                                               \r\r 28% (142 of 500) |######                | Elapsed Time: 0:01:14 ETA:   0:03:10"
          ]
        },
        {
          "output_type": "stream",
          "name": "stdout",
          "text": [
            "[132, 1948, 619]\n"
          ]
        },
        {
          "output_type": "stream",
          "name": "stderr",
          "text": [
            "\r                                                                               \r\r 28% (143 of 500) |######                | Elapsed Time: 0:01:15 ETA:   0:03:10"
          ]
        },
        {
          "output_type": "stream",
          "name": "stdout",
          "text": [
            "[325, 2, 5]\n"
          ]
        },
        {
          "output_type": "stream",
          "name": "stderr",
          "text": [
            "\r                                                                               \r\r 28% (144 of 500) |######                | Elapsed Time: 0:01:15 ETA:   0:03:08"
          ]
        },
        {
          "output_type": "stream",
          "name": "stdout",
          "text": [
            "[1148, 254, 1405]\n"
          ]
        },
        {
          "output_type": "stream",
          "name": "stderr",
          "text": [
            "\r                                                                               \r\r 28% (145 of 500) |######                | Elapsed Time: 0:01:16 ETA:   0:03:07"
          ]
        },
        {
          "output_type": "stream",
          "name": "stdout",
          "text": [
            "[1948, 1014, 1877]\n"
          ]
        },
        {
          "output_type": "stream",
          "name": "stderr",
          "text": [
            "\r                                                                               \r\r 29% (146 of 500) |######                | Elapsed Time: 0:01:16 ETA:   0:03:06"
          ]
        },
        {
          "output_type": "stream",
          "name": "stdout",
          "text": [
            "[384, 1189, 1084]\n"
          ]
        },
        {
          "output_type": "stream",
          "name": "stderr",
          "text": [
            "\r                                                                               \r\r 29% (147 of 500) |######                | Elapsed Time: 0:01:17 ETA:   0:03:06"
          ]
        },
        {
          "output_type": "stream",
          "name": "stdout",
          "text": [
            "[591, 652, 803]\n"
          ]
        },
        {
          "output_type": "stream",
          "name": "stderr",
          "text": [
            "\r                                                                               \r\r 29% (148 of 500) |######                | Elapsed Time: 0:01:17 ETA:   0:03:06"
          ]
        },
        {
          "output_type": "stream",
          "name": "stdout",
          "text": [
            "[130, 250, 957]\n"
          ]
        },
        {
          "output_type": "stream",
          "name": "stderr",
          "text": [
            "\r                                                                               \r\r 29% (149 of 500) |######                | Elapsed Time: 0:01:18 ETA:   0:03:05"
          ]
        },
        {
          "output_type": "stream",
          "name": "stdout",
          "text": [
            "[6, 16, 32]\n"
          ]
        },
        {
          "output_type": "stream",
          "name": "stderr",
          "text": [
            "\r                                                                               \r\r 30% (150 of 500) |######                | Elapsed Time: 0:01:19 ETA:   0:03:04"
          ]
        },
        {
          "output_type": "stream",
          "name": "stdout",
          "text": [
            "[15, 269, 398]\n"
          ]
        },
        {
          "output_type": "stream",
          "name": "stderr",
          "text": [
            "\r                                                                               \r\r 30% (151 of 500) |######                | Elapsed Time: 0:01:19 ETA:   0:03:03"
          ]
        },
        {
          "output_type": "stream",
          "name": "stdout",
          "text": [
            "[97, 241, 1004]\n"
          ]
        },
        {
          "output_type": "stream",
          "name": "stderr",
          "text": [
            "\r                                                                               \r\r 30% (152 of 500) |######                | Elapsed Time: 0:01:20 ETA:   0:03:02"
          ]
        },
        {
          "output_type": "stream",
          "name": "stdout",
          "text": [
            "[32, 64, 415]\n"
          ]
        },
        {
          "output_type": "stream",
          "name": "stderr",
          "text": [
            "\r                                                                               \r\r 30% (153 of 500) |######                | Elapsed Time: 0:01:20 ETA:   0:03:01"
          ]
        },
        {
          "output_type": "stream",
          "name": "stdout",
          "text": [
            "[139, 1427, 3]\n"
          ]
        },
        {
          "output_type": "stream",
          "name": "stderr",
          "text": [
            "\r                                                                               \r\r 30% (154 of 500) |######                | Elapsed Time: 0:01:21 ETA:   0:03:01"
          ]
        },
        {
          "output_type": "stream",
          "name": "stdout",
          "text": [
            "[2, 5, 7]\n"
          ]
        },
        {
          "output_type": "stream",
          "name": "stderr",
          "text": [
            "\r                                                                               \r\r 31% (155 of 500) |######                | Elapsed Time: 0:01:21 ETA:   0:03:03"
          ]
        },
        {
          "output_type": "stream",
          "name": "stdout",
          "text": [
            "[1123, 1192, 520]\n"
          ]
        },
        {
          "output_type": "stream",
          "name": "stderr",
          "text": [
            "\r                                                                               \r\r 31% (156 of 500) |######                | Elapsed Time: 0:01:22 ETA:   0:03:02"
          ]
        },
        {
          "output_type": "stream",
          "name": "stdout",
          "text": [
            "[140, 288, 319]\n"
          ]
        },
        {
          "output_type": "stream",
          "name": "stderr",
          "text": [
            "\r                                                                               \r\r 31% (157 of 500) |######                | Elapsed Time: 0:01:22 ETA:   0:03:03"
          ]
        },
        {
          "output_type": "stream",
          "name": "stdout",
          "text": [
            "[70, 1716, 3]\n"
          ]
        },
        {
          "output_type": "stream",
          "name": "stderr",
          "text": [
            "\r                                                                               \r\r 31% (158 of 500) |######                | Elapsed Time: 0:01:23 ETA:   0:03:02"
          ]
        },
        {
          "output_type": "stream",
          "name": "stdout",
          "text": [
            "[3, 15, 16]\n"
          ]
        },
        {
          "output_type": "stream",
          "name": "stderr",
          "text": [
            "\r                                                                               \r\r 31% (159 of 500) |######                | Elapsed Time: 0:01:23 ETA:   0:03:00"
          ]
        },
        {
          "output_type": "stream",
          "name": "stdout",
          "text": [
            "[16, 18, 41]\n"
          ]
        },
        {
          "output_type": "stream",
          "name": "stderr",
          "text": [
            "\r                                                                               \r\r 32% (160 of 500) |#######               | Elapsed Time: 0:01:24 ETA:   0:02:59"
          ]
        },
        {
          "output_type": "stream",
          "name": "stdout",
          "text": [
            "[16, 18, 20]\n"
          ]
        },
        {
          "output_type": "stream",
          "name": "stderr",
          "text": [
            "\r                                                                               \r\r 32% (161 of 500) |#######               | Elapsed Time: 0:01:24 ETA:   0:02:59"
          ]
        },
        {
          "output_type": "stream",
          "name": "stdout",
          "text": [
            "[762, 1466, 0]\n"
          ]
        },
        {
          "output_type": "stream",
          "name": "stderr",
          "text": [
            "\r                                                                               \r\r 32% (162 of 500) |#######               | Elapsed Time: 0:01:25 ETA:   0:02:59"
          ]
        },
        {
          "output_type": "stream",
          "name": "stdout",
          "text": [
            "[136, 575, 757]\n"
          ]
        },
        {
          "output_type": "stream",
          "name": "stderr",
          "text": [
            "\r                                                                               \r\r 32% (163 of 500) |#######               | Elapsed Time: 0:01:25 ETA:   0:02:57"
          ]
        },
        {
          "output_type": "stream",
          "name": "stdout",
          "text": [
            "[159, 20, 71]\n"
          ]
        },
        {
          "output_type": "stream",
          "name": "stderr",
          "text": [
            "\r                                                                               \r\r 32% (164 of 500) |#######               | Elapsed Time: 0:01:26 ETA:   0:02:57"
          ]
        },
        {
          "output_type": "stream",
          "name": "stdout",
          "text": [
            "[191, 281, 326]\n"
          ]
        },
        {
          "output_type": "stream",
          "name": "stderr",
          "text": [
            "\r                                                                               \r\r 33% (165 of 500) |#######               | Elapsed Time: 0:01:26 ETA:   0:02:56"
          ]
        },
        {
          "output_type": "stream",
          "name": "stdout",
          "text": [
            "[421, 1579, 670]\n"
          ]
        },
        {
          "output_type": "stream",
          "name": "stderr",
          "text": [
            "\r                                                                               \r\r 33% (166 of 500) |#######               | Elapsed Time: 0:01:27 ETA:   0:02:56"
          ]
        },
        {
          "output_type": "stream",
          "name": "stdout",
          "text": [
            "[1836, 16, 120]\n"
          ]
        },
        {
          "output_type": "stream",
          "name": "stderr",
          "text": [
            "\r                                                                               \r\r 33% (167 of 500) |#######               | Elapsed Time: 0:01:28 ETA:   0:02:56"
          ]
        },
        {
          "output_type": "stream",
          "name": "stdout",
          "text": [
            "[1635, 2, 3]\n"
          ]
        },
        {
          "output_type": "stream",
          "name": "stderr",
          "text": [
            "\r                                                                               \r\r 33% (168 of 500) |#######               | Elapsed Time: 0:01:28 ETA:   0:02:56"
          ]
        },
        {
          "output_type": "stream",
          "name": "stdout",
          "text": [
            "[0, 1, 2]\n"
          ]
        },
        {
          "output_type": "stream",
          "name": "stderr",
          "text": [
            "\r                                                                               \r\r 33% (169 of 500) |#######               | Elapsed Time: 0:01:29 ETA:   0:02:55"
          ]
        },
        {
          "output_type": "stream",
          "name": "stdout",
          "text": [
            "[2, 3, 5]\n"
          ]
        },
        {
          "output_type": "stream",
          "name": "stderr",
          "text": [
            "\r                                                                               \r\r 34% (170 of 500) |#######               | Elapsed Time: 0:01:29 ETA:   0:02:55"
          ]
        },
        {
          "output_type": "stream",
          "name": "stdout",
          "text": [
            "[617, 1976, 42]\n"
          ]
        },
        {
          "output_type": "stream",
          "name": "stderr",
          "text": [
            "\r                                                                               \r\r 34% (171 of 500) |#######               | Elapsed Time: 0:01:30 ETA:   0:02:53"
          ]
        },
        {
          "output_type": "stream",
          "name": "stdout",
          "text": [
            "[975, 3, 11]\n"
          ]
        },
        {
          "output_type": "stream",
          "name": "stderr",
          "text": [
            "\r                                                                               \r\r 34% (172 of 500) |#######               | Elapsed Time: 0:01:30 ETA:   0:02:53"
          ]
        },
        {
          "output_type": "stream",
          "name": "stdout",
          "text": [
            "[339, 604, 802]\n"
          ]
        },
        {
          "output_type": "stream",
          "name": "stderr",
          "text": [
            "\r                                                                               \r\r 34% (173 of 500) |#######               | Elapsed Time: 0:01:31 ETA:   0:02:52"
          ]
        },
        {
          "output_type": "stream",
          "name": "stdout",
          "text": [
            "[2, 7, 15]\n"
          ]
        },
        {
          "output_type": "stream",
          "name": "stderr",
          "text": [
            "\r                                                                               \r\r 34% (174 of 500) |#######               | Elapsed Time: 0:01:31 ETA:   0:02:51"
          ]
        },
        {
          "output_type": "stream",
          "name": "stdout",
          "text": [
            "[228, 250, 297]\n"
          ]
        },
        {
          "output_type": "stream",
          "name": "stderr",
          "text": [
            "\r                                                                               \r\r 35% (175 of 500) |#######               | Elapsed Time: 0:01:32 ETA:   0:02:51"
          ]
        },
        {
          "output_type": "stream",
          "name": "stdout",
          "text": [
            "[15, 17, 40]\n"
          ]
        },
        {
          "output_type": "stream",
          "name": "stderr",
          "text": [
            "\r                                                                               \r\r 35% (176 of 500) |#######               | Elapsed Time: 0:01:32 ETA:   0:02:50"
          ]
        },
        {
          "output_type": "stream",
          "name": "stdout",
          "text": [
            "[2, 16, 20]\n"
          ]
        },
        {
          "output_type": "stream",
          "name": "stderr",
          "text": [
            "\r                                                                               \r\r 35% (177 of 500) |#######               | Elapsed Time: 0:01:33 ETA:   0:02:49"
          ]
        },
        {
          "output_type": "stream",
          "name": "stdout",
          "text": [
            "[396, 409, 1511]\n"
          ]
        },
        {
          "output_type": "stream",
          "name": "stderr",
          "text": [
            "\r                                                                               \r\r 35% (178 of 500) |#######               | Elapsed Time: 0:01:33 ETA:   0:02:49"
          ]
        },
        {
          "output_type": "stream",
          "name": "stdout",
          "text": [
            "[3, 5, 6]\n"
          ]
        },
        {
          "output_type": "stream",
          "name": "stderr",
          "text": [
            "\r                                                                               \r\r 35% (179 of 500) |#######               | Elapsed Time: 0:01:34 ETA:   0:02:49"
          ]
        },
        {
          "output_type": "stream",
          "name": "stdout",
          "text": [
            "[7, 8, 15]\n"
          ]
        },
        {
          "output_type": "stream",
          "name": "stderr",
          "text": [
            "\r                                                                               \r\r 36% (180 of 500) |#######               | Elapsed Time: 0:01:34 ETA:   0:02:48"
          ]
        },
        {
          "output_type": "stream",
          "name": "stdout",
          "text": [
            "[250, 604, 872]\n"
          ]
        },
        {
          "output_type": "stream",
          "name": "stderr",
          "text": [
            "\r                                                                               \r\r 36% (181 of 500) |#######               | Elapsed Time: 0:01:35 ETA:   0:02:48"
          ]
        },
        {
          "output_type": "stream",
          "name": "stdout",
          "text": [
            "[427, 1274, 1348]\n"
          ]
        },
        {
          "output_type": "stream",
          "name": "stderr",
          "text": [
            "\r                                                                               \r\r 36% (182 of 500) |########              | Elapsed Time: 0:01:35 ETA:   0:02:49"
          ]
        },
        {
          "output_type": "stream",
          "name": "stdout",
          "text": [
            "[1961, 16, 32]\n"
          ]
        },
        {
          "output_type": "stream",
          "name": "stderr",
          "text": [
            "\r                                                                               \r\r 36% (183 of 500) |########              | Elapsed Time: 0:01:36 ETA:   0:02:47"
          ]
        },
        {
          "output_type": "stream",
          "name": "stdout",
          "text": [
            "[2, 16, 22]\n"
          ]
        },
        {
          "output_type": "stream",
          "name": "stderr",
          "text": [
            "\r                                                                               \r\r 36% (184 of 500) |########              | Elapsed Time: 0:01:36 ETA:   0:02:47"
          ]
        },
        {
          "output_type": "stream",
          "name": "stdout",
          "text": [
            "[2, 78, 86]\n"
          ]
        },
        {
          "output_type": "stream",
          "name": "stderr",
          "text": [
            "\r                                                                               \r\r 37% (185 of 500) |########              | Elapsed Time: 0:01:37 ETA:   0:02:46"
          ]
        },
        {
          "output_type": "stream",
          "name": "stdout",
          "text": [
            "[137, 381, 58]\n"
          ]
        },
        {
          "output_type": "stream",
          "name": "stderr",
          "text": [
            "\r                                                                               \r\r 37% (186 of 500) |########              | Elapsed Time: 0:01:38 ETA:   0:02:45"
          ]
        },
        {
          "output_type": "stream",
          "name": "stdout",
          "text": [
            "[35, 40, 72]\n"
          ]
        },
        {
          "output_type": "stream",
          "name": "stderr",
          "text": [
            "\r                                                                               \r\r 37% (187 of 500) |########              | Elapsed Time: 0:01:38 ETA:   0:02:44"
          ]
        },
        {
          "output_type": "stream",
          "name": "stdout",
          "text": [
            "[426, 1157, 76]\n"
          ]
        },
        {
          "output_type": "stream",
          "name": "stderr",
          "text": [
            "\r                                                                               \r\r 37% (188 of 500) |########              | Elapsed Time: 0:01:39 ETA:   0:02:44"
          ]
        },
        {
          "output_type": "stream",
          "name": "stdout",
          "text": [
            "[1513, 9, 35]\n"
          ]
        },
        {
          "output_type": "stream",
          "name": "stderr",
          "text": [
            "\r                                                                               \r\r 37% (189 of 500) |########              | Elapsed Time: 0:01:39 ETA:   0:02:44"
          ]
        },
        {
          "output_type": "stream",
          "name": "stdout",
          "text": [
            "[311, 1524, 1169]\n"
          ]
        },
        {
          "output_type": "stream",
          "name": "stderr",
          "text": [
            "\r                                                                               \r\r 38% (190 of 500) |########              | Elapsed Time: 0:01:40 ETA:   0:02:43"
          ]
        },
        {
          "output_type": "stream",
          "name": "stdout",
          "text": [
            "[2, 107, 1017]\n"
          ]
        },
        {
          "output_type": "stream",
          "name": "stderr",
          "text": [
            "\r                                                                               \r\r 38% (191 of 500) |########              | Elapsed Time: 0:01:40 ETA:   0:02:43"
          ]
        },
        {
          "output_type": "stream",
          "name": "stdout",
          "text": [
            "[919, 7, 16]\n"
          ]
        },
        {
          "output_type": "stream",
          "name": "stderr",
          "text": [
            "\r                                                                               \r\r 38% (192 of 500) |########              | Elapsed Time: 0:01:41 ETA:   0:02:43"
          ]
        },
        {
          "output_type": "stream",
          "name": "stdout",
          "text": [
            "[1014, 1192, 891]\n"
          ]
        },
        {
          "output_type": "stream",
          "name": "stderr",
          "text": [
            "\r                                                                               \r\r 38% (193 of 500) |########              | Elapsed Time: 0:01:41 ETA:   0:02:43"
          ]
        },
        {
          "output_type": "stream",
          "name": "stdout",
          "text": [
            "[2, 15, 40]\n"
          ]
        },
        {
          "output_type": "stream",
          "name": "stderr",
          "text": [
            "\r                                                                               \r\r 38% (194 of 500) |########              | Elapsed Time: 0:01:42 ETA:   0:02:43"
          ]
        },
        {
          "output_type": "stream",
          "name": "stdout",
          "text": [
            "[201, 17, 241]\n"
          ]
        },
        {
          "output_type": "stream",
          "name": "stderr",
          "text": [
            "\r                                                                               \r\r 39% (195 of 500) |########              | Elapsed Time: 0:01:42 ETA:   0:02:43"
          ]
        },
        {
          "output_type": "stream",
          "name": "stdout",
          "text": [
            "[109, 1461, 20]\n"
          ]
        },
        {
          "output_type": "stream",
          "name": "stderr",
          "text": [
            "\r                                                                               \r\r 39% (196 of 500) |########              | Elapsed Time: 0:01:43 ETA:   0:02:41"
          ]
        },
        {
          "output_type": "stream",
          "name": "stdout",
          "text": [
            "[11, 243, 427]\n"
          ]
        },
        {
          "output_type": "stream",
          "name": "stderr",
          "text": [
            "\r                                                                               \r\r 39% (197 of 500) |########              | Elapsed Time: 0:01:43 ETA:   0:02:41"
          ]
        },
        {
          "output_type": "stream",
          "name": "stdout",
          "text": [
            "[2, 3, 6]\n"
          ]
        },
        {
          "output_type": "stream",
          "name": "stderr",
          "text": [
            "\r                                                                               \r\r 39% (198 of 500) |########              | Elapsed Time: 0:01:44 ETA:   0:02:39"
          ]
        },
        {
          "output_type": "stream",
          "name": "stdout",
          "text": [
            "[0, 1, 2]\n"
          ]
        },
        {
          "output_type": "stream",
          "name": "stderr",
          "text": [
            "\r                                                                               \r\r 39% (199 of 500) |########              | Elapsed Time: 0:01:44 ETA:   0:02:38"
          ]
        },
        {
          "output_type": "stream",
          "name": "stdout",
          "text": [
            "[35, 72, 81]\n"
          ]
        },
        {
          "output_type": "stream",
          "name": "stderr",
          "text": [
            "\r                                                                               \r\r 40% (200 of 500) |########              | Elapsed Time: 0:01:45 ETA:   0:02:39"
          ]
        },
        {
          "output_type": "stream",
          "name": "stdout",
          "text": [
            "[453, 2, 130]\n"
          ]
        },
        {
          "output_type": "stream",
          "name": "stderr",
          "text": [
            "\r                                                                               \r\r 40% (201 of 500) |########              | Elapsed Time: 0:01:46 ETA:   0:02:38"
          ]
        },
        {
          "output_type": "stream",
          "name": "stdout",
          "text": [
            "[83, 201, 298]\n"
          ]
        },
        {
          "output_type": "stream",
          "name": "stderr",
          "text": [
            "\r                                                                               \r\r 40% (202 of 500) |########              | Elapsed Time: 0:01:46 ETA:   0:02:37"
          ]
        },
        {
          "output_type": "stream",
          "name": "stdout",
          "text": [
            "[1845, 12, 16]\n"
          ]
        },
        {
          "output_type": "stream",
          "name": "stderr",
          "text": [
            "\r                                                                               \r\r 40% (203 of 500) |########              | Elapsed Time: 0:01:47 ETA:   0:02:37"
          ]
        },
        {
          "output_type": "stream",
          "name": "stdout",
          "text": [
            "[396, 416, 451]\n"
          ]
        },
        {
          "output_type": "stream",
          "name": "stderr",
          "text": [
            "\r                                                                               \r\r 40% (204 of 500) |########              | Elapsed Time: 0:01:47 ETA:   0:02:36"
          ]
        },
        {
          "output_type": "stream",
          "name": "stdout",
          "text": [
            "[172, 219, 642]\n"
          ]
        },
        {
          "output_type": "stream",
          "name": "stderr",
          "text": [
            "\r                                                                               \r\r 41% (205 of 500) |#########             | Elapsed Time: 0:01:48 ETA:   0:02:35"
          ]
        },
        {
          "output_type": "stream",
          "name": "stdout",
          "text": [
            "[636, 396, 2]\n"
          ]
        },
        {
          "output_type": "stream",
          "name": "stderr",
          "text": [
            "\r                                                                               \r\r 41% (206 of 500) |#########             | Elapsed Time: 0:01:48 ETA:   0:02:35"
          ]
        },
        {
          "output_type": "stream",
          "name": "stdout",
          "text": [
            "[770, 1823, 0]\n"
          ]
        },
        {
          "output_type": "stream",
          "name": "stderr",
          "text": [
            "\r                                                                               \r\r 41% (207 of 500) |#########             | Elapsed Time: 0:01:49 ETA:   0:02:34"
          ]
        },
        {
          "output_type": "stream",
          "name": "stdout",
          "text": [
            "[0, 1, 2]\n"
          ]
        },
        {
          "output_type": "stream",
          "name": "stderr",
          "text": [
            "\r                                                                               \r\r 41% (208 of 500) |#########             | Elapsed Time: 0:01:49 ETA:   0:02:33"
          ]
        },
        {
          "output_type": "stream",
          "name": "stdout",
          "text": [
            "[1485, 2, 7]\n"
          ]
        },
        {
          "output_type": "stream",
          "name": "stderr",
          "text": [
            "\r                                                                               \r\r 41% (209 of 500) |#########             | Elapsed Time: 0:01:50 ETA:   0:02:34"
          ]
        },
        {
          "output_type": "stream",
          "name": "stdout",
          "text": [
            "[431, 1081, 1948]\n"
          ]
        },
        {
          "output_type": "stream",
          "name": "stderr",
          "text": [
            "\r                                                                               \r\r 42% (210 of 500) |#########             | Elapsed Time: 0:01:50 ETA:   0:02:33"
          ]
        },
        {
          "output_type": "stream",
          "name": "stdout",
          "text": [
            "[1215, 2, 3]\n"
          ]
        },
        {
          "output_type": "stream",
          "name": "stderr",
          "text": [
            "\r                                                                               \r\r 42% (211 of 500) |#########             | Elapsed Time: 0:01:51 ETA:   0:02:33"
          ]
        },
        {
          "output_type": "stream",
          "name": "stdout",
          "text": [
            "[250, 608, 1455]\n"
          ]
        },
        {
          "output_type": "stream",
          "name": "stderr",
          "text": [
            "\r                                                                               \r\r 42% (212 of 500) |#########             | Elapsed Time: 0:01:51 ETA:   0:02:33"
          ]
        },
        {
          "output_type": "stream",
          "name": "stdout",
          "text": [
            "[715, 1616, 104]\n"
          ]
        },
        {
          "output_type": "stream",
          "name": "stderr",
          "text": [
            "\r                                                                               \r\r 42% (213 of 500) |#########             | Elapsed Time: 0:01:52 ETA:   0:02:33"
          ]
        }
      ]
    },
    {
      "cell_type": "markdown",
      "metadata": {
        "id": "flnAsDuhD-6F"
      },
      "source": [
        "## 4. Cross-validation to select K\n",
        "\n",
        "k-Fold Cross Validation (don't confuse this k with the K in KNN!) is a very useful technique to check how well a model performs when we apply it on an independent data. It is often used to flag problems caused by overfitting and selection bias. However, it brings an additional data processing load and time.\n",
        "\n",
        "![K-fold-CV.png](data:image/png;base64,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)\n",
        "**Task P2.7: Implement the 5-fold cross validation to choose the best K (number of nearest neighbors) between 1 and 10 for KNN with Euclidean distance. Copy the code in the solution file and plot the 5-fold validation error with respect to K. Also plot the test error on the same figure. What do you observe?**"
      ]
    },
    {
      "cell_type": "code",
      "metadata": {
        "id": "9SQTpwQaD-6G"
      },
      "source": [
        "##STUDENT: YOUR CODE HERE\n",
        "\n"
      ],
      "execution_count": 281,
      "outputs": []
    },
    {
      "cell_type": "code",
      "metadata": {
        "id": "mFI8pu-duQcY",
        "colab": {
          "base_uri": "https://localhost:8080/"
        },
        "outputId": "6a064e5a-d339-4e61-935d-9edac9da1096"
      },
      "source": [
        "#Run below two lines (in google colab), installation steps to get .pdf of the notebook\n",
        "\n",
        "!apt-get install texlive texlive-xetex texlive-latex-extra pandoc\n",
        "!pip install pypandoc"
      ],
      "execution_count": 282,
      "outputs": [
        {
          "output_type": "stream",
          "name": "stdout",
          "text": [
            "Reading package lists... Done\n",
            "Building dependency tree       \n",
            "Reading state information... Done\n",
            "pandoc is already the newest version (1.19.2.4~dfsg-1build4).\n",
            "texlive is already the newest version (2017.20180305-1).\n",
            "texlive-latex-extra is already the newest version (2017.20180305-2).\n",
            "texlive-xetex is already the newest version (2017.20180305-1).\n",
            "0 upgraded, 0 newly installed, 0 to remove and 37 not upgraded.\n",
            "Requirement already satisfied: pypandoc in /usr/local/lib/python2.7/dist-packages (1.6.4)\n",
            "Requirement already satisfied: pip>=8.1.0 in /usr/local/lib/python2.7/dist-packages (from pypandoc) (19.3.1)\n",
            "Requirement already satisfied: wheel>=0.25.0 in /usr/local/lib/python2.7/dist-packages (from pypandoc) (0.37.0)\n",
            "Requirement already satisfied: setuptools in /usr/local/lib/python2.7/dist-packages (from pypandoc) (44.1.1)\n"
          ]
        }
      ]
    },
    {
      "cell_type": "code",
      "metadata": {
        "id": "PuG-zaA2uUe-",
        "colab": {
          "base_uri": "https://localhost:8080/"
        },
        "outputId": "de2fd9a0-ac6d-463a-a989-17f88af25e8c"
      },
      "source": [
        "#Find path to your notebook file in drive and replace the path below between the quotes with you own path\n",
        "!jupyter nbconvert --to PDF \"gdrive/MyDrive/hw_ml/hw1/ProgAs1/KNN_assignment.ipynb\"\n",
        "# ! ls gdrive/MyDrive/hw_ml/Homework\\ 1/ProgAs1/KNN_assignment.ipynb\n",
        "# if \"gdrive/My Drive/hw_ml\"\n",
        "# path=\"gdrive/My Drive/hw_ml/Homework 1/ProgAs1/KNN_assignment1.ipynb\"\n",
        "# import os\n",
        "# print(os.path.curdir)\n"
      ],
      "execution_count": 283,
      "outputs": [
        {
          "output_type": "stream",
          "name": "stdout",
          "text": [
            "[NbConvertApp] Converting notebook gdrive/MyDrive/hw_ml/hw1/ProgAs1/KNN_assignment.ipynb to PDF\n",
            "[NbConvertApp] Writing 109952 bytes to ./notebook.tex\n",
            "[NbConvertApp] Building PDF\n",
            "[NbConvertApp] Running xelatex 3 times: [u'xelatex', u'./notebook.tex', '-quiet']\n",
            "[NbConvertApp] CRITICAL | xelatex failed: [u'xelatex', u'./notebook.tex', '-quiet']\n",
            "This is XeTeX, Version 3.14159265-2.6-0.99998 (TeX Live 2017/Debian) (preloaded format=xelatex)\n",
            " restricted \\write18 enabled.\n",
            "entering extended mode\n",
            "(./notebook.tex\n",
            "LaTeX2e <2017-04-15>\n",
            "Babel <3.18> and hyphenation patterns for 3 language(s) loaded.\n",
            "(/usr/share/texlive/texmf-dist/tex/latex/base/article.cls\n",
            "Document Class: article 2014/09/29 v1.4h Standard LaTeX document class\n",
            "(/usr/share/texlive/texmf-dist/tex/latex/base/size11.clo))\n",
            "(/usr/share/texlive/texmf-dist/tex/latex/tcolorbox/tcolorbox.sty\n",
            "(/usr/share/texlive/texmf-dist/tex/latex/pgf/basiclayer/pgf.sty\n",
            "(/usr/share/texlive/texmf-dist/tex/latex/pgf/utilities/pgfrcs.sty\n",
            "(/usr/share/texlive/texmf-dist/tex/generic/pgf/utilities/pgfutil-common.tex\n",
            "(/usr/share/texlive/texmf-dist/tex/generic/pgf/utilities/pgfutil-common-lists.t\n",
            "ex)) (/usr/share/texlive/texmf-dist/tex/generic/pgf/utilities/pgfutil-latex.def\n",
            "(/usr/share/texlive/texmf-dist/tex/latex/ms/everyshi.sty))\n",
            "(/usr/share/texlive/texmf-dist/tex/generic/pgf/utilities/pgfrcs.code.tex))\n",
            "(/usr/share/texlive/texmf-dist/tex/latex/pgf/basiclayer/pgfcore.sty\n",
            "(/usr/share/texlive/texmf-dist/tex/latex/graphics/graphicx.sty\n",
            "(/usr/share/texlive/texmf-dist/tex/latex/graphics/keyval.sty)\n",
            "(/usr/share/texlive/texmf-dist/tex/latex/graphics/graphics.sty\n",
            "(/usr/share/texlive/texmf-dist/tex/latex/graphics/trig.sty)\n",
            "(/usr/share/texlive/texmf-dist/tex/latex/graphics-cfg/graphics.cfg)\n",
            "(/usr/share/texlive/texmf-dist/tex/latex/graphics-def/xetex.def)))\n",
            "(/usr/share/texlive/texmf-dist/tex/latex/pgf/systemlayer/pgfsys.sty\n",
            "(/usr/share/texlive/texmf-dist/tex/generic/pgf/systemlayer/pgfsys.code.tex\n",
            "(/usr/share/texlive/texmf-dist/tex/generic/pgf/utilities/pgfkeys.code.tex\n",
            "(/usr/share/texlive/texmf-dist/tex/generic/pgf/utilities/pgfkeysfiltered.code.t\n",
            "ex)) (/usr/share/texlive/texmf-dist/tex/generic/pgf/systemlayer/pgf.cfg)\n",
            "(/usr/share/texlive/texmf-dist/tex/generic/pgf/systemlayer/pgfsys-xetex.def\n",
            "(/usr/share/texlive/texmf-dist/tex/generic/pgf/systemlayer/pgfsys-dvipdfmx.def\n",
            "(/usr/share/texlive/texmf-dist/tex/generic/pgf/systemlayer/pgfsys-common-pdf.de\n",
            "f))))\n",
            "(/usr/share/texlive/texmf-dist/tex/generic/pgf/systemlayer/pgfsyssoftpath.code.\n",
            "tex)\n",
            "(/usr/share/texlive/texmf-dist/tex/generic/pgf/systemlayer/pgfsysprotocol.code.\n",
            "tex)) (/usr/share/texlive/texmf-dist/tex/latex/xcolor/xcolor.sty\n",
            "(/usr/share/texlive/texmf-dist/tex/latex/graphics-cfg/color.cfg))\n",
            "(/usr/share/texlive/texmf-dist/tex/generic/pgf/basiclayer/pgfcore.code.tex\n",
            "(/usr/share/texlive/texmf-dist/tex/generic/pgf/math/pgfmath.code.tex\n",
            "(/usr/share/texlive/texmf-dist/tex/generic/pgf/math/pgfmathcalc.code.tex\n",
            "(/usr/share/texlive/texmf-dist/tex/generic/pgf/math/pgfmathutil.code.tex)\n",
            "(/usr/share/texlive/texmf-dist/tex/generic/pgf/math/pgfmathparser.code.tex)\n",
            "(/usr/share/texlive/texmf-dist/tex/generic/pgf/math/pgfmathfunctions.code.tex\n",
            "(/usr/share/texlive/texmf-dist/tex/generic/pgf/math/pgfmathfunctions.basic.code\n",
            ".tex)\n",
            "(/usr/share/texlive/texmf-dist/tex/generic/pgf/math/pgfmathfunctions.trigonomet\n",
            "ric.code.tex)\n",
            "(/usr/share/texlive/texmf-dist/tex/generic/pgf/math/pgfmathfunctions.random.cod\n",
            "e.tex)\n",
            "(/usr/share/texlive/texmf-dist/tex/generic/pgf/math/pgfmathfunctions.comparison\n",
            ".code.tex)\n",
            "(/usr/share/texlive/texmf-dist/tex/generic/pgf/math/pgfmathfunctions.base.code.\n",
            "tex)\n",
            "(/usr/share/texlive/texmf-dist/tex/generic/pgf/math/pgfmathfunctions.round.code\n",
            ".tex)\n",
            "(/usr/share/texlive/texmf-dist/tex/generic/pgf/math/pgfmathfunctions.misc.code.\n",
            "tex)\n",
            "(/usr/share/texlive/texmf-dist/tex/generic/pgf/math/pgfmathfunctions.integerari\n",
            "thmetics.code.tex)))\n",
            "(/usr/share/texlive/texmf-dist/tex/generic/pgf/math/pgfmathfloat.code.tex))\n",
            "(/usr/share/texlive/texmf-dist/tex/generic/pgf/basiclayer/pgfcorepoints.code.te\n",
            "x)\n",
            "(/usr/share/texlive/texmf-dist/tex/generic/pgf/basiclayer/pgfcorepathconstruct.\n",
            "code.tex)\n",
            "(/usr/share/texlive/texmf-dist/tex/generic/pgf/basiclayer/pgfcorepathusage.code\n",
            ".tex)\n",
            "(/usr/share/texlive/texmf-dist/tex/generic/pgf/basiclayer/pgfcorescopes.code.te\n",
            "x)\n",
            "(/usr/share/texlive/texmf-dist/tex/generic/pgf/basiclayer/pgfcoregraphicstate.c\n",
            "ode.tex)\n",
            "(/usr/share/texlive/texmf-dist/tex/generic/pgf/basiclayer/pgfcoretransformation\n",
            "s.code.tex)\n",
            "(/usr/share/texlive/texmf-dist/tex/generic/pgf/basiclayer/pgfcorequick.code.tex\n",
            ")\n",
            "(/usr/share/texlive/texmf-dist/tex/generic/pgf/basiclayer/pgfcoreobjects.code.t\n",
            "ex)\n",
            "(/usr/share/texlive/texmf-dist/tex/generic/pgf/basiclayer/pgfcorepathprocessing\n",
            ".code.tex)\n",
            "(/usr/share/texlive/texmf-dist/tex/generic/pgf/basiclayer/pgfcorearrows.code.te\n",
            "x)\n",
            "(/usr/share/texlive/texmf-dist/tex/generic/pgf/basiclayer/pgfcoreshade.code.tex\n",
            ")\n",
            "(/usr/share/texlive/texmf-dist/tex/generic/pgf/basiclayer/pgfcoreimage.code.tex\n",
            "\n",
            "(/usr/share/texlive/texmf-dist/tex/generic/pgf/basiclayer/pgfcoreexternal.code.\n",
            "tex))\n",
            "(/usr/share/texlive/texmf-dist/tex/generic/pgf/basiclayer/pgfcorelayers.code.te\n",
            "x)\n",
            "(/usr/share/texlive/texmf-dist/tex/generic/pgf/basiclayer/pgfcoretransparency.c\n",
            "ode.tex)\n",
            "(/usr/share/texlive/texmf-dist/tex/generic/pgf/basiclayer/pgfcorepatterns.code.\n",
            "tex)))\n",
            "(/usr/share/texlive/texmf-dist/tex/generic/pgf/modules/pgfmoduleshapes.code.tex\n",
            ") (/usr/share/texlive/texmf-dist/tex/generic/pgf/modules/pgfmoduleplot.code.tex\n",
            ")\n",
            "(/usr/share/texlive/texmf-dist/tex/latex/pgf/compatibility/pgfcomp-version-0-65\n",
            ".sty)\n",
            "(/usr/share/texlive/texmf-dist/tex/latex/pgf/compatibility/pgfcomp-version-1-18\n",
            ".sty)) (/usr/share/texlive/texmf-dist/tex/latex/tools/verbatim.sty)\n",
            "(/usr/share/texlive/texmf-dist/tex/latex/environ/environ.sty\n",
            "(/usr/share/texlive/texmf-dist/tex/latex/trimspaces/trimspaces.sty))\n",
            "(/usr/share/texlive/texmf-dist/tex/latex/etoolbox/etoolbox.sty)\n",
            "(/usr/share/texlive/texmf-dist/tex/latex/tcolorbox/tcbbreakable.code.tex\n",
            "Library (tcolorbox): 'tcbbreakable.code.tex' version '4.12'\n",
            ")) (/usr/share/texlive/texmf-dist/tex/latex/float/float.sty)\n",
            "(/usr/share/texlive/texmf-dist/tex/latex/base/fontenc.sty\n",
            "(/usr/share/texlive/texmf-dist/tex/latex/base/t1enc.def)\n",
            "(/usr/share/texmf/tex/latex/lm/t1lmr.fd))\n",
            "(/usr/share/texlive/texmf-dist/tex/latex/psnfss/mathpazo.sty)\n",
            "(/usr/share/texlive/texmf-dist/tex/latex/caption/caption.sty\n",
            "(/usr/share/texlive/texmf-dist/tex/latex/caption/caption3.sty))\n",
            "(/usr/share/texlive/texmf-dist/tex/latex/adjustbox/adjustbox.sty\n",
            "(/usr/share/texlive/texmf-dist/tex/latex/xkeyval/xkeyval.sty\n",
            "(/usr/share/texlive/texmf-dist/tex/generic/xkeyval/xkeyval.tex\n",
            "(/usr/share/texlive/texmf-dist/tex/generic/xkeyval/xkvutils.tex)))\n",
            "(/usr/share/texlive/texmf-dist/tex/latex/adjustbox/adjcalc.sty)\n",
            "(/usr/share/texlive/texmf-dist/tex/latex/adjustbox/trimclip.sty\n",
            "(/usr/share/texlive/texmf-dist/tex/latex/collectbox/collectbox.sty)\n",
            "(/usr/share/texlive/texmf-dist/tex/latex/adjustbox/tc-xetex.def))\n",
            "(/usr/share/texlive/texmf-dist/tex/latex/ifoddpage/ifoddpage.sty)\n",
            "(/usr/share/texlive/texmf-dist/tex/latex/varwidth/varwidth.sty))\n",
            "(/usr/share/texlive/texmf-dist/tex/latex/tools/enumerate.sty)\n",
            "(/usr/share/texlive/texmf-dist/tex/latex/geometry/geometry.sty\n",
            "(/usr/share/texlive/texmf-dist/tex/generic/oberdiek/ifpdf.sty)\n",
            "(/usr/share/texlive/texmf-dist/tex/generic/oberdiek/ifvtex.sty)\n",
            "(/usr/share/texlive/texmf-dist/tex/generic/ifxetex/ifxetex.sty))\n",
            "(/usr/share/texlive/texmf-dist/tex/latex/amsmath/amsmath.sty\n",
            "For additional information on amsmath, use the `?' option.\n",
            "(/usr/share/texlive/texmf-dist/tex/latex/amsmath/amstext.sty\n",
            "(/usr/share/texlive/texmf-dist/tex/latex/amsmath/amsgen.sty))\n",
            "(/usr/share/texlive/texmf-dist/tex/latex/amsmath/amsbsy.sty)\n",
            "(/usr/share/texlive/texmf-dist/tex/latex/amsmath/amsopn.sty))\n",
            "(/usr/share/texlive/texmf-dist/tex/latex/amsfonts/amssymb.sty\n",
            "(/usr/share/texlive/texmf-dist/tex/latex/amsfonts/amsfonts.sty))\n",
            "(/usr/share/texlive/texmf-dist/tex/latex/base/textcomp.sty\n",
            "(/usr/share/texlive/texmf-dist/tex/latex/base/ts1enc.def))\n",
            "(/usr/share/texlive/texmf-dist/tex/latex/upquote/upquote.sty)\n",
            "(/usr/share/texlive/texmf-dist/tex/latex/eurosym/eurosym.sty)\n",
            "(/usr/share/texlive/texmf-dist/tex/latex/ucs/ucs.sty\n",
            "(/usr/share/texlive/texmf-dist/tex/latex/ucs/data/uni-global.def))\n",
            "(/usr/share/texlive/texmf-dist/tex/latex/base/inputenc.sty\n",
            "\n",
            "Package inputenc Warning: inputenc package ignored with utf8 based engines.\n",
            "\n",
            ") (/usr/share/texlive/texmf-dist/tex/latex/fancyvrb/fancyvrb.sty\n",
            "Style option: `fancyvrb' v2.7a, with DG/SPQR fixes, and firstline=lastline fix \n",
            "<2008/02/07> (tvz))\n",
            "(/usr/share/texlive/texmf-dist/tex/latex/oberdiek/grffile.sty\n",
            "(/usr/share/texlive/texmf-dist/tex/latex/oberdiek/kvoptions.sty\n",
            "(/usr/share/texlive/texmf-dist/tex/generic/oberdiek/ltxcmds.sty)\n",
            "(/usr/share/texlive/texmf-dist/tex/generic/oberdiek/kvsetkeys.sty\n",
            "(/usr/share/texlive/texmf-dist/tex/generic/oberdiek/infwarerr.sty)\n",
            "(/usr/share/texlive/texmf-dist/tex/generic/oberdiek/etexcmds.sty\n",
            "(/usr/share/texlive/texmf-dist/tex/generic/oberdiek/ifluatex.sty))))\n",
            "(/usr/share/texlive/texmf-dist/tex/generic/oberdiek/pdftexcmds.sty))\n",
            "(/usr/share/texlive/texmf-dist/tex/latex/hyperref/hyperref.sty\n",
            "(/usr/share/texlive/texmf-dist/tex/generic/oberdiek/hobsub-hyperref.sty\n",
            "(/usr/share/texlive/texmf-dist/tex/generic/oberdiek/hobsub-generic.sty))\n",
            "(/usr/share/texlive/texmf-dist/tex/latex/oberdiek/auxhook.sty)\n",
            "(/usr/share/texlive/texmf-dist/tex/latex/hyperref/pd1enc.def)\n",
            "(/usr/share/texlive/texmf-dist/tex/latex/latexconfig/hyperref.cfg)\n",
            "(/usr/share/texlive/texmf-dist/tex/latex/url/url.sty))\n",
            "(/usr/share/texlive/texmf-dist/tex/latex/hyperref/hxetex.def\n",
            "(/usr/share/texlive/texmf-dist/tex/latex/hyperref/puenc.def)\n",
            "(/usr/share/texlive/texmf-dist/tex/generic/oberdiek/stringenc.sty)\n",
            "(/usr/share/texlive/texmf-dist/tex/latex/oberdiek/rerunfilecheck.sty))\n",
            "(/usr/share/texlive/texmf-dist/tex/latex/tools/longtable.sty)\n",
            "(/usr/share/texlive/texmf-dist/tex/latex/booktabs/booktabs.sty)\n",
            "(/usr/share/texlive/texmf-dist/tex/latex/enumitem/enumitem.sty)\n",
            "(/usr/share/texlive/texmf-dist/tex/generic/ulem/ulem.sty)\n",
            "(/usr/share/texlive/texmf-dist/tex/latex/jknapltx/mathrsfs.sty)\n",
            "No file notebook.aux.\n",
            "(/usr/share/texlive/texmf-dist/tex/latex/base/ts1cmr.fd)\n",
            "(/usr/share/texlive/texmf-dist/tex/latex/psnfss/t1ppl.fd)\n",
            "ABD: EveryShipout initializing macros\n",
            "(/usr/share/texlive/texmf-dist/tex/latex/caption/ltcaption.sty)\n",
            "*geometry* driver: auto-detecting\n",
            "*geometry* detected driver: xetex\n",
            "*geometry* verbose mode - [ preamble ] result:\n",
            "* driver: xetex\n",
            "* paper: <default>\n",
            "* layout: <same size as paper>\n",
            "* layoutoffset:(h,v)=(0.0pt,0.0pt)\n",
            "* modes: \n",
            "* h-part:(L,W,R)=(72.26999pt, 469.75502pt, 72.26999pt)\n",
            "* v-part:(T,H,B)=(72.26999pt, 650.43001pt, 72.26999pt)\n",
            "* \\paperwidth=614.295pt\n",
            "* \\paperheight=794.96999pt\n",
            "* \\textwidth=469.75502pt\n",
            "* \\textheight=650.43001pt\n",
            "* \\oddsidemargin=0.0pt\n",
            "* \\evensidemargin=0.0pt\n",
            "* \\topmargin=-37.0pt\n",
            "* \\headheight=12.0pt\n",
            "* \\headsep=25.0pt\n",
            "* \\topskip=11.0pt\n",
            "* \\footskip=30.0pt\n",
            "* \\marginparwidth=59.0pt\n",
            "* \\marginparsep=10.0pt\n",
            "* \\columnsep=10.0pt\n",
            "* \\skip\\footins=10.0pt plus 4.0pt minus 2.0pt\n",
            "* \\hoffset=0.0pt\n",
            "* \\voffset=0.0pt\n",
            "* \\mag=1000\n",
            "* \\@twocolumnfalse\n",
            "* \\@twosidefalse\n",
            "* \\@mparswitchfalse\n",
            "* \\@reversemarginfalse\n",
            "* (1in=72.27pt=25.4mm, 1cm=28.453pt)\n",
            "\n",
            "(/usr/share/texlive/texmf-dist/tex/latex/ucs/ucsencs.def)\n",
            "(/usr/share/texlive/texmf-dist/tex/latex/hyperref/nameref.sty\n",
            "(/usr/share/texlive/texmf-dist/tex/generic/oberdiek/gettitlestring.sty))\n",
            "\n",
            "Package hyperref Warning: Rerun to get /PageLabels entry.\n",
            "\n",
            "(/usr/share/texlive/texmf-dist/tex/latex/psnfss/ot1ppl.fd)\n",
            "(/usr/share/texlive/texmf-dist/tex/latex/psnfss/omlzplm.fd)\n",
            "(/usr/share/texlive/texmf-dist/tex/latex/psnfss/omszplm.fd)\n",
            "(/usr/share/texlive/texmf-dist/tex/latex/psnfss/omxzplm.fd)\n",
            "(/usr/share/texlive/texmf-dist/tex/latex/psnfss/ot1zplm.fd)\n",
            "(/usr/share/texlive/texmf-dist/tex/latex/jknapltx/ursfs.fd)\n",
            "\n",
            "LaTeX Warning: No \\author given.\n",
            "\n",
            "(/usr/share/texlive/texmf-dist/tex/generic/oberdiek/se-ascii-print.def)\n",
            "(/usr/share/texmf/tex/latex/lm/t1lmtt.fd)\n",
            "(/usr/share/texmf/tex/latex/lm/ts1lmtt.fd) [1]\n",
            "(/usr/share/texlive/texmf-dist/tex/latex/psnfss/ufplmbb.fd) [2] [3]\n",
            "Overfull \\hbox (21.1386pt too wide) in paragraph at lines 601--601\n",
            "[]|\\T1/lmtt/m/n/10.95 vis_image(find_KNN(test_data[ind_success,],train_data,tra\n",
            "in_labels,[]1[],eucl_dist)[[]0[]], [] \n",
            "\n",
            "Overfull \\hbox (3.8924pt too wide) in paragraph at lines 611--611\n",
            "[]|\\T1/lmtt/m/n/10.95 vis_image(find_KNN(test_data[ind_fail,],train_data,train_\n",
            "labels,[]1[],eucl_dist)[[]0[]], [] \n",
            "[4] [5] [6]\n",
            "\n",
            "! LaTeX Error: File `data:image/png;base64,iVBORw0KGgoAAAANSUhEUgAAA3UAAAJlCAYA\n",
            "AAB9r9sPAAAABHNCSVQICAgIfAhkiAAAIABJREFUeJzs3Xd0VNXXxvFnSiotCb1LkSpIDSBNAQEBQVE\n",
            "UBOlNUcQXFfiBSlMUsAPSO0pvQXpvSkd6B6VKJ6SXmfePgUhMDwlT8v2sNcvk3nP37Jktmezcc881CG\n",
            "mmVq+5B8IioirYOw8AAAAAGYNBijbbOwlXYjIackzuW0eFcmW2dyoAAAAAMoC2X24MNto7CQAAAABA6\n",
            "tHUAQAAAIATo6kDAAAAACdGUwcAAAAAToymDgAAAACcGE0dAAAAADgxmjoAAAAAcGI0dQAAAADgxGjq\n",
            "AAAAAMCJ0dQBAAAAgBOjqQMAAAAAJ0ZTBwAAAABOjKYOAAAAAJwYTR0AAMk0evRo+fn56euvv050GwA\n",
            "AT5LZ3gkAAGBPVqtV/v7+Onv2rPz8/HT06FF5eHiky3OdPn1a1apVi7Pdw8NDvr6+KlOmjOrUqaPWrV\n",
            "srV65cafa8S5YskdVqVcuWLdMsJgDAcXCmDgCQoW3evFlnz55VkSJFdPv2bS1evDjdn9PNzU0vv/xyz\n",
            "KN27drKnj27tmzZosGDB+vZZ5/VDz/8kGbP98UXXzyR1wUAsA/O1AEAMrRJkyZJkn788Uc1b95cU6ZM\n",
            "UZs2bdL1Ob28vDRjxow42+/cuaMZM2Zo5MiRGjJkiG7cuKHhw4c/1nPduHFD586dU6lSpR4rDgDAcXG\n",
            "mDgCQYV28eFFr165VlSpVVLNmTdWpU0f79+/XwYMH7ZKPr6+v+vTpo8WLF8vDw0Pjxo3Tjh07Yo0JDQ\n",
            "3VyJEjVbt2beXPn1+5c+fWM888o3fffVcXLlyINbZLly4qWbKkJGnlypXy8/NT2bJlUxULAOC4aOoAA\n",
            "BnWlClTZLFY1K5dO0nS22+/HbPdnqpXr65u3bpJksaOHRuzPSoqSm3bttVXX32liIgIdezYUT169FC+\n",
            "fPk0d+5cvfjii7py5UrM+Hbt2qlLly6SpLJly+rrr7/WwIEDUxULAOC4mH4JAMiQwsPDNXv2bHl7e8c\n",
            "sINK0aVP5+flp0aJFGjZsmHx8fOyWX+vWrTVmzBht3rxZUVFRMpvN2rhxozZv3qynn35aW7dujbWgS4\n",
            "cOHRQQEKAJEyZoyJAhkqQXXnhBFotFU6ZMUeHChWMaRUkpjgUAcFycqQMAZEgLFy7U7du39eqrrypz5\n",
            "sySbKtQvvnmmwoLC9Ovv/5q1/xKliwpg8GgsLAw3bp1S5JUpkwZzZkzR2PGjImzQmeLFi0kSceOHUtW\n",
            "/LSMBQCwL87UAQAypIdTLNu3bx9r+9tvv62ff/5ZU6dOVc+ePWUwGOyRnkwmkzw9PRUaGqqgoCDlzp1\n",
            "bBQoUUIECBWLGhISEKDg4WFarVW5ubpKksLCwZMVPy1gAAPuiqQMAZDh79+7VwYMHVbJkSVWtWjXWvl\n",
            "KlSqlq1aras2ePNm/erBdeeMEuOYaFhSk0NFSS5OfnF7N9/fr1+umnn7R3796Y/amVlrEAAPZDUwcAy\n",
            "HAe3sbg5MmTsRqm/5oyZYrdmro9e/ZIknLlyhVzbd+cOXP0/vvvy93dXe3atZO/v798fHxkMpl09OhR\n",
            "DR48ONnx0zIWAMC+aOoAABnKjRs3tGzZMnl4eMQskBKfZcuWac2aNbp8+bLy58//BDO0mTVrliSpUaN\n",
            "GMVNAR44cKUmaOHGimjdvHmt8Ss+0pWUsAIB90dQBADKUmTNnKiIiQq1atYp1u4D/cnd314wZMzR9+v\n",
            "SY2wA8KQEBAVq0aJHMZrN69+4tyXYLgosXL0qSmjRpEueYdevWJTt+WsYCANgfq18CADKM6OhoTZ8+X\n",
            "ZLUqVOnRMd27txZkq0JjIyMTO/UJElBQUEaOXKkunTpIqvVqiFDhqhYsWKSJLPZrJw5c0qyTRt91OLF\n",
            "i7VhwwZJ0p07d2Lte7iy5cMVNB8nFgDAMXGmDgCQYaxcuVKXL19W6dKlVb169UTHlitXTpUqVdL+/fs\n",
            "VEBCQ6FTNlAoNDVWHDh1ivrdYLLp+/boOHTqk8PBweXh46Msvv1TXrl1jHdeuXTt99913at26tdq1ay\n",
            "dPT09t375dBw4c0OLFi9WwYUMdP35cgwcPVuPGjVW9enWVKFFCZrNZu3fvVo8ePeTp6amhQ4emKhYAw\n",
            "DHR1AEAMozJkydLkjp27Jis8Z07d9b+/fs1ZcqUNG3qIiMjFRAQEPO9wWBQtmzZVLZsWdWrV0+dO3dW\n",
            "njx54hzXr18/eXp6av78+fr+++/l4+Oj2rVra+3atSpatKgGDx6sUaNGadq0aSpcuLCqV6+uXLlyacS\n",
            "IERo1apSWLVumfPnyyWq1pioWAMAx2efmOy6q7vvzLv7Qq0aBQrky2zsVAAAAABlA2y83BnJNHQAAAA\n",
            "A4MZo6AAAAAHBiNHUAAAAA4MRo6gAAAADAidHUAQAAAIATo6kDAAAAACdGUwcAAAAAToymDgAAAACcG\n",
            "E0dAAAAADgxmjoAAAAAcGI0dQAAAADgxGjqAAAAAMCJ0dQBAAAAgBMz2zsBVxJtsd7s+s3WAvbOAwAA\n",
            "AEDGYJAy2TsHAAAAAAAAAAAAAAAAAAAAAAAAAAAAAAAAAAAAAAAAAAAAAAAAAAAAAAAAAAAAAAAAAAA\n",
            "AAAAAAAAAAAAAAAAAAAAAAAAAAAAAAAAAAAAAAAAAAAAAAAAAAAAAAAAAAAAAAAAAAAAAAAAAAAAAAA\n",
            "AAAAAAAAAAAAAAAAAAAAAAAAAAAAAAAEg/Bnsn4EpqvPfLgchwSwV75wEAAFyXQYq2GCxF901s/3dCY\n",
            "6q9O+9AdGQkv5MAGYBBijbbOwlXYjAqR6shReST18PeqQAAABf1S/8zwWF3ozInNsZgMOSo16qZsvhk\n",
            "e1JpAbCTNb8sDTbaOwkAAAAAQOrR1AEAAACAE6OpAwAAAAAnRlMHAAAAAE6Mpg4AAAAAnBhNHQAAAAA\n",
            "4MZo6AAAAAHBiNHUAAAAA4MRo6gAAAADAidHUAQAAAIATo6kDAAAAACdGUwcAAAAAToymDgAAAACcGE\n",
            "0dADwQMHiiehiqaOXwKQ4R50l6x+yvHoYq9k4DAPAEfV7drE/9DfZOA2nAbO8EAGRsAYMnasWQiSk65\n",
            "uNtk1W8VoU0z8XbJ7OyF84rL58sDhHHWe2dt1ZWq1S1dUN7pwIAqbZx0mBtmjQkRcd0nbhNhSvUSqeM\n",
            "bA6vmydZrSrXsHW6Pk9KOWpeGQVNHQC7yl2ikMo1jf0BGHY/RKe37pfZw12lG/jHOSaTX9Z0yaV+n7d\n",
            "Uv89bDhPHWS0b9LPyli1KUwfAqeUoVEIlazaNtS085L4uHNgqs7uHilVtEOcYr2x+6Z7X+vGDlLtoWY\n",
            "drnhw1r4yCpg6AXfm/1Vj+bzWOte3KkbMaUu5Neftk1nsrvrdTZkiN+9dv6/qZi8pbtqi9UwGAx1K+0\n",
            "Vsq3yj2H+j+OXtEY9qUk2dmH7X7bsUTzyn4znXdvnhGuYuWfeLPnRhHzSsjoakD4JR+GzZZyz8br/ZT\n",
            "PpPZw03LBo7Tvas3NfzMUvkWzC1JiggJ09rRs3Rg0UZdP3NR0ZFRyprbTyXrVdXLn3dXjqL5Y8V8OBW\n",
            "0xbB31GRQF0nSqi+naunAcWo/5TOVfKGKlgwYo1Ob9yr4dqD8CuXRcx1fVuMBnWQ0GdM8jiQFXrulpQ\n",
            "PH6vDKHQq5c185i+ZX3Xde1/PvvaGBRZrr1l9XNTZsp8we7km+Z/eu3tSSAWN0ZNVOhd4Lkl+hPKrRv\n",
            "qka9++Y4DEpeQ8ntf6f9s5bK0n6c9kW9TBUkU/+XPr60spU1QMAnNWhNb9qz5IJunbqoKIiwpQ5ex49\n",
            "XeMlPd95oLLmKhBn/MntK/TH/DG6cmKfwu7flVdWX2UvVEIVm3ZQ5RZdZTAYNH9ga9sUR0nHtyzTp/4\n",
            "GZc2ZXx//dinRXO7fvKp1Ywfo1M5VCg++p2y5C6lC0/aq06F/gsdEhoVo++zROrZxkW5dOiNLVKQy+e\n",
            "VW0Sr1VK/b5/LN/+8f7pLKKyWxkHo0dQCcktndTZJ0+fAZbZu4WGUb1VCm7Nlk9rQ1N5aoaI17pa+Or\n",
            "9ulPKWeUp0eLWU0mXRm+0H9MfM3HVm5Q4MO/CLfArkSfR6Tm+3H5I2zl7R04FjlLFZAVVs3UuD129q/\n",
            "cIOWffqzJMU0b2kZJywwWKPqdNP103+rYMWSqt3tVYXcva+AwRN088IVhd4LssV+8F4kJux+iEbV7qo\n",
            "bZy+pcJUyKt3AXxEhYdo1Z5WunfxLRpNJlmhLrGNS+h7W7NxcmbNn0+ZxC1Sg/NOq1e1VeWT2StN6AI\n",
            "CjWzHqPe1aMFZeWXxVoUl7eWX11eVje7Rn8XgdWT9fXSduVa5Hzmgd+G2GFg/pKM8sPirzQktlzZlfY\n",
            "ffv6sS2AC37sruunTmkZh/9pErNO8srW3btXjhOeYqXV5VXusndO3OiuYSH3Nfk7rV1+9JZ5S9dRcX8\n",
            "GygyLESHVs/Rzb9OymAySZboWMdYoqM05+NXdHbXOuV8qpSqtuwho9Gkvw5u18GVM3Vq50r1mn0gpjl\n",
            "NLK+UxkLq0dQBcEoPG5kdU5ep7c8DVL197Osejq75PaaBGHTgF7l5/nsma/xrn+jA4o3a+ONcvTayd+\n",
            "LP86AZWzd6ll75spde7NsuZt+el+to8lsDtXN6QLKbupTE2fjjXF0//bdKPF9ZH67/OeYsXsOP3tZX1\n",
            "TsqNDBYkmQwJL1y2aYx83Tj7CWVbuCvD9aMkcFoixUVHqFv6/VUVERknGNS+h6WaVhdVotFm8ctUPYi\n",
            "+fTCe2+kOhYAOKOTO37TrgVjlaNQCXWbvEPePjli9u1aMFYrRr2npcO7qvvU32O2/z73B0lSp7Hrla9\n",
            "U5ZjtL/YaoQkd/XVo1RzV7z5Exas1lNVi0e6F4+Sbv4iqvfFekvnsmj9Gty+dVTH/Burw45p/f/ZHhG\n",
            "vau/UUHRkR55jTf6yJacLenX1AZnfPmH2/9ntNxzYt1u/zflSj90dKUqJ5pTQWUo9bGgBwSg/7mCw5f\n",
            "eM0dJKUv1xxvbvsW3WY+lmsBkKSKreyXdx++fCZZD9fzmIF1OD/2sbaVun1+jKajLpx9lKcs1xpEefA\n",
            "kk2SpEafdIg1LdOvUB41GdRFVkvynlOSDj6IVe+DNjEf6pJk9nBXk4HxN6Rp+R6mdT0AwBHtWWibdVG\n",
            "/57BYDZ0k+b/+rrIXfFoXj/yhm3+djNkedv+uJMndK/ZZN3evTHp39gH9b8NteWVN3QIsxzYvkSTVaP\n",
            "1B7J/97h6q22lgvMfkKVZObUcv06ufTo3VhEnSM/VbSZL+OXM4Wc+flrGQOM7UAXBqxZ4rH+92v0J55\n",
            "FcoT8z34cGhCg8KlazWmLNmkaFhyX6ep/zLxjkjZnIzyz2Tl8ICgxUZFi6PTF5pGufq8fOSpMJVSseJ\n",
            "U65pLf3a6+tk53/5yFlJUqGKJePsK1LtmXiPScv3MK3rAQCO6O9DOyVJhZ6tGWefwWBQwXI1dOviaV0\n",
            "6uks5Ctt+Hpeq01y/z/1B0997UbXe/lilajeXT97CkiSTW9LXSyfm+tkjkqS8JSvG2VfgmWrxHpMtTy\n",
            "Fly1Mo5vuI0GBFhAZJVquMZtssmcjw0GQ9f1rGQuJo6gA4tcw5fRPcd2TVTq0dNVPndx1RRMjjNQxZ8\n",
            "2SPd3tMg2a1pmmciJAwRYaGS5Iy5/CJM96vYG4ZDAZZk/G8j8bKlD1uLG+/rAnGSsv3MC1jAYCjsURH\n",
            "KfT+HUnSqKaJXyMWeP1yzNeN+3wjSdqzeLx+G91bv43uLd98RVS8eiNVbt5Z+ctUTVU+kWEhMQ2Td7a\n",
            "4nz1eWf0S/Nl/aucqbZ81SpeO7lJkWEiqnj89YiFhNHUAnNrDszz/tXPacs3oPFRmdzfV7NJCxZ4rL2\n",
            "/frDKajLp06IwW9/vxCWeaMg8/ZBO8Xs5gsD2S2Uwm+lwWa7wf6mn5Hjp7PQAgSY/8vK7V7iOZ3DwSH\n",
            "Fqg7L/3YDUaTWryf9/r+c6DdHL7Cp3ZtVZnd6/XnsXjtWfxeNXp0F8v9hqR5ularZZ4f/bvD5imJcM6\n",
            "y+TmrsrNu6hQ+efkmdVXRqNJ184c0tqf+iX7OdIyFhJHUwfAJa0YMkmS1GXOcFV6vX6sfREPzlo5Mnd\n",
            "vT5nczIqOjFLo3fvy9o19w/W7l64n+5o6d29Pmd3dFBURqeBbd+WTP/YKk4HXbsZ7XFq+h85eDwBIit\n",
            "FokrdPDoXcvakqr3ZX9oJPp+h4b58cqtisoyo26yiLJVqndqzU4iEdtXXGVypbv5XylaqUonhunt4yu\n",
            "bkrOjJCIfduKWvO2LeNCbp1Ld7jNk0eIklqNXSOytZ/Pda+lE6VTMtYSBwLpQBwOZaoaN3666okqcIr\n",
            "z8fZf2TljiecUcoZDAblKl5QknTpUNwFRA7/tj1F8fKUekqS9PeBk3H2nd52MM62tHwPXaEeAJAcBZ+\n",
            "pLkm6sH9LvPtDA2/H2Xb36l+6d+3vWNuMRpNK1X5ZFV6yrZR85cS+VOWTs3ApSdLVkwfi7PvrwLY42y\n",
            "zRUbp79S9JUunnX4mz/9SOlcl+7rSMhaTR1AFwOUazSVlz21YKu3LsXKx9e+au1dHVtgvZg28HPvHcU\n",
            "qLsS89Jst3a4FF3L1/X6q+mx1rJLCnlX64tSVr/7ZxYK2yGBQZr5RdT4kzzTO176OZpm24UdPPuY8cC\n",
            "AGdT5ZVukqQt076MaWgeunv1L/3U+hl917J4zFmq6+eO6psWT2nugFZxrjezWKJ17cwhSYq5j9vDFSS\n",
            "D78Y/w+K/StZ+WZK0Y863sjxyP7rw4EBtmfZF3J/9JrMy++W25Xb+WKx9h9fO1enfV0uK25zGl1dqYy\n",
            "F1mH4JwCXV7NxCq0ZM05hmfVSrSwu5eXro5OZ9urDnqD5cN05fVe+oK0fOanG/H1X+5ToqXquCvVOO4\n",
            "8X/a6vfZ6zQgcUbNbpudz1du4KCbt3TvgXr9WLfdloxZJKiwuPeYyg+9fu8pZ3TAnRy014Nq9BGJepU\n",
            "UlhQiE5s2KOyjarr7uUbCrkTu6lKzXuYp9RTMppNOrfzkKa2+1RuXh56bdQHLlEPAEhKqTrNVeXV7tq\n",
            "7ZKJ+bl9Z5Rq2VibfXLpz5byObVykiNAgtfjfRLl52FY5zlW0rCo376J9y6fo+9dK6OnnXlJmv1yKCA\n",
            "3Wub0b9c+ZwypcobaKV28oScr5VCkZTWZdPLRTCz9rJ7OHlxr3HiXPLHEXwZKk59r00f4V03R+3yaNa\n",
            "1tBhSvWUURIkM7t2aDiNRop8PrlmMVdHqrUvLO2Th+h2R82U+XmXWT28NT5fZt1+dgedRyzThM6V9f1\n",
            "s0e09qd+Kln7ZRWuUCvBvFITC6nDmToALqnZ4O5qPrSn3Dw9tPqr6drww6/K5JdV/f+YroIVS6rlyN7\n",
            "y9s2iLeMX6cqD5f4djU/+XPp422SVb1Zbl/48pQ3f/6q/9hzTmz98pJcGdEpRrMw5fPTx9imq8mZD3b\n",
            "t6U9snL9W5nYdUu9srajdhoLyy2e6P9OhNyFPzHmbNk11v/vCRsuT2074F63Vi4x7JanWJegBAcrQYM\n",
            "EGths1R7uLl9OfqOdo8eahO7VipIlVeUMex61W5RdfY4wdO0isDJ8mvYHGd3BagbTNHat/yKTKZ3fVi\n",
            "rxHq8NMaGY0mSVLm7HnUtO8PyuSXW0c2LNC5vRtlVcILZnn75FC3SdtV7sU3df/mVe1bNll/H96pKq9\n",
            "0U4sBE+SROZskxboJeb1ug1W/x1CZ3T21dcZX+n3uD/LK6qceU/9Q3pIV1ej9kfLM4qvdi8fr+rkjie\n",
            "aVmlhInQSWVUNqPNf7l4st+hcu4JM34dWOACAtWKKi9Y5bNXlk8tKPQXGviwDgun7pfyYw7G5UjV0T2\n",
            "h1LaEz1XvMv1mnRsEAWn2xPMjUAdrDml6WBTL8EAAd1/8Yd/b3vuDLn8FHhKmVi7buw1/a7XI6i+eM7\n",
            "FAAAZCBMvwQAB3V6y379+FJvTe84WOHB/y79HB0ZpRWDJ0qSnm1ex17pAQAAB8GZOgBwUBVeeV6lG/j\n",
            "r+PrdGlruzZjbARxb+4euHD2n3CUKqeHH7e2bJAAAsDuaOgBwUEazSb2Wf6dNY+dr95xV2jF1uSLDIp\n",
            "S9cB41/OhtNR7QKWaBEwAAkHHR1AGAA3Pz8lDDj95Ww4/etncqAADAQXFNHQAAAAA4MZo6AAAAAHBiN\n",
            "HUAAAAA4MRo6gAAAADAidHUAQAAAIATo6kDAAAAACdGUwcAAAAAToymDgAAAACcGDcfT0NWi24u+Px8\n",
            "AXvnAQAAXJdBymQxWIISG2O1Wm9uXLCC30mADMAgZbJ3DgAAAAAAAAAAAAAAAAAAAAAAAAAAAAAAAAA\n",
            "AAAAAAAAAAAAAAAAAAAAAAAAAAAAAAAAAAAAAAAAAAAAAAAAAAAAAAAAAAAAAAAAAAAAAAAAAAAAAAA\n",
            "AAAAAAAAAAAAAAAAAAAAAAAAAAAAAAAAAAAAAAAAAAAAAAAAAAAAAAAAAAAAAAAAAAAAAAAAAAAAAAA\n",
            "AAAAAAAAAAAAAAAAAAAAAAAAAAAAAAAAAAAAAAAAAAAAAAAAAAAAAAAAAAAAAAAAAAAAAAAAAAAAAAA\n",
            "AAAAAAAAAAAAAAAAAAAAAAAAAAAAAAAAAAAAAAAAAAAAAAAAAAAAAAAAAAAAAAAAAAAAAAAAAAAAAAA\n",
            "AAAAAAAAAAAAAAAAAAAAAAAAAAAAAAAAAAAAAAAAAAAAAAAAAAAAAAAAAAAAAAAAAAAAAAAAAAAAAAA\n",
            "AAAAAAAAAAAAAAAAAAAAAAAAAAAAAAAAAAAAAAAAAAAAAAAAAAAAAAAAAAAAAAAAAAAAAAAAAAAAAAA\n",
            "AAAAAAAAAAAAAAAAAAAAAAAAAAAAAAAAAAAAAAAALAvg70TcCXF3//Rwysqu7e984BNZk+3sN+/eyM0\n",
            "qXFlW813N+aIzPQkckLSklu3yt0nuEWYMmd+Ejkhae7RQeH7JvYISWrc84M3mW/9cyXLk8gJSTMERUc\n",
            "cmtU+OKlxrVrNN53IEZn1SeSEpFkMbpFHx70RZO88ADgOs70TcCV5rDn3RlutJUxGg8XeuWR0VslgCY\n",
            "sOlJQrqbHZ81g2RUYZq5gMom4OICIk0iIpySbb2yPrcvdIS32T0Rj9BNJCEsKV2Vjjw/k+STXk0Tevz\n",
            "c4sQ0uTwUDdHECEt8yVu/+Sd9/Et24mNu5qzqixmSyGzmYjdXMEEVGRbtV7/lr8j/FtLtg7FwCOgaYu\n",
            "DZkMRp8xfWq4F8rFyQN7Cw6L0htD1yXrbIDZaPQb0aOKe+lCPumdFpJgtUqN+q+0Jmesu8nk91m7ym6\n",
            "Vn87hlt55IWlN/7c6whIV4SYp0abOw83s+1Grsm61y+Whbg7gtSHrgkOCIz2TGudmNvn2albarVGVAt\n",
            "TNAbT9cmPg7fthzAwCEMNo7wQAAAAAAKlHUwcAAAAAToymDgAAAACcGE0dAAAAADgxmjoAAADX00LSC\n",
            "UmbJA2RVM2+6QBITzR1AAAArsdDUklJz0v6TNIfkvZKamnHnACkE5o6AAAA1xMZz7bKkhZJWimp4JNN\n",
            "B0B6oqkDAABwPUskuUt6VtIASRce2feSpH2SXnjyaQFIDzR1AAAArilS0iFJX0kqLqmXpLsP9uWUtEb\n",
            "SG/ZJDUBaoqkDAABwfdGSxsl25m7vg21ukn6R1NpeSQFIGzR1kCSNHj1afn5++vrrr5N9TM6cOeXn55\n",
            "eOWSEp1M05UTfnRe2cE3WL5W9JtSX99uB7k6TpD7YBcFJmeyeAhJ0+fVrVqiVvBeLixYtr9+7d6ZxR2\n",
            "jh79qx69eql3bt3q1WrVpowYYK9U0pTrli3VatWady4cTp8+LBCQ0OVPXt21ahRQ++9954qVqxo7/TS\n",
            "hKvVLTQ0VLNnz9b8+fN14cIFBQYGKkeOHPL399c777wjf39/e6eYZlytdv9ltVr16quvauvWrXr55Zc\n",
            "1Y8YMe6eUJlypbqdOnVL16tUTHeNgtQuTbRXMxZKayrZS5mJJFSVdsmNeAFKJps4JmM1m1atXL9Ex+f\n",
            "Pnf0LZpJ7FYtH48eM1fPhwRUdH2zuddOcqdevTp49mzpwpd3d31axZU35+fjpy5IiWLFmi5cuXa86cO\n",
            "WrYsKG900wzrlC3oKAgvfbaa9qzZ4+yZ8+uatWqydPTU8ePH9eyZcu0fPlyTZw4Ua+99pq9U01TrlC7\n",
            "+IwdO1Zbt261dxrpxhXqdufOHUlSvnz5VLly5XjHOOAfUiJku55ukyR/STlkm4r5gmxTNQE4EZo6J+D\n",
            "t7a25c+faO43H1qFDB/32229q3bq1qlWrpg8//NDeKaUrV6jbkiVLNHPmTOXNm1crVqxQkSJFJNnOHI\n",
            "wYMUKjR4/WgAEDXKqpc4W6jRgxQnv27FHDhg01ffp0eXp6xuz78ccfNXjwYH366adq2bKlDAaDHTNNW\n",
            "65Qu/86cuSIhg8frkqVKmn//v32TidduELdHjZ1L7zwgn766Sc7Z5MiIbI1dgcl+cg2BfMDSd/aMykA\n",
            "Kcc1dS7KYrFo+vTpaty4sZ566inlzp1bZcuWVbdu3XT48OFkx/nnn3/Uq1cvlSxZUnnz5lXVqlU1evR\n",
            "oRUVFpTinwMBAzZw5U+PGjVOWLFlSfHxG4Gh1W7lypSSpb9++MQ2dJBkMBvXt21dms1nnz5/XjRs3Uh\n",
            "TX1Tha3bJly6bmzZtr2LBhsRo6SerZs6fMZrOuXbum+/fvpyiuK3K02j0qLCxM3bp1U5YsWTRo0KBUx\n",
            "3FFjla3u3dtC0r6+vqm6DgH8ZekHo98P0RSATvlAiCVOFPngqxWqzp16qSAgAAVKlRIrVq1Uo4cOXTq\n",
            "1CktX75cK1as0OzZs1W/fv1E4wQFBalJkyY6f/68KlasqLp16yo0NFQLFizQmTNnZDKZUjSNcu7cufL\n",
            "y8nrcl+eyHLFukyZN0pgxY2Q0xv37j4eHh7y9vRUYGJiq1+sqHLFun3zySYL7bt26pejoaOXIkUNZs2\n",
            "ZN0Wt1NY5Yu0d99tlnOnnypGbPnq3s2bOn9mW6HEes28MzdU7a1EnSfElvSWrAoKH6AAAgAElEQVQhK\n",
            "bOkryW1tWtGAFKEps4FzZ8/XwEBASpTpozWrFmjTJkyxewLCAhQhw4d1Lt3b/35558ymxP+X2DSpEk6\n",
            "f/686tatq0WLFsX8Yh8eHq4WLVooIiIiRXnR0CXOUevm4eER7/Y//vhDgYGBqlixonLmzJmimK7EUev\n",
            "2KKvVqrt37+qPP/7QZ599JqPRqOHDh6c6nqtw5NqtX79ekydP1ttvv60mTZqk6OyTq3PEuj08UxcUFK\n",
            "S+fftq9erVunnzprJly6YaNWrogw8+UKVKlVL5ip+YDyQ1lOQl2y0ORkg6YteMACQb0y9d0C+//CJJ+\n",
            "vDDD2N92Em21bfKli2rq1evaufOnYnGWbFihSTbdK1Hz9R4eHiob9++aZw1nKlut2/f1vvvvy+TyaQv\n",
            "vvgiTWI6K0ev26RJk5Q9e3YVK1ZM7du3V/Xq1bVu3Tq98Qb3G3bU2t28eVO9evVSkSJF9OWXX6b4eFf\n",
            "niHV72NR99913WrFihapWrapmzZopS5YsCggIUOPGjbV06dIUxbSDv2S7j51k+/3wMzvmAiCFaOqcQG\n",
            "BgoPz8/BJ9PDrd6uHF9AktFf1wZa5Dhw4l+rzHjx+XJJUvXz7BGEiYq9bt/Pnzatasmc6dO6fvv/8+y\n",
            "WW8nY2r1a1w4cJ68cUXY1bAXLhwob755htdv3491TEdlavU7v3339ft27c1YcKEOE2LK3KFuhUpUkRN\n",
            "mjRRv379dOjQIU2fPl1TpkzRnj171K9fP0VFRal3794x0zQd2NeSgh98/aqkQnbMBUAKMP3SCZjNZtW\n",
            "pUyfRMSVLlpRku7A+ONj28zhHjhzxjn24/datWwnGCw0NVVhYmCTFe/NVX19fGQwGWa3WpF9ABuWKdd\n",
            "u0aZO6du2qkJAQTZ48Wa+++mqq4jgyV6tbw4YNY1YnDQ8P13fffaeRI0fqxIkT2rFjh9zd3VMc01G5Q\n",
            "u2mTp2qNWvWqF+/fqpSpUqyjnF2rlC3nj17qmfPnnG2G41G9evXT+vWrdP+/fu1cuVKtW3r0Jeq3ZA0\n",
            "U9I7sv2O+I6kAXbNCECy0NQ5AW9vby1cuDBZYx9dnjyhDyOLxRJnbEpZLBYauiS4Wt3Gjh2rwYMHK2/\n",
            "evFq4cKHL3HT8v1ytbo/y8PBQ//79deDAAa1bt04rVqxQy5YtHzuuo3D22p0+fVqDBg1StWrVMtQUd2\n",
            "evW3LUqFFD+/fv15kzZ9IsZjr6SVJPSQZJb0saKMli14wAJInply7Gw8Mj5nYBCS0zf/PmTUlKdHELL\n",
            "y+vmL/g3759O85+V5y6ZU+OXrfhw4fr008/lb+/vzZu3OiyDV1KOWLdIiIitGnTJi1atCjBMUWLFpVk\n",
            "ayIyKkes3fLlyxUWFqZdu3YpV65csaYf1q1bV5JtIRA/P78MOwXeEeuWHA/PLv73FiMO6rik3Q++zi+\n",
            "prh1zAZBMNHUu6OGUnd9//z3e/bt27ZKkJFfievrppyXFf11CQrGReo5at6+//lrffvutGjZsqCVLli\n",
            "Q45SmjcrS6mUwmderUSd26ddOJEyfiHfNwe0avpaPVrkqVKurVq1e8j9atW0uSihUrpl69euntt99Od\n",
            "lxX42h1i46OVvv27VWnTp14p3xGR0fHxCtXrlyy49rZr4987Tqn8wEXRlPngtq3by9J+v777xUUFBRr\n",
            "3/z583X69GmVKFFC/v7+icZp3LixJGncuHGx7tVz//59ffPNN481tQVxOWLdtm/frpEjR6p06dKaMWO\n",
            "GS11/lVYcrW4mk0lNmzaVJPXp0yfmrMVD8+bN05YtW+Tu7h7znBmVo9Wubt26GjZsWLyPd955R5JUpk\n",
            "wZDRs2TH369En263Q1jlY3k8kko9GoI0eOqG/fvjHX6klSVFSUhg4dqpMnTyp//vxq0KBBsmI6gEeX6\n",
            "nzRblkASDauqXNBLVq0UKtWrbRgwQLVqVNHL730krJkyaJjx45p1apVypo1q37++eckP7B69uypOXPm\n",
            "aNu2bapTp46ee+45BQcHa8uWLapXr56uXr0as4xzUg4fPqzRo0fHfH/lyhVJtr+GdujQIWZ7+/btk7x\n",
            "hrKtyxLoNGzZMVqtVZrNZ3bt3T3Bct27dVKtWrRS9XlfhiHUbOnSoDhw4oN27d6tSpUqqXLmyfHx8dO\n",
            "rUKR0/flwGg0FDhw5V/vz50+ItcFqOWDskzRHrNmrUKP35559avny5du3aJX9/f5nNZh04cEAXLlxQt\n",
            "mzZNHXqVGf6w9hfkk5LelpSSdlWwfzbrhkBSBRNnYsaP368atWqpdmzZ2vWrFkKDw9Xnjx51LZtW/Xp\n",
            "00dPPfVUkjGyZ8+uVatWaejQodqyZYtmzZqlAgUKqH379urbt6+2bdumu3fvKiIiIskPquvXrysgICD\n",
            "O9kuXLunSpUsx39eqVSvDNnWS49Xt2rVrkmxNeWI3P27UqFGKXqercbS6Zc+eXevXr9f48eMVEBCgvX\n",
            "v3Kjw8XH5+fmrWrJl69OihmjVrptGrd26OVjskj6PVLWfOnNqwYYN++uknrVq1SmvXrpUk5c+fX127d\n",
            "lXv3r1VoECBtHjpT9Im2Zo6SaommjrAoTF/Lg3VfX/exR961ShQKFdme6eS4QWHRemNoevCfh/f1iup\n",
            "sfU+mH98WKcqpUoX8nkSqSERVqvUqP9K695J7ZKcGl6/z/xd/dtU8K/8dMa+LsxRNP3f6giLmyXnrp/\n",
            "aBSY2rsGHC9a8/0rZhrXL5XlSqSERrw1ZFxwSHFlq1+R2lxIb90LvefO6Nyv9RqMqTteYuKS2X24MvH\n",
            "0/rMauCe2OpePTdJM08cHXX4lbGwAOjWvqAAAA8F8HHvnaaVZ4ATIqmjoAAAD816M31StktywAJAtNH\n",
            "QAAAP7rrqR7D74ubM9EACSNpg4AAADxeXgX9qxicT3AodHUAQAAID4hj3ztbbcsACSJpg4AAADxoakD\n",
            "nARNHQAAAOJjeeRrboMFODCaOgAAAABwYjR1AAAAAODEaOoAAAAAwInR1AEAAACAE+OeI2nIYrHe6fr\n",
            "N1gL2zgM2bmbj/eSMi4y23Ppg7M70TgfJZDQoNDnjIqMstwZM3p3e6SCZDAaDzGb3yKTGhUdG3x42e/\n",
            "+TSAnJYDQYPOURneS/uYgoy+1vFhzSNwsOPYm0kBSDMpuNppCkBwIAAAAAMrLtkqwPHnntnAuARDD9E\n",
            "gAAAACcGE0dAAAAADgxmjoAAAAAcGI0dQAAAADgxGjqAAAAAMCJ0dQBAAAAgBOjqQMAAAAAJ0ZTBwAA\n",
            "AABOjKYOAAAAAJwYTR0AAAAAODGaOgAAAABwYjR1AAAAAODEaOoAAAAAwInR1AEAAACAE6OpAwAAAAA\n",
            "nRlMHAAAAAE6Mpg4AAAAAnBhNHQAAAAA4MZo6AAAAAHBiNHUAAAAA4MRo6gAAAADAidHUAQAAAIATo6\n",
            "kDAAAAACdGUwcAAAAAToymDgAAAACcmNneCbiS6u/O3R0VGVXV3nnAxmQ2Xdz1c5tCSY2r8f6c9ZFh1\n",
            "vpPIickzWQy3Nk1vq1fUuNq9P5lcWSo5dUnkROSZjAqOFN4ZI7N0zuFJTbuufd+mRoRbun0pPJC4oxG\n",
            "hZmi3PP/PuWN24mNq9Hrl+8iIyx9nlReSILBEGGINBbfM63NRXunAsAx0NSlJYMxb71WzZTFJ5u9M8n\n",
            "wIiMitXrWwpzJGWs0G/M3719AuYt6pXdaSILVKk3uccInOWPNJkP+Bn0KqkCZTOmdFpJh6rsn3UKzuL\n",
            "lLSrSpM7kZ8zfomFdFKmd5QpkhMTM/PB0dFRThLSnRps7opnx12uRVyZp8vjmCX/qfCQu7G8U/IgAxm\n",
            "H4JAAAAAE6Mpg4AAAAAnBhNHQAAAAA4MZo6AAAAAHBiNHUAAAAA4MRo6gAAAADAidHUAQAAAIATo6kD\n",
            "AAAAACdGUwcAAAAAToymDgAAAACcmD2aukGSrJIGP7Jt8INtg+yQDyRtnjpcn/obtHHS4GQf83l1sz7\n",
            "1N6RfUkjSyuFT1MNQRQGDJyb7mHfM/uphqJKOWSEp1M15UTvnRN0AuDrzI18Xk9RLUi1J+STlkhQl6a\n",
            "qkvZKmS1qVTnnclfTXg/8+6k1JBklzUxivhKRpkp6TNEdSu8dN0B5uXDihH98onayxOQqX1AcLTqRzR\n",
            "mnj5t+ntGRoJ/19aKeebdxWrw+dbe+U0tS1Exf0eenXkzU2d8nCGnpiUTpn9Pj+XL5V67+drYsHTyki\n",
            "JExZcvqqeO2KerFvOz1VtYy900sTrla3iJAw7Zi6XLtmr9SNs5cUei9IWXL5qdhz5VW/z1sq9lx5e6e\n",
            "YZlytdv9ltVr1fYN3dWLjHlV6rZ56LBxp75TShCvV7erx8xpcplWiY1ypdgAcz8OmroVsjZOnpJOSNk\n",
            "m6J8lHUnlJbzx4fCPpo3TI4/sHj/8aLumokt/UGSX1eXCcOYmxTsNoMuvp6o0SHZM1d8EnlE3qWS0W7\n",
            "Zz7vTb8PEiW6Ch7p5PujGaTyjaqkegY34K5n1A2qTe7+xfaNmmJzO5uKvF8ZWXKnk2X/jytvfPWav/C\n",
            "9Xp32bcq17SWvdNMM65Qt7D7Ifqh0Xs69/shZc7ho2I1n5W7l4cuHzmrfQvWa//CDeoyZ7iqtkn854q\n",
            "zcYXaxWfdN7N1YuMee6eRblyhbiG3AyVJvgVyqUi1Z+IdU7SG6/whBYDjMUvyku2slqekdySNj2dcC0\n",
            "nzJfWV7czXgSeQWy5JxWVr6pJrkaRXJM2UtEPShHTI64lz98qkdt+tsHcaj+3Xfq/p+JalqtCkvQo/W\n",
            "1PLRvSwd0rpyiOTl95bEd/fKpzH3nlrtW3SEvnkz6WPtkxUzmIFJNnOHCz/bLxWDp+ieR+MdqmmzhXq\n",
            "tvyz8Tr3+yGVa1pLPRZ8LTcvj5h9a0bO1OJ+P2rhR9+rSuuGMhhcZwq1K9Tuvy79eUrLBo7TU/5ldWF\n",
            "3Sj4OnYcr1C349j1JUpmG1dV+ymd2zgZARmSWVFaSr6QLir+hk6Rlkj6XVFRSlke2fylpgKQekvZI+k\n",
            "pSNUkesp3xGyNpcjLyGPwg/qeynWWbK9vUS8nWUFolXZZUIIk42SS1lLREUutkPK/Lslos2rt0kg6un\n",
            "Knr544qMixEmXxz6alKdVTr7U+Ut0SFZMW5f/Oq1o0doFM7Vyk8+J6y5S6kCk3bq06H/inOKSzontqM\n",
            "XKwyz7+qw2tTOqM2Y7BaLNo2aan+mLlCV46es011zOWnp+tUVKNPOqhghRLJinPv6k0tGTBGR1btVOi\n",
            "9IPkVyqMa7Zuqcf+OKcrn4LItkqQmAzvHNHSSZDAY1HRQF63+arpunL2kwH9uK2tuvxTFdiWOVjdv3y\n",
            "yq9Hp9tRj2TqyGTpLq92mjpQPH6u6VGwoLDJZXtswpiu1qHK12j4oMDdfktwbJM2smvTL8XX3fsFeqY\n",
            "7kaR6tbyJ37kqRMftlS+lIAIE2YZZtmKUmZZTtbF5bA2K/i2Rbx4L8VJI2S7ezYVNnOsr0uaZKk7JK+\n",
            "TmFeUyXdkvSupEMP4gQl47hmkkJS+Fwux2q1at7/3tDRjYvkk/cplW/cVpl9c+nGheM6umGhjm1arLd\n",
            "GLdXTNRonGic85L4md6+t25fOKn/pKirm30CRYSE6tHqObv51UgaTSbJEJzuvt79bITdP78d9eS7Lar\n",
            "Vq4hv9tX/RRmV/Kp+qtX1JWXL56urxC9q/cIMOLN6kd5eOVtnGzyUaJ+x+iEbV7qobZy+pcJUyKt3AX\n",
            "xEhYdo1Z5WunfxLRpNJlmhLsnLq+ssX6jjtcxmMcddUMnu4yyOTl0LvBcmFTvakmCPWrdln3RLcF3Tj\n",
            "jqzRFmXJ6UtD54C1e9TCj3/Q1WPn9O7Sb5Q5p29qX6bLccS6PTxT5+2X9bFfHwCkhlnSWUkHZWvMNst\n",
            "2zdwO2c6OJeXhhVE9JXWWbTGVh6ZJWi/pM9mmQf53EZTErJXt+rh3JZ2X7YxfcmT4hk6S/lw1W0c3Ll\n",
            "Lu4uXUffJOuXv/+4vbsU2L9Wu/17R0eFf1XX5BRlPClx7umj9Gty+dVTH/Burw45qYX+yjIsI17d16i\n",
            "o6MSPDY+NDQJW7X7FXav2ij8pcrrn47p8oj87/v14HFGzX+tU80s+twjbgQIKPZlGCcTWPm6cbZSyrd\n",
            "wF8frBnzb93CI/RtvZ6KiohMUV5mD/d4t5/ZflCh94JUuEoZZcmVcc/SOWrdHmW1WhVy577ObD+oRR9\n",
            "/L4PRoFbffpjqeK7CkWt3ZNVObR47X7W6vqJnW9TVxYOnUv4CXZQj1i34wTV14fdDNOedEToUsE33r9\n",
            "+Wt08WFa9dUY37ddBT/mVT+YoBIGlGSRZJr8m2wmU1SdskXZNtCuPHkmoq6UVHzip2QydJGyTtluQtq\n",
            "X6aZYwk7Q+YJkmq02FArIZOksq80FJ5ipdX4I3LunBga6Jxjm1eIkmq0fqDWGdqzO4eqttpYBpnjZ3T\n",
            "lkuSXhrQKdYvKZJUsWU9FSj/tO5evq5TW/cnGufgkk2SpHoftIldNw93NRnYJU1yDb51TzO7DJXRZNQ\n",
            "b3/1fmsR0Vo5et01j5qunsar+L3s9jW/5kYrVrKD+u2aoWrsmqY7pKhy1dvdv3NGMToOVs1iBDP/vKz\n",
            "6OWLeQO7ambtWIaTqweJOK1iinii3ryTNrJh1YvFFf1+ysvfPXpSgmAKTEw2btnCR/SY1ku5btBdkWH\n",
            "Hnlwf5ASb/Kdr3bpXjibE8g/uEHcUumUb4ZUljQvSTvB1etVS81+9h2QvPycdsqaYWfrRnv2ALPVNO1\n",
            "M4d05cR+Fa1SL8GY188ekSTlLVkx3hhIXOi9oCTvcfR8rzfUZswnkqQLe45JkorVfDbesUWqPaNLh07\n",
            "r7/0nVKpe1QRjXj5yVpJUqGLcf3YJrcqWEjfOXtK4Fv+n66cv6u3Jn6p4reRdn+ksXK1uOYrk0zNNai\n",
            "r0XpAu/Xlau39ZrZA7gWr78wBlzZM91XEdkavUbmbnoQq6eVfvLP0mTtPiilyhbjmLF9SzLeqqUMWSa\n",
            "ty/Y8wMB6vFot+GTVbA4Ima1XWYSjeopkxM0QSQDh49A2eVtPrBQ5JyS6ohqYFsZ/J6yHadXB1Jx/4T\n",
            "51oC8W89+K9PWiSbURlNZhWtmvjJzlxFbPcKiwwPVUSI7fJDb9+c8Y7N9GB7yN2bCcaLDAtRZHioLU6\n",
            "2uL/4eWX1k8FgkNWanFm6GZPRbFLp+v6Jjslbpogk24II4UG22cNZErh25uE1NUE3E57JHBESpsjQcE\n",
            "lSpuxx/9l5+2V9rLodW/uHJrf5n8KDw9T11y9U5c2GqYrjyFytbuWa1opZnTQyLEKrR0zTiqGTdPXYO\n",
            "X12eJ7M7m4pjumoXKF2W35eqEMrtqnZ591VtHq5ZB3j7FyhbvU/aKP6H7SJs91gNKrZ5911eOUOXdh9\n",
            "VAeXblbNzs2TFRMAUiKxaZX/SFr64NFX0hRJbSWNlG1BkkcltFrGw9NLCS2+gmRw98qkDj+uTnqgJIP\n",
            "hkQUtEvgwslosD8amfnULq9VCQ5cEj0xe6r36p2SNNRj/rUVC72ua1M1iTXXd1n0zW4v7/Sif/LnUe/\n",
            "UYl7np+H+5Wt0e5ebprpeH9NCFvcd0ZOUOHVi8SVVbu05j7uy1u3bighb0/U7Faj6rpoPSZqq0M3D2u\n",
            "iXH07Ur6sLuo/rn1F9pFhMAHvWwA8gqKeGriaVwSV88+Dq+uQwJzeF5uHrCPylPDalhdveQRybb1I7g\n",
            "O9fjHRN854YkKZNvrgTjuHl6y+Rmmz4Scu9WnP1BtxI6OYvUMHu4yzNrJknS/eu34x1z/8YdSUp0URJ\n",
            "3b8+YMy/Bt+L+lTrwWsJnZxOzdOA4LfzoexV77ln9b+8sl23oUsoR6xYVEalja//Qnl/XJDgmV/GCkq\n",
            "R/Tl5IdlxX44i1279ooyJDw3V2x596x62aehiqxDyGV3wrZkwPQxUNKv5KEtFckyPWLTkenl108/RIY\n",
            "iQApI5R0kbZVqZ8PYmxDzuA+M66JXSB1cPtF1KcGVKt4DPVJUkXDmyLd//fh3ZIkgqUTXy6S87CpSRJ\n",
            "V0/Gvdf8XwnERuo9nGp1etvBePef3fGnJKlIEiuo5Sn1lCTp7wMn4+xLKHZiVgyZqFVfTlW5prXUZ/2\n",
            "4BKc8ZVSOVjejyaSJb/TX5LcG6srRc/GOuXrMtj2jL5PvaLUrWv0Zvdi3XbyP6u2bSpJylyikF/u2U6\n",
            "2uGbOpkxyvbpZoi8a3/FjDKrwV75RPS7QlJl581+8BQFowSloh2zTJCbLd6DvuDalstzuY+uDr+fHsr\n",
            "yjpv5PEa0p6Rrb74G1ORW4Pm8ccqTg2Q6v8SldJ0rYZXyk85H6sfX+umq0bF04o51OlVbB84vfwKVn7\n",
            "ZUnSjjnfyvLI/ejCgwO1ZdoXjzW1BXE9/CVt9VfTFXY/9t05ds1eqWsnLihv6SIq+lz5ROOUf7m2JGn\n",
            "9t3Ni3WMpLDBYK7+YkqK6ndq8TyuGTFK+Z4qp56KRLnX9VVpxtLoZTUZVeOV5SdLs7sNjzlo89MeslT\n",
            "q+frfM7m569uU6yYrpqhytdqXq++v10X3ifTT4sK0kKX+54np9dJ/Huqm5s3O0uhlNRhlMRl3685Tmv\n",
            "DMi5lo9SbJERWvJgDG6euycfAvmVtmXEv/cBYDUMkv6TlIpSd1ku37ukqT9sq14mVVSMUkP/9y1StLn\n",
            "8cSZJWm2pJWyLaKSS1KHB/s+lRScitxOyHYfvOcexA6V7RYLCV35XEHSoEe+L/Dgv7UlLXxk+2T9uxi\n",
            "MS3qmfiudaNxWf66eo7FtK6h0nebyyJRV/5w5rBNbl8szcza9NmRmkh9Yz7Xpo/0rpun8vk0a17aCCl\n",
            "eso4iQIJ3bs0HFazRS4PXLCr1/J9EYD109dVBbpg6P+f7eddsiqhcObtPc/v+eJK7comuSN0V3VZVbN\n",
            "VC1ti9p15xVGlahjZ5tXldeWTPp8uEz+nP5Fnlly6xOM4ckWbf6fd7SzmkBOrlpr4ZVaKMSdSopLChE\n",
            "JzbsUdlG1XX38o2Y5beTsuR/Y2W1WmUymzSl7aAEx73w3psq8XzlFL1eV+GIdXt9dB/9tfeYzu48pEH\n",
            "FWqhItWfk7ZtVV4+f15UjZ2UwGPT66D7yLZg7Ld4Cp+WItUPSHLFub43tp7/3Hdf+hRt0dsefKlqjvE\n",
            "xuZl3Yc1Q3z12Wt08WdZ83gj+MAUg3ZtlWvewuW+PUUbYpk/Vku79cqKQrst3OYI6k3xKIc/rBMUMl9\n",
            "ZHkJVtT9p2kmanM7ZqkD2RrClvJ1mwm9hM6j2yrdP5XoQePhzanMh+n8tqQWSpS+XntWz5V+5ZNUVRE\n",
            "mLLkzKdKzTurTof+8s1fNMkY3j451G3Sdq0bO0Bnd6/XvmWTlS1PIVV5pZvqdh6oc3s2KvT+HUVHRsR\n",
            "cf5eQoFvXdHTjojjb7137W/eu/R3zfZFKz9vWXM2gOs0aqhLPV9aOqcu1Y8pSRYZFyCdfTtXs3EKN+3\n",
            "dUjqL5k4yROYePPt4+RUsGjNHx9bu0ffJS+RXKo9rdXlGTgV10YuNehdwJVFREZJK/YNy7Yrv+8uLBU\n",
            "4ne/Lhcs9oqoYzZ1EmOV7fMOXzUf9cMbfzhV+1ftFHn/jiiyLBwZc7ho4qvvqB6H7RRibqV0urlOzVH\n",
            "qx2Sx9HqliWXn/63Z5bWjJqpQ8u36sjK7bJaJb+CufV8rzfU6JP28iuUJ61ePgDE8bjz5wZJGiZpiKT\n",
            "Bj52Nk6vea/7FOi0aFsjik83eqWR4kRGRWj1rYdjuCW95JTW25oe/Hm/0XoFSuYsmORTpzGqVJvc4Yd\n",
            "07qV1808Bjqf3hr7ue75rPv0CZTE8iNSRh6rsnI2S25tz1U7tET23U/nDumpptczcsUjnLk0oNiZj54\n",
            "engqKDoUrsmt4vvHrQxavb5ZV6113O/UbImn2+O4Jf+ZwLD7kbV2DWh3X9vMZXWtst2OY0k5ZN0NZ2f\n",
            "D0AqJfmLEwAAAADAcdHUAQAAAIATo6kDAAAAACdGUwcAAAAATsz8mMcPf/AAAAAAANgBZ+oAAAAAwIn\n",
            "R1AEAAACAE6OpAwAAAAAnRlMHAAAAAE6Mpg4AAAAAnBhNHQAAAAA4sce9pQEeYbVagrcFrA02GowWe+\n",
            "eS0VmtVsmgqOSMtURZgtb8eCnYYDZQNwdgMMgjOeOioixBGyZcCTG6GaLTOyckzRJt9bZEByf5by4qK\n",
            "jpoy8yrodt//SdZ/z6RviJCor3DzZaIpMZZIxX0x7xrYbuX3Ih8EnkhceFB0d4Wqznc3nkAcBw0dWko\n",
            "PCS0upvR3c/eecDG4BV1LznjLLLWj7pvyZHe+SB5ov6fvfsOj7JK+zj+ncmQQEILJYD0IkgHRVpAEVh\n",
            "BcdUVRCnKigiK7oIvFhBUVOyNVXRVEBRBRWkCC6gIKEUp0qRjMCgIEnp6m3n/OBMIZFpCkin8Ptc11w\n",
            "zPc+bMPXN4ktxzmiM80ZdyZ7JL3BKZlhlT1PGIb6xWa/KGKcNSvJXLSE+6y5pVumoWysUDgd3mSN323\n",
            "t1HvZULT05/MNka/jzJardAYAvPSv/x/QGH/B2HiIiIiIiIBLbVgMN5q+bnWETEA82pExERERERCWJK\n",
            "6kRERERERIKYkjoREREREZEgpqROREREREQkiCmpExERERERCWJK6kRERERERIKYkjoREREREZEgpqR\n",
            "OREREREQkiCmpExERERERCWJK6kRERERERIKYkjoREREREZEgpqROREREREQkiCmpExERERERCWI2fw\n",
            "cQSto++HFFR6qtnL/jECM9PDtp23t3H/VWrvkDM6NLphNdHDGJD0pmpGx4954j3opdNfSLctaszIrFE\n",
            "ZJ4l4U1bfPUfn96Kxc7+MMyGZSsXBwxiXdWqyNj3ZSBB72Va3HX9KiIEmFViiMm8c5uy876+YO7f/d3\n",
            "HCISOJTUFSKrpcTasLKWGtYw7P6O5VLnsIM1jWygvLeyURbbt5ZIa2Or1aJ2CwAZaY4IINxbuYiSWfM\n",
            "sFmt7q43sYghLvEg7kwIsPmkAACAASURBVF3qqqHvl/35g2Epnso5okpNL2GhZ1gJS1ZxxSbupSZmRb\n",
            "a4f3o1b1+ARZazvW210C8sXO0WCNKTHKWuvPeTKzZ9eNev/o5FRAKDkrpCZLUSefNjtSLLV4vwdyiXv\n",
            "IxUOzNG7U3zpaw1zBrVrkeXyAoxlYo6LPHC4YAFU2Y6fCkbFmaJ6jLkslI1mkQVdVjig6nD92RYbVFe\n",
            "f6eE2ayRsQOqlKx7VZniCEu8mP7wvuSwpGyvX6KE2Yhq16dKyUaxGowSCD4d/euZtFNZXttNRC4dmlM\n",
            "nIiIiIiISxJTUiYiIiIiIBDEldSIiIiIiIkFMSZ2IiIiIiEgQU1InIiIiIiISxJTUiYiIiIiIBDEldS\n",
            "IiIiIiIkFMSZ2IiIiIiEgQU1InIiIiIiISxPyR1I0DHMD4XMfGO4+N80M8IiIiIiIiQSt3UlcfeANYD\n",
            "xwEMoAUIA6YBdxQhHGcAg4473O7A7gzn3XdDKx01pUBHAI+B66+uBBD2+IJHzLM0oaF4z/w+TkP2Noy\n",
            "zNKmCKMSb1ZOncCTbS0snzze5+c83d7Gk20tRReUeKXrLXip7YKT2k1EQp3NeX8LJvEpCewBVgCngfJ\n",
            "AC6Cv8/Y68EgRxDHRebvQBGCHMzZffADch0nmVgLHgZaY5LAP5n3+7yJjLTZHdsfzdOM+PpWt0qg2z+\n",
            "6eU8QRFY6/9v7Ox/eMJ27tNtoNuIHBM57zd0iFKiF+N2/1bexT2Uq1GzHiy91FHNHF2/3DAtZ8+gZH9\n",
            "m4hMy2FyOjK1GnVmdgBo6jeJDS+Lwm16y0jJY01UxewbsZiEuIOkno6iTIxFajfsQXdRvanfscW/g6x\n",
            "0IRa213I4XAwsftwdi/fwJW9uzJs9iv+DqlQhFK7Hd71G+Ob3O6xTCi1nYgEHhtQCpiGSegeAN5zUe4\n",
            "W4AtgFDAT2FwMscUADTBJnS/uwCR0h4BrMT2MABbgWczQzv8QREldDqstjKY9OngsE12zSjFFU3AOu5\n",
            "3vJn7G/HHvYs/K9nc4Rc4aZuPy9j08lilbpWYxRVNwX70wlI3zJxNWIpy6V3YhsnxFjuzdyi/fzmLHd\n",
            "7Pp//pXNIrt5e8wC00oXG9piSn8p8dD7P9xG6Urlad+bEvCS0VwaHscP3+5jE2zv+PemRO4up/n/5/B\n",
            "JhTazpVvX5/B7uUb/B1GkQmFdks5cQaA6Box1G3XzGWZeh1C54sUEQk8NqApEA3E4zqhA/gKeBqoB5T\n",
            "JdfwFYAwwDNgAvAS0AyIwPX6TgCk+xDHeWf+TmN65zzFJGpiE0oFJ1mp4qOMW5/3znEvocD53AjAaM8\n",
            "S0CvCXDzEFjIioUjy0yFVHZnB5r/djbJm/kvZ396JBbEtmDHvB3yEVqfBSUQx8c5G/w7gov3w7i43zJ\n",
            "1O2cnXuff97KtSoD5ieg+XvP8XKqRNY/PqIkErqQuF6W/DUe+z/cRvNe3Vi2JcvU6JUxNlzX78ynbmP\n",
            "v8XsRybS5s7rsVhCZyhuKLTdhQ5u3ctXY9+lTtumxK/39TvO4BIK7ZZ84jQATa5vz90fPuXnaETkUmT\n",
            "DDLMEKI3prUtzU/YlF8cynPetgFeBNcBUTC9bH2AyUBF4OZ9xTcUMnRwObHPWk+TlOf2BewC7i3PpQD\n",
            "JQDpPkhTyH3c6qyfP5afoi/tyxn4yUNMrEVODya1rT47FB1GzV0Kd6Th8+xrwxk9i+ZC2pp5OoUKsqH\n",
            "e7uRc/R/8x3TKmnk7h/7qu0/sd1bPj8m3w//1LgsNvZOH8yWxZP5+j+HWSmpRAVHUOdK6+h012PUa1h\n",
            "K5/qSTx2mG/fGcPetUtITz5NuSq1aNXrbq4ZNDpf8ez+4SsArh089mxCB2CxWLh28Dh++PglThyMI+n\n",
            "EX5SuENjfpBelQLveIqPLcGWfbtzy3APnJXQA3Ub2Y/7Ydzj1ZwJpZ5IpVa50vuoONYHWdrllpqYzpf\n",
            "84SpaN4tYJw5l4/YMFrivUBFq7pZxMBCCqQrn8vhURkUJhw/RqbcEkZisxc+bW4Fvyk+W8vx8YDHyU6\n",
            "9w0YBnwFPA+eRdB8eQbzCIuw4HfMD1+vkh3c7wTJqHbCBzNRxxByeFw8EHf0Wyas5yKdS6j3YAbKBMT\n",
            "zeFd8Wya/R2b565g+PzXaNqzo8d60hJTeLXzEBLiDlK7TRMad29LRkoa62Yu4cieA1jDwrBnu8qhXXt\n",
            "o0UTCI0te7NsLWQ6Hg1lP9GXH8jmUr1aHFj0HUDo6hoT4Xez4bjY7V8yl/6vzubxDT4/1pKckMmVoZ0\n",
            "4cjKN64zbUb9udzLQUti2dybEDe7CEhYHdt+Gvtz/3Kf94choWa96Fcm3hEYSXiiIt6XRI9fbkVyBeb\n",
            "zc9dZ/bc0kJJ3Fk2ylTOVoJXQC2XW6zH/0Ph3fuZ/j81yldObqgbzPkBGK75fTURVYoe9HvT0SkIGyY\n",
            "nq3emBUu2wGrMInP2ly3dZxL4FyJ4/yEDuA7zEqabYFugL9mOFcEPgSygYf9FEOxWjdjCZvmLKd68wY\n",
            "8vnYqEaUjz57bPHc57/V+jOlDJvBi/EKstjC39ayYNIuEuIM07t6WEV9POvuHfVZ6Bm90vZ+sjMx8xa\n",
            "WEzrOtS2awY/kcqjRoztApawmPPPcH984Vc/ns8d7MnzCEUQvisYbZ3Naz7otJnDgYR/223Rn01tfn2\n",
            "i0jnWnDu5KdmeH2ua7YwiNcHj+wZTVpSaep3rgNUdEx+aozlATq9Zabw+Eg5WQiv67ewpxHJ2KxWrj9\n",
            "jUvix6FHgdx225esZeU7X9BpyK20vOVa/tiyN/9vMEQFYrslO+fUpSemMPOBF9m2cBWJR08QWb4MDTq\n",
            "3pufjg6jTtmkB37Ff5f6C/9L99k4kCOR8/b4fk3zdgEnOUoFbgVeA1ZihkO/hfk7bajfHf3HeNyqEWA\n",
            "uiPvA9cDkwFPdxhpS10xYAcMOYe877ZQfQ+rau1GhxOacOHWXvD5s81rNl3goAuo7od15PjS0inBvH3\n",
            "lvIUcumhdMAuGbQmPMSOoAm191G1QYtOJNwiPjNP3isZ+fKeQB0uHPE+e0WHsG194wtlFhTTh9n/oR7\n",
            "sVrDuOHhNwulzmAV6NfbiklfcL/1av6vYlfeu+0R6se2YvS6j2k38MYC1xkqArXtEhNO8vE946lcvwZ\n",
            "93/y/fD8/1AViu6WcNEndkhensXnuCup1aE7r27pSsmwUm+cu5+XYwWz84tt81RkgUnM9LuW3KETEq9\n",
            "xf9zuApc4bmAVFOgDdMT15wzDz5K4Bdl5QzxE39R933pcvjGDz6XrgMyAK6IfpiQxKqaeTvO6V0+XBv\n",
            "vSb9BgA8RtM89SPbemybN12zTi4bR+/b9rNFV3dL0d/aLtZb6ZW67w5ubvVveSctKTTXveDa3f7g9z0\n",
            "qBldfGiXWd2udstYl2VrNGvHkV+38efuTdRr09VtnUfjtgNQrVFrl3VcrBMH45j5yC0c/2Mft46dQu1\n",
            "WnS66zkASatdbpbqX0ezGWFJPJ3Fw6z7Wf7qUlJNnGPDfMZStWrHA9QaiUGm76YOfJenYKR6Y/3qepC\n",
            "UUhUK7VW5Qk5a3XEut1o3oOfqf2CLCATP373/PTWHh+A/4ZMhzNO7ejqjgGqKZkutx6P9nFAli7sdwm\n",
            "RUi5ztvozBDGAdgeu9uuqCsuwk6OX/Rult8paiMwizOcgjoiVmZM2hZbWE07tbWY5lqTeoCZmJ9epL5\n",
            "GVzGzRyMnLkZScfcT3PMSEkjM9VMUYyqmDcnj6xQFovFgsNxSaw7UyDWMBv1ru7msUxM3SYAZKankpF\n",
            "i1gKKjK7ssmyU83jKqWNu68tMSyEz3XyxGlku7x/spcpWuKh2+3XdN3wxth+ZacncPuEzmv/tDu9PCj\n",
            "Khdr0179WJ5r1M4p2ZlsHSF6ex6NnJHN65n6d+mYUtvES+6wxUodB23/93NtsWreKmp4dSr31zn54T7\n",
            "EKh3bqN6Ee3Ef3yHLdYrdz09FB+WbyG+PU72DJ/JbGDb/apzgBxItfjKpwbgSUiASYnqSuLWR3SXXKW\n",
            "jtkqYADg6msvd1/3VnDeF+cWAs8DT2DmBvYGEorxtYtERFQp/r30bZ/KWqzneobc/TJy2M3E74tZ3MJ\n",
            "hdyih8yK8VBSD3lrqvSBgseRaiKQo281hL3C7rZn5Ot+8/ThlYqoz6K2lIbPp+IVC+XorUTKcvz8zjP\n",
            "iNO9m+eA2b567g6juvv+h6A0Wwt92R3fF8OepN6se2pNe4S2eIe7C3my8u79ya+PU7+GvvgUKrs5j8k\n",
            "etxLb9FISJeWYHlmJUp+3gpm7MSgqteN3djunKOx+c7soJ5GpPQ/Q8zbDToE7r8skWEU7JsFACJR0+4\n",
            "LJOYcBKAMjEVXJ4Hs6hJzjf4ycfzftt55oj73iLJP1t4BBFRZkhO8knXC7QmnzT/nT0tSlKiZCRhJcy\n",
            "wn5TTx/OcTzrubqS0Z8v+O5al/3mEmi068sDHG0M2ocuvQLzesjIy2fnNT2z47Gu3ZWIamE3v/9oT73\n",
            "O9oSYQ227TnOVkpqYTt2YrD5RoxzBLm7O3Ca37ny0zzNKGcQ1u9bneUBKI7eaLnN7FEiVdLzwVwOJzP\n",
            "W7gryBExDsrsAgzTPJ9zAbeedcuN9sdTHU+/sLF+dbAheMJYoFmmH3wVhYgtpzksZKP5btgkrrtmB66\n",
            "/C3xF0JyhuzsW7XF5fm4NVsBqOtlJa6qV9QB4PfNe/Kcc1e3FFzNZu0BiN+8yuX537etAaBGU8/DlCr\n",
            "XvgKAw3s25zl3wE3dnqyY/AzfT3uBRrG9uOedZWeHgYoRaNebNSyMD/qOZkr/sfy5Y7/LMod3muOX+j\n",
            "L5gdZ29do342+jBrq8tb+7FwBVGtbib6MG0mnIpZnUQeC1mz3bznu3Pcpzrfq7HPJpz7afrc/V/L0At\n",
            "z3X47wTtUUkYFiBNzGbe5fDzJ87AHwFfOK83w5sBuoBSzCJ04U+AWYAn2P2pZvEuQVXnsQM7cyv3Zht\n",
            "FDo6656M5wVXXsAkp1nATGC2m1uXAsQSVHJ+2S996SPSElPOO7duxmKO7I6nWuO61OvYwmM9Lf7eGYB\n",
            "lb8w8b6+etDPJLH7+w0t6b7KicNWtQwBY9fFLpKcknndu65IZJMTvpnKdxtRs4XnvpUad/w7AmplvYM\n",
            "+1H1168hm+n/Z8vtrtt59XsmLKM1Sp34w7X55zthdQzgm0680aZqXVrV0AmDF0wtleixw/fbKYXcvWY\n",
            "wsvQcu/X+NTnaEq0Nruim5t6fPaSJe37g8PAKB68wb0eW3kRW1qHuwCrd2sYVYsYVYObt3LzAdePDtX\n",
            "D8Celc28MZM4vHM/0TWr0PQGzz+/A9AvQM7eDleibQ1EApYNs+rlUEzi9E/MkMmumFWOUoE/MatIzsQ\n",
            "Ma3Rln/M5zwIjMcve7sYkjNMLGNsRYAQmKbwdOIjnHyaXOe9bOW/uLCpgPEHjqtu7027ADaybuYTnWv\n",
            "Wj5c3XUqpsFId++ZWtC76nVLnS3DP9Ga+/sLqN7M/aaQvZs2Ijz7XqR8NrriQtKYXd322gaY/2nDqUc\n",
            "HYZZ2/+2LKXxROmnP33yYNmiOG+VZt5v89jZ493GnKr1w1jQ1Wzbrezu+cAti6dyTsDWtH4mpuJiCrL\n",
            "X7/+wu4fFlCydDl6PzPda7t17DeSTYum8dvPK3h3QCtqt76GjJQk9m/4jgYdenDm6CFSE096rCPHt+8\n",
            "+gcPhwBpmY/ZTA9yWa3f7Q9S9qkt+3m7ICMTrrc9rIzmwcSdxa7cxrv4t1G3XjMjoshze9Rt/bo/DYr\n",
            "HQ57WRRNesUhgfQdAKxLYT7wKx3fq/8zi//7yLTbO/I27NVup1aEFYCRvxG3ZwbP8hIsuXYeisF4NxY\n",
            "aI0YBtwFWYaTlPO770TkQCRe/XLH5y3gggDNgK+bHw0wXnLbbzzdqF3nTdf1PGx3CXhnk+epWGXq1gz\n",
            "dQFrPpxPZloG5S+rTOzgW+g5+p9Uqlfdax2lK5Xn0dUfMm/MJHYtW8fqKfOpUKsqne+7lRvH3svu5Rt\n",
            "JOXmGrIxMr7+ozhw5xqY5y/McP/H7EU78fm6eV8MubQjK7VkLSe9nPqHuVV34ecFUfv7qQ7Iy0ihT+T\n",
            "KuvHkw1wwaTXT1el7riCxfifsmr+bbd8YQt34ZP381hXJVa9Hm1vu4dvBY9m9YTmriSbIzM7z2vCUe+\n",
            "xOAw3u3cHiv++FIjTpduCDupSXQrrfSlcozet3HLP/PZ2yas5z9P20nMy2d0pXK0/of19F1RD8aXntl\n",
            "Yb39oBZobSe+CbR2KxNTgSc2fMLXr05n24If2L54NQ4HVKhZhS4P9qXHY3dToVbVwnr7xe1bTFIHZrs\n",
            "oJXUiAehiu9HHAc8Bz+A6KbukdPz3p3/cMrp2jfLVgm4idMjJSLUzY9TetHX/Heh1s9SO//pyV7seXa\n",
            "6oEOPr9E0pKg4HLJgy07Fx8kBXc3vP0/nhz9Z1GXJZ2xpNooojNPFi6vA9Gdgclde9PdBj10bnhz//O\n",
            "nZAlevrXlWmuEITD6Y/vC85Kyn7inVTBh70VC525Kez2vWp0rdRbLniCk08+HT0r2fSTmV1WPf+wAv3\n",
            "DS4K12EW1QPz5f+1xfCaIpJPXv9wEhEREZFL1irObU3VGajtx1hExA0ldSIiIiLiThZmoTkwI7zcT7A\n",
            "WEb9RUiciIiIinnyc6/EDnL8mg4gEgItN6iZgvrUZf/GhiIiIiEgA2gCscz6uAdzhx1hExAX11ImIiI\n",
            "iINxNzPX4K9daJBBQldSIiIiLizZdAzmqbDYHBfoxFRC6gpE5EREREvMkGns717xeByn6KRUQuoKROR\n",
            "ERERHwxh3N71lUA3vJjLCKSi5I6EREREfGFAxgOpDv/fSfwT79FIyJnKakTEREREV/tAZ7I9e93gfZ+\n",
            "iqUgxmOS03FF/DpZztfxx2vLJUgrFxWy9FQ76SnZ/g7jkpeRas9X+eyMTDIyMoooGvGV5cJff15kpel\n",
            "6CxQOLFjy/P3iWmaG2i1gOLD4WjRL7RY4HBaf262IvAl0A24ESgHzgM7Ar8UYwxXALh/L7nGWBzgFHH\n",
            "DeFzd/vrY7nj7HbOAEsAn4BPiUvImqGHdgtnn73F8BKKkrTA5+W/z67xX9HYYYljDLQV/K2e32/eu++\n",
            "b52UccjvgmzhZ30pVy2nd9WfPhn86KOR3xjgeTjnEj3Vi47Mzt+zYwjqWtmFEdU4o3DQXpKCUuyt3L2\n",
            "TA6sn300df3so8URlnjhcGAnmzP+DAEYAKwBmgBVge+B7vieaBWWLOBrL2X+yPV4Iudvz1Cc/Pna3mQ\n",
            "CCy44VhqoC/Rw3vo4b/p2J68JwA78mNSJiIiIiBREHUzC5HDeTgI3FdNrX+F8zUDq9crN1fDLQOTL53\n",
            "gdcMZZ7r7iCCrIxGA+m/n+DkREREREpCDqAvs5l9jZgQ8p+u0OCprUjSfvvLYnnMcGY97P58ARIAMzp\n",
            "HQcEOairmrAR8BfQBqw11nWhu9z6gr62lUxn/Nh52vvBP6FGQIY76wzwvVHcB5fP8dxznJLLjgeidmM\n",
            "fiuQ7Iz7D+BjoJ6Lep7k3Psd4Iw1Hah5EXXm/gxbYHpuTzvf01LMvooANwA/AUnO+mZhPkdX+gErnXW\n",
            "kOeP8L1DjgnKfc+7/fs7twpFivtYFvn0+NznfVwKmh/UosFrDL0VERESkoH4DOgJfYObVWTB/kN4JTM\n",
            "dsg5Dzh3SgynTe1weeB+Iwf6zHYIYbPuc8PyHXc8oAq5zP2QgswyQjA4BGmCGKrpKxwnjtssAPwOXAZ\n",
            "mAyUB6TNNYByjnLFeZiATnDamNyHbNheqf+BuwG3se8707A3Zg5l605P8nJiak5MBSTgB3HJDsFrTPn\n",
            "M2wMvAKsBqZhhgP3ABYBjwAzgIXABuBmoC9QCTM/NLdJwIOYnufpzvurgfudz7kGM9QSYKoz/uHANkx\n",
            "bJBWwLl8+n0GYLxJOAXOBQ5i2/zsiIiIiIhepBCYBSSdvz4UDM3zvg0J8vcLsqRvpPJYOjLqgfD/nuQ\n",
            "sXgRnjPP4t568mH4GZa5jzvovitXN6zVZwfuJYC/gTkwT5OvTT189xLHmHGPZyHtsFlLyg/BznuVcuO\n",
            "P6w8/hpTJJ2oYLUmfsz7JPreAQm6cl5f61ynavKuf+ruXvrcl5/Dybhy+1B57kfLzjeE9fDLwtSl7fP\n",
            "Z5Pz/FUXHI9yUVZEREREpEBu5tzQQ1e3KoX0OkWR1O2EPCvCluDc+8mdQK13HnM1h/BG8p/U5ee1f3Y\n",
            "eu8HFaw9389ru+PI5tsH0MDkwqzzmqIVp7w4unnMnrodr5rxfdyulXkydP7t4zjTnuZkuzq1ynuuY69\n",
            "gi57G+LspbMENsHZje2BzukrqC1OXt88kZ6tzowhMafikiIiIiF8uGSVZG43rYYQpmDtNfhfy65fCew\n",
            "LwDPORDXTmJWm6ZmHldZTE9RzmrxTZz3m92Uc86H17rYl67sfN+o4t6/od5v/kViRmemFspzHDOK53/\n",
            "/ggzzDbH785bjijMipkWzg2JLOXm9da6OX4xdbpqi5xVYn/xcC53fTkJ3hoX5XN61i4H2mF64Dy5mLr\n",
            "cfT4LgBGYHuJXnf8+AErqREREROTiVMHMA+uS61gqJkmYg/njtai2YMgCvvNSZqePdR1xczwn2crpSY\n",
            "vkXCJw3EX5E87n5Gc/wYK89jEX5XNWI83vXoYlMPMBL3ztk5j5gpM5P6HLcQPwKCYxiczH6yV4OFfQO\n",
            "l19Hg4fzuV8VjYg2vnY27ZY1b2cv9i63H0+OUN07wfect5+A75WUiciIiIiBVUHk1TlrErowCwI8Rhm\n",
            "Vb6ilowZ/hZIrOQ/qfJVTr3ueidzhl7m9/VPYxbcyI97MAuFZGBW4lyLSQKzMatQvuzhuZlujl9MnRc\n",
            "r92f6GmbOnTvri7gud59PNmaI5gTM0N/rMQvC3K+kTkREREQKojZm0/Fazn+fxqzO95XfIioeKZikIx\n",
            "yoiFmMIzd3y+QX1mtnYnrWymMSntxqcP7CLUXpaef9AGD2BefcDZH0R52+ysb06FXCLOqzL0DqcuUYZ\n",
            "jjsR5jhzjcWV6OLiIiISOgoh5m/lZPQHcbMIQr1hC7Hbud9axfnOhfh6+ZeRKOFi/O9ivC1c7Nhknpw\n",
            "ven2jQFSZ3795Ly/1s35Cn6qK0dtzl1zObKBhUrqRERERCQ/LJjVBJs6//0X5g9XX+euhYKFzvv/4/y\n",
            "FYcpybvn/opKz+uO/LzheHbNQjb0IXztHFucWvWlywbk7OTckNj+JS1HUmV+TnfdPcC7BzFEb2I5Jqn\n",
            "P3GubsIXfhtgUFqcuTppjNyL8k71zDMA2/FBEREZH8+DfneoRSgX9Q+MPLAt1EzPyv64AtmM3AS2M2s\n",
            "v4ak2BFu332xXkDM8z1Nszw11WYYaC3A69jhjBGFNFr5zYVs1/fIsz8tzTMYjlXYzYP/wmzSujLmCR4\n",
            "tZ/qzI8FmOGSQzFbJHyOmRtaF+iNaeOhmP/3OXZjEtKOmMWBUjELvRSkLk92YD6TezHbISxx1hcFdC3\n",
            "AexURERGRS1RDzB+hOQtyDPZTHEWxT91Lbp5zynm+9AXH62L+UD+GWQhjHyahsmFWJHRg5t0VxWs3xi\n",
            "Q1p4AkzPYGOatXplH4m4+7Eg48iUkwUjEbn88EGjjPj8CsDnoas1ojeH+/hV3nROe5IS7O5ewj193Fu\n",
            "f6Yzd1Pcq4H8SvcJ0/DMUOQ04E4zk/o81OXt8/H4nwvKzErpmYCibje3kJERERExKVlnEvoXC1xL/5l\n",
            "w7RNkr8DERERERGRwNObcwndcSDGv+Fcsipj5pe1cXGuPaZ9thVrRCIiIiIiEvCsmIUdcpK6+z0XlyL\n",
            "UB9MG2zHzqXKUAJY6z03wQ1wiIiIiIhLA7uBcQrcXM8xP/MMGfItpi/2YhVPe4FzSvQez5YSIiIiIiM\n",
            "hZP3IuqbvLz7GIWQb/EWAzZpGTNEwy9ypFu+S/iIiIiIgEoTacS+gOYob5iUgAUdd5IWr/0KePhZVwt\n",
            "PR3HGJkZVp+Xzep/xhv5dr/67N/h9ns7YojJvHOnmlJ+HFS/5HeyrW//7P7LLawLsUQkvgg2+44UzvB\n",
            "8tCXX/bN9lTu6uEzB4RHcGNxxSWeZWdak0smpf175Uf3pHkqd/Xw6beFR4T1Lq64xDN7liXNjv3hdW8\n",
            "PPFNMLzko1+P/YpZRF5EAoqSuEFmt/KvZdRVrRJbTx+pvWZl21s85mobZwNKjMBsPNO5U4YoylfTFo7\n",
            "85gNUzjjgw+7R4ZC1hG1KjQd22Zctr2kAg2Prjhqzfq9ofBzz+kVkyIuzuOleWvr5SrZLFFJl48tMXR\n",
            "9NTbSWexfS+uBUebrujVvMyfavWL1VMkYkn6+ceTbOn8TqwsxhezobZ1BrMj+kZxfCaIpJPyj4KWb02\n",
            "ZShfLcLfYVzyMlLtrJ9z1OfytVqVpko9/bHibw4HrJ5xxOfyVWpdRkz1akUYkfhq29qNdl/LVm8cRd2\n",
            "ryhRlOOKj9fMSsuzpvpWt1jCSRrH6EiUQbFp8LCMrzedL7mJ1Aqo4H68GDhTXC4uI76z+DkBEREREAt\n",
            "b1uR5/5bcoRMQjJXUiIiIi4s7fcj3+xm9RiIhHSupERERExJWSQM4CcAmYfdBEJAApqRMRERERV1pwb\n",
            "vuCjZiFUkQkACmpExERERFXmuZ6vMVvUYiIV0rqRERERMSV2rke/+q3KETEKyV1IiIiIuJKrVyPf/db\n",
            "FCLilZI6EREREXGlQq7Hvm/+KiLFzh9J3TjMRNvxuY6Ndx4b54d4RERERCSvyFyPk/0WhYh4lTupqw+\n",
            "8AawHDgIZQAoQB8wCbijCOE4BB5z3ud0B3JmPeiKBh4CfMEvvZmDeyxdAx4sPU0REROSSUSrX41S/RS\n",
            "EiXuUkdbdg9h55GCgLrAA+AOZivpnpCywGXiuiOCYCdYBJFxyfgO9JXRlgGfA2JkFdA8wBTgK3A6uBf\n",
            "oUQa0haPOFDhlnasHD8Bz4/5wFbW4ZZ2hRhVOKN2i04rZw6gSfbWlg+M6v62AAAIABJREFUebzPz3m6\n",
            "vY0n21qKLijxia654KR2K7DcP3S0nYFIALNhvoWZhtlg8gHgPRflbsH0do0CZgKbiyG2GKABsMPH8s8\n",
            "CHYD/YZK43N8oPQa8jElKPydIfjAd2R3P0437+FS2SqPaPLt7ThFHVDj+2vs7H98znri122g34AYGz3\n",
            "jO3yEVqlBst60LfmDZGzP4Y8teMlLSKFM5mgadW/O3UQOpc3UTf4dXKBLid/NW38Y+la1UuxEjvtxdx\n",
            "BFdnMy0FDYtmMqWpTM4cTCO9KTTREXHUKtFRzr0G0mtFqEzeCEUr7ncHA4HE7sPZ/fyDVzZuyvDZr/i\n",
            "75AKRSi12+FdvzG+ye0ey4RS24lI4LFh9iCJBuJxndABfAU8DdTD9IjleAEYAwwDNgAvAe2ACGAPpud\n",
            "tig9xjHfW/ySmd+5zzNBLMAmlAzgE1PBQx0lgtrOOC4cITASeBy7D9ESe9iGmgGG1hdG0RwePZaJrVi\n",
            "mmaArOYbfz3cTPmD/uXexZ2f4Op8iFSrvNGPo8qybPwxZegoZdriKqYjkObt3HxlnfsGn2MoZ/9QbNe\n",
            "3Xyd5iFxhpm4/L2PTyWKVulZjFFUzDpKYl8/K8e/PHLj0SWr0TtlrHYIkpxNG4727/7kh3LZ9Pn2Zm0\n",
            "6BFagxdC5Zq70Levz2D38g3+DqPIhEK7pZw4A0B0jRjqtmvmsky9Di2KMyQRucTYOJfglMb01qW5Kfu\n",
            "Si2MZzvtWwKuYIY9TMb1sfYDJQEVML1l+TAWOA8OBbc56krw851kP5yoDYZh5dkGV0AFERJXioUUT/R\n",
            "3GRXuv92Nsmb+S9nf3okFsS2YMe8HfIRWpUGi3jbO+YdXkeZSvHsMj339A5frmexWHw8GCp95j8YQPm\n",
            "TXitZBK6sJLRTHwzUX+DuOiLH//Kf745Ucaxfbijpe+pETEuWkxqz55hW/efpylbz1C8+vvxGIJnSGd\n",
            "oXDNXejg1r18NfZd6rRtSvx6XweuBJdQaLfkE+ZPiybXt+fuD5/yczQicimyYRZC2YJJzFYCj2CSM1+\n",
            "GKGY57+8HBgMf5To3DTPH7SngffIuguLJN5j5fsOB38g7184XFkwPZCdMwmkH/q8A9QQlh93Oqsnz+W\n",
            "n6Iv7csd8MmYupwOXXtKbHY4Oo2aqhT/WcPnyMeWMmsX3JWlJPJ1GhVlU63N2LnqP/me+YUk8ncf/cV\n",
            "2n9j+vY8Pk3+X7+pSDQ2m3LV98DcOPYwWcTOgCLxUKvcfey9KWPSIg7yJm/TlC2SgV31YQ8h93OxvmT\n",
            "2bJ4Okf37yAzLYWo6BjqXHkNne56jGoNW/lUT+Kxw3z7zhj2rl1CevJpylWpRated3PNoNH5iqdkmWi\n",
            "adutDt2HPnZfQAXS8cyTL3h1LYsKfpCefoWTpcvmqO9QE2jWXW2ZqOlP6j6Nk2ShunTCcidc/WOC6Qk\n",
            "2gtVvKyUQAoipc2teTiPiPDZPs9MascNkOWIXZi2Rtrts6ziVwrsRxfkIH8B1mJc22QDfMoiXF5SHMg\n",
            "ikA2cB0oD/wczHG4DcOh4MP+o5m05zlVKxzGe0G3ECZmGgO74pn0+zv2Dx3BcPnv0bTnp7n1KQlpvBq\n",
            "5yEkxB2kdpsmNO7eloyUNNbNXMKRPQewhoVhz7b7HNdDiyYSHlnyYt9eyArEdhvy6fP8c9rTWKx5dz+\n",
            "xRYQTEVWK1NNJhFBnT745HA5mPdGXHcvnUL5aHVr0HEDp6BgS4nex47vZ7Fwxl/6vzufyDj091pOeks\n",
            "iUoZ05cTCO6o3bUL9tdzLTUti2dCbHDuzBEhYGdt+GLV83xH1PQfKpBBz2bKKiKyuhC8BrLrfZj/6Hw\n",
            "zv3M3z+65SuHF3QtxlyArHdcnrqIiuUvej3JyJSEDbn/X5M8tUDM5ftOuBW5w3gDPAZZr7bQRf1rHZT\n",
            "/y/OehsVUry++g2zWmc5oCUmoYvGLARzpJhjKXbrZixh05zlVG/egMfXTiWi9LltZjbPXc57vR9j+pA\n",
            "JvBi/EKstzG09KybNIiHuII27t2XE15PO/mGflZ7BG13vJysjM19xKaHzLFDbzRYR7vL4r6u3kHo6id\n",
            "ptmlAm5tLtpdu6ZAY7ls+hSoPmDJ2ylvDI0mfP7Vwxl88e7838CUMYtSAea5jNbT3rvpjEiYNx1G/bn\n",
            "UFvfX2u3TLSmTa8K9mZGW6f643D4SAt8SQHtqzm67cexWKxcsPINwpcX6gI1GsOYPuStax85ws6DbmV\n",
            "lrdcyx9b9ub/DYaoQGy3ZOecuvTEFGY+8CLbFq4i8egJIsuXoUHn1vR8fBB12jYt4DsWEfEu99fvDmA\n",
            "pcA9me4GqwD+AdzD71Q3DDNN0tdSdu0TpuPO+fCHEmh//A3phhl5WxszpuxX4HnD9F2oIWTttAQA3jL\n",
            "nnvF92AK1v60qNFpdz6tBR9v6wyWM9W+atAKDriH7n9dTYIsK5cey9hRy1BFO7JR8/zfR7n8UaZqXvm\n",
            "5fMqGaXNi2cBsA1g8acl9ABNLnuNqo2aMGZhEPEb/7BYz07V84DoMOdI85vt/AIrr1nbIHjW/fFJJ5q\n",
            "Z+WF7hX57LHbqNUylmEfraPlDQMLXGeoCNRrLjHhJB/fM57K9Wtc8teXK4HYbiknTVK35MVpbJ67gno\n",
            "dmtP6tq6ULBvF5rnLeTl2MBu/+DZfdYqI5If7r43hL2C+8zYK+BAYALwC3HRBWXdjgnIGZblbfKU4pG\n",
            "FW1mwD3AjchlldM2iknk7yuldOlwf70m/SYwDEb9gJQP3Yli7L1m3XjIPb9vH7pt1c0fVqt3Ue2h4HQ\n",
            "K3WeTta3a3uJeeEarslxB3k3Vv+j6P7/uCuKU/SoJNv88WCRVrSaa/7wbW7/UFuetRM9T20y6xKWLtl\n",
            "rMuyNZq148iv2/hz9ybqtenqts6jcdsBqNaotcs6Cqp89bo0jL2RtKTTHNm3lW1ff0rqmZPcPPq/lK5\n",
            "YtcD1BqJQueamD36WpGOneGD+63mSllAUCu1WuUFNWt5yLbVaN6Ln6H+eHeHgsNv533NTWDj+Az4Z8h\n",
            "yNu7cjSkM0RaQI5CR1ZTGbjLtLztIxWwIMAFz9hKzo5nk5Y7L+KmiAPgoHujjj+MxNmV+d98U9FPSiW\n",
            "W1hNO7W1mOZak3qAmZifXpSCgBl3MzByJmbkXTM/do1GSlpZKamAxBVMW9Ha2SFslgsFhyOoNjyzy9C\n",
            "sd12fvMTU/o9QXpyGkM+e542d1xfoHoCmTXMRr2ru3ksE1PXDFjITE8lI8UszBsZXdll2Sjn8ZRTx9z\n",
            "Wl5mWQma62YklslzeH6elylYocLs1iu1Fo9heAGRlpPHDRy+yYsqzJPy2k4c++4WwEqEzeCEUrrnv/z\n",
            "ubbYtWcdPTQ6nXvrlPzwl2odBu3Ub0o9uIvFuEWKxWbnp6KL8sXkP8+h1smb+S2ME3+1SniEh+2IDlm\n",
            "ISoH2axFHdinPeuet3cfY2cczy+ALHlRzZmc/RymC0QXK37nDNsNKGIYyl0EVGl+PfSt70XBCzWcz0M\n",
            "7n4ZOexm4vfFLGXusDuU0HkRau327eszmPv4W5SvHsO/l04KmU3HLxReKopBby31qazFkmsEe1G2m8N\n",
            "eKNebLbwkXYc+w6FdG9m7ZjE7V8yl+fV3XnS9gSLYr7kju+P5ctSb1I9tSa9xl84Q92BvN19c3rk18e\n",
            "t38NfeA4VWp4hIblZgEWaY5PuYjb7zLnNntjuY6nz8hYvzrYELv3qKBZph9oVbWYDYcpLHSj6UzcYME\n",
            "wX4ADOPLre7gO6YffUWFiCWoGGLCKdk2SgAEo+ecFkmMeEkgMfFLcIjS2ILLwFA8vG833aeOeK+10Hy\n",
            "L9Dbbf7Yd5n9yETqd2zJExs/CdmELr9s4RFERJmhVMknj7osk3zSfI8UFR3j8jxAiZKRZ3vMUk4fz3M\n",
            "+6bjv6ztlZ2bw67pv2Pa1u0ELULFGAwCOHdjjc72hJhCvuU1zlpOZmk7cmq08UKIdwyxtzt4mtO5/ts\n",
            "wwSxvGNbjVS22hKRDbzRc5vYslSkYUar0iIjlswJvAFcB9mMToILAJs+JlWaA+kLNk0xLM/LQLfQLMw\n",
            "Kw4uRPTqzfIee5JzNDO/NqN2Uaho7PuVOBR3O939whm3lxHzBYL64CTQGNMculwlvmjALEElXrtm7Pz\n",
            "m5/Yt2oLFetclud83JqtANT1shJX1SvqmHkJm/dQvvr5f5DuW7Wl8AIWIHDbbdEzH7Dkhak079WJ++e\n",
            "+evYPITFqNmvPr+u+IX7zKlpVq5Pn/O/b1gBQo6nn4WWVa1/BkV+3cXjPZspWrn7euQObV/kcjyUsjF\n",
            "lj+pKWdJqql7cgpl7e/y9HfzNzkqLcDBm9VATaNVevfTP+Nsr1AjaJCSf5afr/qNKwFi3+fg2lKxX3+\n",
            "mOBI9DazZ5t54PbHydh/yEeXvZunraxZ9vP1udq/p6ISGGwYpKdocC1mA3DzwBdMdsAdMPMV/sMszjK\n",
            "jZiVMC+0z/mcssBI4F7MHLZBnNsvLr+OACMw8/Fud9bvaSzFMcxwz7HOeNpjVu+sBMzDbNNQ0FiCSqc\n",
            "h5hvcpS99RFri+c21bsZijuyOp1rjutTr2MJjPS3+3hmAZW/MPG+vnrQzySx+/sOLGtoieQViu+1d+T\n",
            "OLnpnMZc3qc/+cV5TQuXDVrUMAWPXxS6SnJJ53buuSGSTE76ZyncbUbOF5z6xGnf8OwJqZb2DPtR9de\n",
            "vIZvp/2vM/tZrWG0fha83/pqxeGnu0pzLFl8SfErV9GWInws695qQq0a+6Kbm3p89pIl7fuDw8AoHrz\n",
            "BvR5beRFbWoe7AKt3axhVixhVg5u3cvMB148O1cPwJ6Vzbwxkzi8cz/RNavQ9AbPPwdERAoq9+qXPzh\n",
            "vBREGbMQkfd5McN5yG++8Xehd581XycALztsl66rbu9NuwA2sm7mE51r1o+XN11KqbBSHfvmVrQu+p1\n",
            "S50twz/Rmvv7C6jezP2mkL2bNiI8+16kfDa64kLSmF3d9toGmP9pw6lHB2GWdv/tiyl8UTppz998mDZ\n",
            "qjavlWbeb/PY2ePdxpyq9cNY0NVILbbvCfeweFwEGYL48MB49yWu+6hO2jY5ap8vd9Q0azb7ezuOYCt\n",
            "S2fyzoBWNL7mZiKiyvLXr7+w+4cFlCxdjt7PTPfabh37jWTTomn89vMK3h3QitqtryEjJYn9G76jQYc\n",
            "enDl6iNTEkz7F1HPEaxzatZHft63lzX/Up0azdpQqE01C/C7+ituOxWKh54jXKFelZmF8BEErEK858S\n",
            "4Q263/O4/z+8+72DT7O+LWbKVehxaElbARv2EHx/YfIrJ8GYbOelFfjIlIkfG0pYEEsXs+eZaGXa5iz\n",
            "dQFrPlwPplpGZS/rDKxg2+h5+h/Uqleda91lK5UnkdXf8i8MZPYtWwdq6fMp0KtqnS+71ZuHHsvu5dv\n",
            "JOXkGbIyMr3+ojpz5Bib5izPc/zE70c48fu5+UINu7ThUt6eNdDa7fSfppfnjy17PW5+3PymzjTk0kz\n",
            "qAHo/8wl1r+rCzwum8vNXH5KVkUaZypdx5c2DuWbQaKKr1/NaR2T5Stw3eTXfvjOGuPXL+PmrKZSrWo\n",
            "s2t97HtYPHsn/DclITT5KdmeF1xcrI8pUYNm0dP37+H3aumMMf238iKz2NyPKVaNLlH3S4cwR1rry2s\n",
            "N5+UAu0a058E2jtViamAk9s+ISvX53OtgU/sH3xahwOqFCzCl0e7EuPx+6mQq3Q2kJERALLxY6fGwc8\n",
            "BzyD6562S0rHf3/6xy2ja9coX00Tof0tI9XOjFF709b9d2Apb2VjH/5sV4+HalxRpZ7XolLEHA6YMmy\n",
            "3Y+Pkga4WbDpPx399ue6qrrFtY6pXK47QxIuFH36eYQnPrrzu7YEeuzY6P/z517EDqlxf96oyxRWaeD\n",
            "D94X3JWUnZV6ybMvCgp3KxIz+d1a5Plb6NYssVV2jiwaejfz2Tdiqrw7r3B+4s4pdajVn4DuAy4HARv\n",
            "56IFJDXP5xEREREREQkcCmpExERERERCWIXO6fO1aInIiIiIiIiUkzUUyciIiIiIhLElNSJiIiIiIgE\n",
            "MSV1IiIiIiIiQUxJnYiIiIiISBBTUiciIiIiIhLElNSJiIiIiIgEMSV1IiIiIiIiQexi96mTXBzA1m+\n",
            "OZ5cqbXP4O5ZLXVYWgMWndrA4cOxccTL7wOZEtVtgCPOlkMWBI373r9kJBw+r3QKBw+5Tu9lxsO+nM9\n",
            "kJ8alqtwCQlWEP96mgw+HYv/FM9ukj6Wq3AJCZYo/wdwwiEliU1BWizNTskXvWJDbwdxxiWOEvX8qlJ\n",
            "zoe37cusUlRxyO+sTosJ30pl5aR/tSf+/9oXdTxiG8sFnvyxrcHJsJAj+XSE7NejN+atJytxRSYeGRx\n",
            "ONJL16h+xFu5zDTLf/7YkbL5jx0pxRGWeGNxZJXJyNzv7zBEREREREQksK3GDERyANX8HIuIeKA5dSI\n",
            "iIiIiIkFMSZ2IiIiIiEgQU1InIiIiIiISxJTUiYiIiIiIBDEldSIiIiIiIkFMSZ2IiIiIiEgQU1InIi\n",
            "IiIiISxJTUiYiIiIiIBDEldSIiIiIiIkFMSZ2IiIiIiEgQU1InIiIiIiISxJTUiYiIiIiIBDEldSIiI\n",
            "iIiIkFMSZ2IiIiIiEgQs/k7gFDS8d+fTbdaaO/vOMTItjv2//h2/57eynUc8dm7VuheHDGJd3a746+1\n",
            "b/fv7K1c7L8+fcVitdxaHDGJd9l2+6mM9KTYnz8YlumpXLvhs560Wi13FVdc4pnDbk8MS0vusmbqvYm\n",
            "eynV4cMbIMFvY8OKKSzzLsttT05NKdN88rW+Cv2MRkcCgpK5QOa7rdFe1GqUrlfB3IJe8rHQHSyYeqO\n",
            "lLWYuV69r1ibk8unpEUYclXlhwMO/5Aw18KWu1Wa698u+VLq9cr1RRhyU+WPjygUxbRFQpwGNSZ7NZO\n",
            "9Vv0eTyypdVLabIxJO1/1uWmmWNKAd4TOqsJawdmlwXfXmtlqWLKTLx5Ou3DyY7wjMqA0rqRARQUlfo\n",
            "oi8Lp3w1JQf+lpFqz1f5clXDqVy7ZBFFI75yOPJXvmwVtVsA8bn1okqXpnylCkUZi/jKavH5h2XpiiV\n",
            "0vQUIq41sf8cgIoFFc+pERERERESCmJI6ERERERGRIKakTkREREREJIgpqRMREREREQliSupERERERE\n",
            "SCmJI6ERERERGRIKakTkREREREJIj5I6kbh9nPaHyuY+Odx8b5IR4REREREZGglTupqw+8AawHDgIZQ\n",
            "AoQB8wCbijCOE4BB5z3ud0B3HkR9VqA7zAJ4+yLqEdERERERCQg2Zz3twCfAyWBPcAK4DRQHmgB9HXe\n",
            "XgceKYI4JjpvF5oA7HDGVhCjgK4FDUpERERERCTQWYFSwDRMQvcAcAVwF/AQMBCT1N2K6bkbBbQupth\n",
            "igAYX8fyWwPOYnkfxYvGEDxlmacPC8R/4/JwHbG0ZZmlThFGJN2q34KR2C14rp07gybYWlk8e7/Nznm\n",
            "5v48m2lqILSrzSNScioc4GNAWigXjgPTflvgKeBuoBZXIdfwEYAwwDNgAvAe2ACEyP3yRgig9xjHfW/\n",
            "ySmd+5zzNBLML2IDuAQUMOXN4VJVD8FzmDm6X3j4/MCypHd8TzduI9PZas0qs2zu+cUcUSF46+9v/Px\n",
            "PeOJW7uNdgNuYPCM5/wdUqEKxXbbuuAHlr0xgz+27CUjJY0ylaNp0Lk1fxs1kDpXN/F3eIUi1NotIyW\n",
            "NNVMXsG7GYhLiDpJ6OokyMRWo37EF3Ub2p37HFv4OsdAkxO/mrb6NfSpbqXYjRny5u4gjKlwOh4OPHu\n",
            "zO/o3Ladq1N3e+FBqzCULpmju86zfGN7ndY5kre3dl2OxXiikiEbnU2DDDLAFKY3rr0tyUfcnFsQznf\n",
            "SvgVWANMBXTy9YHmAxUBF7OZ1xTgePAcGCbs56kfDz/VaAJpocxIZ+vHXCstjCa9ujgsUx0zSrFFE3B\n",
            "Oex2vpv4GfPHvYs9K9vf4RS5UGm3GUOfZ9XkedjCS9Cwy1VEVSzHwa372DjrGzbNXsbwr96gea9O/g6\n",
            "z0IRCu6UlpvCfHg+x/8dtlK5UnvqxLQkvFcGh7XH8/OUyNs3+jntnTuDqfj38HWqhsobZuLy95/dUtk\n",
            "rNYoqm8KyZ+Tr7Ny73dxhFJhSuuZQTZwCIrhFD3XbNXJap1yF0vkgRkcBjwyyEsgWTmK3EzJlbg+kd8\n",
            "ybLeX8/MBj4KNe5acAy4CngffIuguLJN5ihocOB3zA9fr66AXgQ00P4FeZ9BbWIqFI8tMjVlMPg8l7v\n",
            "x9gyfyXt7+5Fg9iWzBj2gr9DKlKh0G4bZ33DqsnzKF89hke+/4DK9U1nucPhYMFT77F4wofMGvFaSCV\n",
            "1odBuC556j/0/bqN5r04M+/JlSpSKOHvu61emM/fxt5j9yETa3Hk9FkvoDAsMLxXFwDcX+TuMQnVk31\n",
            "aW/XcsNZq25eCO0JxNEArXXPIJ8/14k+vbc/eHT/k5GhG5FNkAO9Abs8JlO2AVcBRYm+u2jnMJnCtxn\n",
            "J/QgVl1cj3QFugGFMe4icqYZDIOeLgYXi9gOex2Vk2ez0/TF/Hnjv1myFxMBS6/pjU9HhtEzVYNfarn\n",
            "9OFjzBszie1L1pJ6OokKtarS4e5e9Bz9z3zHlHo6ifvnvkrrf1zHhs+DckRskQu0dtvy1fcA3Dh28Nm\n",
            "EDsBisdBr3L0sfekjEuIOcuavE5StUiFfdYeSQGu3yOgyXNmnG7c898B5CR1At5H9mD/2HU79mUDamW\n",
            "RKlSudr7pDjcNuZ+P8yWxZPJ2j+3eQmZZCVHQMda68hk53PUa1hr59L5h47DDfvjOGvWuXkJ58mnJVa\n",
            "tGq191cM2h0gWPLTE/ly3H9iYgqS/f7J/DRv64vcF2hJtCuuZSTiQBEVSiX37ciIlIocla/3I9Jvnpg\n",
            "5rJdhxm6eKvz/BngM8x8t4Mu6lntpv5fnPU2KqR4vZkKVMLEnZ/hmiHF4XDwQd/RbJqznIp1LqPdgBs\n",
            "oExPN4V3xbJr9HZvnrmD4/Ndo2rOjx3rSElN4tfMQEuIOUrtNExp3b0tGShrrZi7hyJ4DWMPCsGfbfY\n",
            "7roUUTCY8sebFvL2QFYrsN+fR5/jntaSzWvFta2iLCiYgqRerpJEKosyffArHdbnrqPrfnkhJO4si2U\n",
            "6ZytBI6h4NZT/Rlx/I5lK9WhxY9B1A6OoaE+F3s+G42O1fMpf+r87m8Q0+P9aSnJDJlaGdOHIyjeuM2\n",
            "1G/bncy0FLYtncmxA3uwhIWBPf9Dzr9+61GO/raT/q/OJzK6ckHfZsgJxGsup6cuskLZi35/IiIFYcv\n",
            "12AEsdd4AqgAdgO6YnrxhmHly1wA7L6jniJv6jzvvyxdGsF48ANwEPAP8VAyvF7DWzVjCpjnLqd68AY\n",
            "+vnUpE6ciz5zbPXc57vR9j+pAJvBi/EKstzG09KybNIiHuII27t2XE15PO/mGflZ7BG13vJysjM19xK\n",
            "aHzLFDbzRYR7vL4r6u3kHo6idptmlAm5tLtpQvUdsvN4XCQcjKRX1dvYc6jE7FYLdz+xiU9mAGArUtm\n",
            "sGP5HKo0aM7QKWsJjzyX5O5cMZfPHu/N/AlDGLUgHmuYzW09676YxImDcdRv251Bb319ru0y0pk2vCv\n",
            "ZmRlun+vO3rVLWPflO1x1yxAaX3sLh/duyf8bDFGBeM0lO+fUpSemMPOBF9m2cBWJR08QWb4MDTq3pu\n",
            "fjg6jTtmkB37GIiHd5v34/5y9gPmZrgzrATMyiJ66WbnL3FWTO9/fuFl8pLFdg9tBbg+lNvKStnbYAg\n",
            "BvG3HPeLzuA1rd1pUaLyzl16Ch7f9jksZ4t81YA0HVEv/N6amwR4dw49t5CjlqCqd2Sj59m+r3PYg2z\n",
            "0vfN/yuUOoNVoLfbiklfcL/1av6vYlfeu+0R6se2YvS6j2k38MYC1xkqNi2cBsA1g8acl9ABNLnuNqo\n",
            "2aMGZhEPEb/7BYz07V84DoMOdI85vu/AIrr1nbL7jSj6ZwLxn76FCjfrc+PCb+X5+qAvEay7lpEnqlr\n",
            "w4jc1zV1CvQ3Na39aVkmWj2Dx3OS/HDmbjF9/mq04RkfzI+eqxLJCM++QsHbPn2wDgahfnK7p5Xs7X9\n",
            "38VNEAf9cZsYxALuPtqrTemNzKOi9v/rtilnk7yuldOlwf70m/SYwDEbzAdqfVjW7osW7ddMw5u28fv\n",
            "m3ZzRVdXzWkc2h4HQK3WeUfPulvdS84J1XZLiDvIu7f8H0f3/cFdU56kQaegX4voPKHWbpXqXkazG2N\n",
            "JPZ3Ewa37WP/pUlJOnmHAf8dQtqq7H93BKS3ptNf94Nrd/iA3PWrW3jq0awMAtVvGuixbo1k7jvy6jT\n",
            "93b6Jem65u6zwatx2Aao3ybuNao1k7n2LPbd5zg0k5dYz+r83Pk2yGolC45io3qEnLW66lVutG9Bz9z\n",
            "7MjHBx2O/97bgoLx3/AJ0Oeo3H3dkRpiKaIFAEbsBzoAvTDLJbiTozz3lWvm7vfWjnH4wsQW378hOmp\n",
            "c6UycDewF1gIHCviWAqd1RZG425tPZap1qQuAJmp6aQnpQBQpnK0y7KlnceTjrlfkDQjJY3M1HQAoir\n",
            "mHT0bWaEsFosFh8OXRVIvTaHYbju/+Ykp/Z4gPTmNIZ89T5s7Qm/hhlBrt+a9Op1dnTQzLYOlL05j0b\n",
            "OTObxzP0/9MgtbeIl81xmorGE26l3dzWOZmLpmX8XM9FQyUszUa3fz1aKcx1NOuf+1kZmWQmZ6qqmnX\n",
            "N4kuVTZCvlqu/Vz/sue1Yu47r6nqdmsvU/PCXahcM11G9GPbiP65TlusVq56emh/LJ4DfHrd7Bl/kpi\n",
            "B9/sU50iIvlhAxZhFkZ5H5OwLcSsiJlbK8wiJABfuKinNXAzsCDXsVigGWYfvJUFiC0neazkQ9nvnDd\n",
            "XWmGSul8w2zUEnYioUvx76ds+lbVYz31L7e6XkcNumvdiljJ32B1K6LwItXb79vUZzH38LcpXj+HfSy\n",
            "eFzKbjFwq1dsvxUtxiAAAgAElEQVStRMlw/v7MMOI37mT74jVsnruCq+8MncQ8vFQUg95a6r0gYLHkm\n",
            "n1QlG3nsPvcdgnxu1k6cRS1WsbSZfC4Ar9msAnlay7H5Z1bE79+B3/tPVBodYqI5GYD3sTMSbsPM4fu\n",
            "ILAJs+JlWaA+kDO7dwnwtIt6PgFmAIsxi6jEAIOc557EDO3Mr92YbRQ6OutOBR4lf/vdXXJsEeGULBt\n",
            "F2plkEo+eoGKdy/KUSUw4CeBxcYvwyJLYwkuQlZFJ8vFTlK8ec975M0eCrsMzoAV6u80f+y5LXpjK5Z\n",
            "1bM2zOK26/Ib/UBGK7ZWVksnflzyQfP+12c/GYBmYD7r/2xPtcb6ixhUcQEVWW9OQzJJ88SvlqdfKUS\n",
            "T6ZAEBUdEyeczlKlIwkrEQ42ZkZpJw+TtnK1c87n3Tc3Tpiee1cMYfM9FR+37qGpzu47kHdsXwOT7a1\n",
            "UKFGfR6e+6vPdYeKQLzmfJHTu1iiZISXkiIiBWPFzDMbClyL2ePtDNAV6I/ZXy4cs53BTcCNQIqLevY\n",
            "5n1MWGAncC/yKSex8+/otryPACMx8vNud9V/CC6f7rl775gDsW+V6tbS4NVsBqOtlJa6qV9QB4PfNe/\n",
            "Kcc1e3FFygttuiZz5gyQtTad6rEyOXvauE7gKB1m7WsDA+6DuaKf3H8ueO/S7LHN5pjpe+xNsyZ3hj/\n",
            "OZVLs//vm0NADWaeh4aWLn2FQAc3rM5z7kDbup2F0/sgFEub61uvBuASrUaEjtgFFfdMsTnekNNoF1z\n",
            "9mw77932KM+16u9yyKc92362Plfz90RECkPu1S9/AAZjeuXKAGFAaaAhJsH7n4d6woCNmKSvAmbRktb\n",
            "AdBdlJ2CSs/G5jo13Hrtw5cp3gWpABKbH8KTXd5TXFmfdfQrw3KDUaYjZXnDpSx+Rlnh+Dr5uxmKO7I\n",
            "6nWuO61OvYwmM9Lf7eGYBlb8w8b6+etDPJLH7+w4sa2iJ5BWK77V35M4ue+f/27jM8qmr9+/h3kiEhh\n",
            "RBa6B3pHaSDiByxUVREEWyAoMgj+FcRFRUUj70e4Kg0RRBBQEQOWGjSJHSQ3qSDdALpyczzYk1CQpKZ\n",
            "JCSZwu9zXXPNsPfaa+6wUubeq02gXP3qPDXnfZ+af5VXPK3d/Pz9aNyjIwDTBo5J7bVIsfbbhexavA5\n",
            "rQCEade2QrTp9VbMeJjFa+c27xMdcTndu66JpnDm0m1JV6lCxofP9zmq17wrA6ukfY0uzH118dBR/TH\n",
            "k7221X7ebbuGPoh5k+2jxstqAoXaMBdwz98Lo2Nfd2nvgzZ/H349jWvUx/+p3UuXoAtqRkfnx5LCd3H\n",
            "qRYxdLUu9P595KISG5lvfGOeK1mD3SmZZ87iZy+iLca96ZRt1sICgvh+F/72Tr/D4KKhvLE1NEu/2Dd\n",
            "Nuxh1kz5mT3LNvBW497U7NCUuCsx7F6ynnpdWnHx+JnUZZxdObplLwvHTEz994VjpwHYt3IzX/Ycnnq\n",
            "83YAeLjeM9VWe2G4/vjIOu92Ov9WfSX2ynuNz65AHqdmxWY6+Xl/hie3W88NhHN6wkwNrtjGyeneqtq\n",
            "xPcLEwTu76mxPbD2CxWOj54TCKVSydF/8FXqv+bQ+w+44+bP1lOuP6NKZOh24EhoTxz/6/2L1iPoVDi\n",
            "3L/6Kku265N72FsWjCFvzcuY3yfxlRu0oGEmCscXL+EGq27EHX6OLGXc3NPUjLjiT9zD497iSMbd7Fp\n",
            "9hIOrN5KtdYN8S9k5dD6HZw9eJzg8CIMnPmOboyJSL5RUuejnvj2TWp2bMbqyfNZPWkeiXEJhJcrRdt\n",
            "+3bljxOOUrFbeZR2hJcN5cdUkfnx5LLsWR7Jq4jyKVypD+yd7cNer/dm9dAMxF6JISkh0+Ycq6tRZNs\n",
            "1ZmuH4+SOnOH/k6pyTmh2bcyNvz+pp7XbphJlTdHTLXo5u2ZtluQb3tKcmN2ZSB57XbqElwxkR+Q1LP\n",
            "5vBpjlLObh2O4lx8YSWDKfJvbfSaWhvat7SNK++fK92/+hvqdqsIxvnT2bjT5NISoijSKlyNO3Wjw6P\n",
            "jaBY+Wou6wgOL8mTE1bx+7iXObBuMRt/mkjRMpVo3uNJbun3KgfXLyX28gWSExPwLxRQAF+V7/O0n7k\n",
            "iEcV5Zf23/PrBVLbNX8H2hauw26F4xdJ0fKYXXYY/SvFKZfLqyxcRyeB6x8+NBN4CRpN+OOUNqc2z3x\n",
            "3tPqJyhfCymgjtbgmxNqY9vzcu8r99g1yVbfvcjF1dhlSoXbqay6KSz+x2mDhot33DhL5+rsq2f25GZ\n",
            "McB5VpUqBtSEKGJC5MH70nAai8V+Z++Trs22j77w68N27S4vVy1SgUVmjix8Nsfom2xCbUjJ/Y95qxc\n",
            "22HfzWzZs3SvWm2LFlRo4sR3I/ZHxV1Mah35Zd+d+fxWqzCrmQOUA07m8/uJSC65/OAkIiIiIiIinut\n",
            "6h1+OIePiJiIiIiIiIlJA1FMnIiIiIiLixZTUiYiIiIiIeDEldSIiIiIiIl5MSZ2IiIiIiIgXU1InIi\n",
            "IiIiLixZTUiYiIiIiIeDEldSIiIiIiIl5MSZ2IiIiIiIgXu97NxyUNu52kJROPRxcq5Jfs7lhudHa7x\n",
            "QKWbN20sCfbk1Z+eyo6INCidvMEFkKzU8xusyf9OfOfmMAgv6T8DklcS062hcZaAm2uytmS7Mm7NmyJ\n",
            "PbB9V2JBxCXOJSckBifa/F23m82etHnh2bg9Ky8kFERc4lxsVHJQst3PZbuJyI1DSV0eSoi3dbtwNLG\n",
            "0u+OQFPZL2SmVHG978OLxhHL5HY1kj83OleyUS4hJfCI+xl4pv+OR7LFb/ON2jO/lsu2S4hKHJCUmVo\n",
            "u+lK1mlnxnSdw8+aGT0NtpqbhoXkmKTZpy5YzuoXgCm4XkjeX27nV3HCIiIiIiIuLZVgF2x6Osm2MRE\n",
            "Sc0p05ERERERMSLKakTERERERHxYkrqREREREREvJiSOhERERERES+mpE5ERERERMSLKakTERERERHx\n",
            "YkrqREREREREvJiSOhERERERES+mpE5ERERERMSLKakTERERERHxYkrqREREREREvJiSOhERERERES+\n",
            "mpE5ERERERMSLKakTERERERHxYkrqREREREREvJjV3QH4kmYDZxX1S0os4e44xLAEJV1aN+6xc67Kte\n",
            "03qUgChUsVREziWpK90OXNU3qdcVWu3uBZocFxiREFEZO45udniY6c+PA/rso1G/hlsF9SaJmCiElcs\n",
            "1ltsRu/euSkq3IdH59SONovoFxBxCSuJeEXt3ly7xPujkNEPIeSujwUEJC01i/Yr6LF325zdyw3PBsk\n",
            "xlmTgOKuitpDg5cEWKhrsardPMLlhEAg0FWxMP+kHy2hfm38CtmTCyAqcSH+si249XOzivz5Sa9YZ+U\n",
            "CCxedasd2l38hkgoqNsla/GVLcJMnZpV1dSMlLjhorBX6+FmtiQUVmzgRHx90c7/ptdZP7nPQ3aGIiG\n",
            "dQUpeHLH6EdhteKSS8rMvPo5LPEmJtTHt+b1x2ylr8KdJlSIWQ0tWC8jssccFuh4mDdtuzU9ZqtYR1H\n",
            "FAuuELdkPwOS7Jh8uA9CbakhEKA06TO358ibfuUDararEgBRSbOTH1uX7TflQSXf7QsFv8i9Vs1KVyp\n",
            "VvXCBRGXOPfrd/OiEolWW4hIKs2pExERERER8WJK6kRERERERLyYkjoRERERyUzaz4nZGhovIu6hpE5\n",
            "EREREMhOc5nWM26IQEZeU1ImIiIhIZpTUiXgJJXUiIiIikpmUvUCjQNuQiHgyJXUiIiIicq1woKjj9R\n",
            "F3BiIirrkjqRuJmWw7Ks2xUY5jI90Qj4iIiIikVz3N68Nui0JEsiVtUlcd+BhYBxwDEjDjpw8AM4E78\n",
            "zGOi5hfGBevOf4g8FA266iDSQydPWbnRbAiIiIiPq5Zmtfb3BaFiGSL1fHcHfgeKAzsAZYBlzBd7w2B\n",
            "Xo7HR8AL+RDHp47HtcYAOxyxuVLc8XwMiMyizJ85D01ERETkhtM0zevNbotCRLLFDwgCpmASuqeB2sA\n",
            "jwBCgLyap64HpuXseaFJAsUUANXJQPiWp+w3omcXjo7wM0JcsHDOJQZbm/Dzqq2xf87S1BYMszfMxKn\n",
            "FF7ead1G7eS23nnZZPHsNrLSwsnTAq29e80crKay0s+ReU5+uY5nVWN8tFxENYgXpAMeAQ8EUW5X4C3\n",
            "gCqAUXSHP838DIwCFgPvAu0BAIxPX5jgYnZiGOUo/7XML1z32OGXoLpRbQDx4EKTuoo5ng+n4338wqn\n",
            "dh/ijTo9s1W2dK3KvLl7Tj5HlDf+2XuEb54YxYE122jZ5076TXvL3SHlKV9st63zV7D442kc3bKXhJg\n",
            "4ipQqRo32TfjX832pcnNdd4eXJ3yt3RJi4lg9eT6R0xZy5sAxYi9doUhEcaq3achtwx6mepuG7g4xz/\n",
            "ha213LbrfzaefB7F66nqb3d2LQ7PfdHVKeOHNoN5/3qpOtsiUr12LoD7vzOaLcO3NoF5/3cv67sF6n+\n",
            "3noXa+ZBVIJqOV4vRctlCLi8ayYYZYAoZjeurgsyr6bybEEx3Nj4ANgNTAZ08vWE5gAlADey2Fck4Fz\n",
            "wGDMOO4JwBUX16T01PlMUpfCz+pPvS6tnZYpVrF0AUWTe3abjSWfzmDeyPHYkpLdHU6+85V2mzbwbVZ\n",
            "O+BFrQCFqdmxGSImiHNu6jw0zf2PT7MUM/uljGtzdzt1h5hlfaLe4yzF81mUIB//cRmjJcKq3bURAUC\n",
            "DHtx9g4w+L2TR7Cf2nj+Hm3l3cHWqe8oW2y8zvH01j99L17g4j3/j5W7mplfPvxbDSFQsomtyJvWQ+e\n",
            "oRFVKBi/ZaZlqnYwPn3pofpkeb1726LQkSyzYpZCGULJjFbjpkztxrTO+ZKyp4lTwH9gK/TnJsCLAZe\n",
            "B74k4yIozvyGGRo6GPgb0+PnSkpSVwT4L9AVk1xeBFZiEst1OYjBYwSGBDFkQWZTDr3LF/cPZ8u85bR\n",
            "69G5qtG3EtEH/dndI+coX2m3DzN9YOeFHwstH8MIfX1Gquukst9vtzH/9CxaOmcTMoR/6VFLnC+02//\n",
            "UvOPjnNhrc3Y5BP7xHoaDA1HO/vj+VuS99zuwXPqX5Q7djsfjO8DJfaLtrHdu6l59eHU+VFvU4tG6Hu\n",
            "8PJFwFBIfT9ZIG7w7guMVEmqavR6nbuHTnJzdHkiYfTvJ7rtihEJNusgA24H7PCZUtMAnQaWJPmEYnz\n",
            "TScPkD6hA1iCSaJaALcB+T3eJWX45cuY+FcAyUBz4D6gG9AHmJXPcXgEu83GygnzWDt1ASd2HDRD5iK\n",
            "Kc1OHJnQZ/hgVG9fMVj2XTp7lx5fHsn3RGmIvXaF4pTK0fvRu7hjxeI5jir10hafmfkCTe29l/fe/5f\n",
            "j6G4GntduWn/4A4K5X+6UmdAAWi4W7R/bnl3e/5syBY0T9c56w0sWzqsbneVq7BRcrQtOet9H9rafTJ\n",
            "XQAtw3rzbxXx3HxxBnioqIJKhqao7p9jae1XVqJsfFMfHgkhcNC6DFmMJ/e/kyu6/I1dpuNDfMmsGXh\n",
            "VE4f3EFiXAwhxSKo0rQD7R4ZTtmajbNVz+WzJ/l93MvsXbOI+OhLFC1dicZ3P0qHx0bkKJ64yxcACA7\n",
            "zid+DtTGf3QBOAH+4MRYRyaaU1S8PYn6Au2Dmst2K6XpP6X6PAmZg5rsdy6SeVVnU/5ej3lpZnM9L+z\n",
            "Fz/zZjhorGO477YebqjcLM71uMDw7RTMtut/NVrxFsmrOUElXK0bLPnRSJKMbJXYfYNHsJm+cuY/C8D\n",
            "6l3Rxun9cRdjuGD9gM4c+AYlZvXpU7nFiTExBE5fRGn9hzGz98fW7It23ENWfApAcGFr/fL81me2G4D\n",
            "vnubx6e8gcUv45aW1sAAAkOCiL10BR/q7MkxT2y3e15/MstzV85cwJ5so0ipYkroPLDt0pr94mec3Hm\n",
            "QwfM+IrRUMdcX3CDsdjszX+nFjqVzCC9bhYZ39CG0WARnDu1ix5LZ7Fw2l4c/mMdNre9wWk98zGUmDm\n",
            "zP+WMHKF+nOdVbdCYxLoZtv0zn7OE9WPz9wZa9qQIxjuGXQb6R1A0BUn6rT8PcIBcRD2dN89oO/OJ4A\n",
            "JQGWgOdMT15gzDz5DoAO6+p51QW9Z9zPIfnRbAufOZ4XMsGjAbuwiSYPTBz9nxW5LRFbJqzlPINavDS\n",
            "mskEhgannts8dylf3D+cqQPG8M6hn/Gz+mdZz7KxMzlz4Bh1Ordg6K9jUz/YJ8Un8HGnp0hKSMxRXEr\n",
            "onPPUdrMGBmR6fP+qLcReukLl5nUpEuETH2RyxVPbLS273U7MhcvsX7WFOS9+isXPwgMfP5fr+nyFJ7\n",
            "fd9kVrWD5uFu0G9KBR91s4umVvzr9AH7V10TR2LJ1D6RoNGDhxDQHBV29O7Fw2lxkv3c+8MQN4fv4h/\n",
            "PytWdYTOWss548doHqLzjz2+a9X2y0hnimDO5GcmJDltdeKdQy/jI+5zPx3n2bPyp+JvnCawkXCqdy4\n",
            "Pe0ffYkK9Vq4qMUjlAAec7xOBsa7MRYRyYGMt9+v+geYh7ljUwWYjvlhz2zZrazu4qTc6clq8ZWCtNL\n",
            "xnL2xNF5szZT5ANz58hPpPqQANLmvExUa3sTF46fZu2KT03q2/LgMgE5De6frqbEGBnDXq/3zOGrxpn\n",
            "aLPneJqf3fxM/fj16f/F+e1OmtPL3dlo2dxVN+N/N/JTrxxX0vUL1tY0ZEfkPLvnfluk5f4altd/nMB\n",
            "b55YhSlqle44X++MrPp5ykAdHjs5XQJHUDdW++jTI2GRJ05zqHNK5zWs3P5jwC0fmho+nYLCOSWJ17N\n",
            "UUyxjuGXK75+h53L5lKxYWvq3nofgSFh7Fw2lwkD2rJ9sVfM/hiOWTgPzGfAw26MRURyIOUWVhgQTdb\n",
            "JWTzwNmZO2s2ZnC+RxXUpt+//yW2AeSjll5QnJJg5Envpiss9jjo+04veY4cDcGi96Uit3rZRpmWrtq\n",
            "zPsW37OLJpN7U7ZdacxvHtBwCo1CTj6NmqLetnK/Ybma+225kDxxjf/f84ve8oj0x8jRrtsjd3xVv4W\n",
            "ruVrFqO+ne1JfbSFY5t3ce6734h5kIUff77MmFlsvrV7Z18pe2m9nuTK2cv8vS8jzIkm74o7soll/vB\n",
            "tXzgGe550ayZdnyXWQm0cqO2mZatUL8lp/Zv48TuTVRr3inLOk8f2A5A2VoZt9+tkMUKllkpUaEGdW7\n",
            "pTtmaTWj/2AisAWYuq91mY/mkt1g6YRTzxgygeovOnjxEsyLmRj6YUU5vujEWEckhK7AUs8Fkb8xiKV\n",
            "mJcDxnlhRl9dsv5fihXMSWE/7AD5h99DoDZzM5397xenM+x5Ln/Kz+1LnN+bCNsnWrAmZiffyVGACKZ\n",
            "DEHI2VuxpWzWS9ImhATR2KsmZYYUiLj6Nng4mFYLBbs9uwsknpj8sV22/nbWib2foX46DgGzHib5g/e\n",
            "nqt6PJmvtVuDu9ulrk6aGJfAL+9MYcGbEzi58yCv/zUTa0ChHNfpqXyh7f7472y2LVjJPW8MpFqrBtm\n",
            "6xtv5+VupdvNtTstEVDV7wCXGx5IQY3Y4Ci5WKtOyIY7jMRev/ShwVWJcDInxsaaeohlvbgSFFc9Ru7\n",
            "V+aCitHxqa4bjFz49bn3yDvWsWcmzHOnYtn0fTbv2yVacbfAKk3EWYhdlSSkS8hBVYgFkY5UtMwvYz5\n",
            "g5NWo25Og8ts/EDTTCrS85Pc6wtUB+zD97yXMSWkjyWzEbZZMejEWY7g0eBWMc5K2aT9LrAUWBRLmJx\n",
            "q8CQIJ795T/ZKmvxu3q3M6s/Rnabad7rWcrcbrMroXPB19rt94+mMfelzwkvH8Gzv4z1mU3Hr+Vr7ZZ\n",
            "WocIBdB09iEMbdrJ94Wo2z13GzQ/5TmLu7W13avchfnj+E6q3bcTdI2+cIe4BQSE89vkvrgsCFkuaWS\n",
            "P52W52W57+javcuD3Hdqzj7BGPnRvZA7N+ApiRWy+5MRYRyQUr5s5MbeBJzPjpY8AmzIqXYUB1oJ6j/\n",
            "CLgjUzq+RazQtJCzCIqEVydaPsa5hdETu3GbKPQxlF3LPAiWe939wzQDLOYS1vgTyARM1y0muO6B7m6\n",
            "YbpPsgYGUDgshLioaC6fPk+JKuUylLl8xoz9d7a4RUBwYawBhUhKSCT63EXCy0ekOx91Kus7oJJznt5\n",
            "u814dz6J/T+am9k0YNOf9LHs2bjSe2G5JCYnsXb6R6HOXstxcPKKG2cj5nz2Hsl2vr/HEtts0ZymJsf\n",
            "EcWL2VpwtlPgBm05ylDLI0p1T1CozZPy/bdfsKa0AggSFhxEdHEX3hNOFlq2QoE33hDAAhxSIynEtRq\n",
            "HAw/oUCSE5MIObSOcJKlU93/sq5rNZ/y52EWNO7aA30yAXDKmBWB0/xFnDETbGISC75YVa9HAjcgtkw\n",
            "PArohNl48jYgALOdwT2YFSRjMqlnn+OaMGAY0B+zxcBjQPZum2Z0ChiKmY/3gKN+Z7fdTmMSuPcwCdx\n",
            "dmDtPNmAcphfvz1zG4lVShuzsW7kl0/MHVm8FoGqLepmeT1GmdhUAjmzek+FcVnVL7nlquy0Y/RWL/j\n",
            "2ZBne3Y9ji8UroruFp7ebn789XvUYw8eFXObHjYKZlTu40x2/0ZfI9re2qtarPv57vm+mj1aN3A1C6Z\n",
            "iX+9Xxf2g3o4aI231WxfisADm1emen5I9tWA7hcbbJU5doAnNyTcVbG4SzqzozNlsyM4fcxrk/jTId8\n",
            "2mzJqfWVrZlx/p6bBWGmr6SMQV0HfOy+cEQkt9KufrkC6IfplSuCmYcWilkt8mHgf07q8Qc2YBKp4ph\n",
            "fEk2AqZmUHYNJzkalOTbKcWzMNWXHA2WBQEyP4QUXX885YARmqGUQUBi4CTPx94a565Tyx/6Xd78m7n\n",
            "L6HDxy2kJO7T5E2TpVqdamodN6GnY10xAXfzw93R5LcVHRLHx70nUNbZGMPLHd9i7fyILREyhXvzpPz\n",
            "Xnfp+Zf5RVPazc/fz8a9+gIwLSBY1J7m1Ks/XYhuxavwxpQiEZdO2SrTl/laW1X+7YW9PxwWKaPzs/1\n",
            "AaB8gxr0/HDYdW1q7u2a9RgAwMpv3iU+5nK6c1sXTePMod2UqlKHig2d7y9Yq31XAFZP/xhbmv3o4qO\n",
            "j+GPK29n/mfPzx+Lvz6l9W5n/3tOpc/UAbMlJ/D7uZU7/vZOipStSs82d2aqzgFgxK5u3cvz7AtALM8\n",
            "pJRLxM1hu4iNdq9kBnWva5k8jpi3ircW8adbuFoLAQjv+1n63z/yCoaChPTB3t8g/WbcMeZs2Un9mzb\n",
            "ANvNe5NzQ5NibsSw+4l66nXpRUXj58h5kJUtmI6umUvC8dcHd1x4dhpAPat3MyXPYenHm83oIfLjX59\n",
            "lSe224+vjMNut+Nv9WdSn5FZlrt1yIPU7NgsR1+vr/DEduv54TAOb9jJgTXbGFm9O1Vb1ie4WBgnd/3\n",
            "Nie0HsFgs9PxwGMUqls6L/wKv5YltJ67Vv+0Bdt/Rh62/TGdcn8bU6dCNwJAw/tn/F7tXzKdwaFHuHz\n",
            "3VZbu16T2MTQum8PfGZYzv05jKTTqQEHOFg+uXUKN1F6JOH0/dqsCVrsPHcWLXRnYsmc2Rraup2KA1/\n",
            "tZCHNu5ngvHD1K4SDgP/nsm/oUy3/fTDVJGYd3r+HciZvqKtjAQ8VJK6nzUE9++Sc2OzVg9eT6rJ80j\n",
            "MS6B8HKlaNuvO3eMeJyS1cq7rCO0ZDgvrprEjy+PZdfiSFZNnEfxSmVo/2QP7nq1P7uXbiDmQhRJCYk\n",
            "ue3CiTp1l05ylGY6fP3KK80euzl2o2bE5zgc6+TZPa7dLJ8zclKNb9jrd/LjBPe2pyY2Z1IHntVtoyX\n",
            "BGRH7D0s9msGnOUg6u3U5iXDyhJcNpcu+tdBram5q3NM2rL9+reVrbSfbcP/pbqjbryMb5k9n40ySSE\n",
            "uIoUqocTbv1o8NjIyhWvprLOoLDS/LkhFX8Pu5lDqxbzMafJlK0TCWa93iSW/q9ysH1S4m9fIHkxASX\n",
            "yVhIsQie+mY9q779gN0r5rN39ULATljpirR84BnaPzKcomUq5dFXf93KYoZcpuwJYcOsq5Dxj7SIeI3\n",
            "rHT83EjOhdjTph1PekNo8+93R7iMqVwgvG+juUG54CbE2pj2/Ny7yv32DXJVt+9yMXV2GVKhduprLop\n",
            "LP7HaYOGi3fcOEvn6uyrZ/bkZkxwHlWlSoG1IQoYkLkwfvScBqLxX5n75Ou6TaP/f9r237lL69arMiB\n",
            "RWaODH1uX3RSVeSa0dO7HvMWbnWz/wws36rJr0q1apeUKGJE79+Ny8qMTa6deSXfXfm4DI/zFoH7wEp\n",
            "+0EkA09gFrwTES+mnjoRERER31UDs+bBYKBWmuMXgD544VZPIpLR9SZ1Y8i4uImIiIiIuFd34HvMonH\n",
            "XWo5ZqTzzJXJFxOu4HOIkIiIiIl4nkIwJ3Q5M71wnlNCJ+BQNvxQRERHxPUnACeA4sBKzNdUyzP7EIu\n",
            "JjlNSJiIiI+J65joeI3AA0/FJERERERMSLKakTERERERHxYkrqREREREREvJiSOhERERERES+mpE5ER\n",
            "ERERMSLKakTERERERHxYtrSIA/ZbZz64Y2/K7g7DjH8C1nOZqecLcl+Yv67h2vndzySPX5WLmWnXHKS\n",
            "/cSiT4/mdziSTRY/kkIuJya4KpecZD+x+MvjBRGSZIPFz2K12gNiXJWz2ZJPbF6xls0r1hZEWOKCxUI\n",
            "Qif6X3R2HiIiIiIiIiIiIiIiIiIiIiIiIiIiIiIiIiIiIiIiIiIiIiIiIiIiIiIiIiIiIiIiIiHg0i7\n",
            "sDEBEREZHr4g90BP4FNAcqAJHAY26MSURERERERFwIAYYDJwH7NY/5boxLREREREREXGgHHCRjMpfym\n",
            "O2+0ERERERERMSZO4E40idxq4EhQCMgwH2hiYiIiIiIiDOlgPNcTeZ2AB3cGpGIiIiIiIhk25tcTej+\n",
            "AILdG46IiIiIiIjkxEKuJnUN3RyLiHgIP3cHICIiIiLZFpbm9S/SyMoAAA/XSURBVBm3RSEiHkVJnYi\n",
            "IiIiIiBdTUiciIiIiIuLFrO4OQERERETyVofB0zbHJNLY3XGISP6zQLKSOhEREREf42eh5KxesVQtZn\n",
            "N3KCKSz+6ZFhyt4ZciIiIiIiJeTEmdiIiIiIiIF1NSJyIiIiIi4sWU1ImIiIiIiHgxJXUiIiIiIiJeT\n",
            "EmdiIiIiIiIF1NSJyIiIiIi4sWU1ImIiIiIiHgxJXUiIiIiIiJeTEmdiIiIiIiIF1NSJyIiIiIi4sWU\n",
            "1ImIiIiIiHgxJXUiIiIiIiJeTEmdiIiIiMgNyNriaSzNB7k7DMkDVncHICIiIiLiaUZ99TOjv1qQo2t\n",
            "WTnyRdo1r5FNExszfNmDHzkO335yv75NTnhrXjUJJnYiIiIj3SDvKyua2KG4ANSuV5u52DdIduxwTx4\n",
            "pN+wgMsNK5RZ0M1xQPC8n3uEb+9yfqVSvrccmTp8Z1o1BSJyIiN7pRwBvAa8CYAn7vkcBbwGhHHN7GE\n",
            "+MfhfvaM79VBFKyjIvAaTfG4vMevqMFD9/RIt2x7QdO0ODB0YSHBrPg0yEFHtPp85fZf/Q09aqVLfD3\n",
            "dsZT47qRKKkTERFfURvYlc2yexzlwXw4Pux4Fu/yIGABvk9zzFfbsy4wFwh1/HsBYHdfOOLMjF/X8+W\n",
            "cFWzZe5S4hETKlCjKnW3q8Wr/u6gQUSxD+QUrtzF21nI27jrMxcsxFAsLoWalCB67pzUDerTDYrHw0C\n",
            "sTmPnbBgB++mMrluaDKB8RzrGF7zmN5eTZS7w89kcWrdnOpSuxVCpTnEfvbs2Ix+/I8pqYuAQ+/PY35\n",
            "izdzP6jp0lMSqZ08TA63VyLNwZ2pVr5kqllXcWVk7ok95TUiYiIr0kCfnVR5mia1586HuJ9xgA7SJ/U\n",
            "+Vp71gCGAIOAwo5jp4ERbotInBry/gzGzVpOsbBgHr27FcXCQli/4xBfzFnBrN83smLiC9SrVi61/Dc\n",
            "L/uTxUV8TXiSY+25tQvmIcC5ejuHnldsY+PY0tu07zn+GP0S/bm0pUTSU8T8sp+FNFXjy3naEBgU6je\n",
            "VyTBztB3zAgWNnaF63Mp1b1CEmLoHpiyLZc/gU/v5+JNvSj+JNSrbR4/nx/B65i9pVyjDovg74+/uxa\n",
            "st+pv5vLQtXb2fzdyNTk1NnceW0Lsk9JXUiIuJrooF73B2E5LsITMKzw92B5KFQTO9jOaAS0AJoeE2Z\n",
            "48AdjmfxMP9b9RfjZi2nZqXSrJ48nJLhoannxs1azpD3ZzDgrW/5c8pLqcc/m7EEgMXjh9GsTuXU4+8\n",
            "MuZcWj73D9F8iGf1UV25vVRebzc74H5ZTtVwJhvS61WU8Y2cu48CxM3RuUYdfxw7Fz88CQHxCEp2e+p\n",
            "iExKQM1/z6547UJGzzdyMpHFAo9dz9w79g7tLNfP79Ut5/9n4Ap3HltC7JPW1pICIiN7pRmGFsI9Mce\n",
            "8VxrB9QFdMTdApIAPY7yvpnUlcw8DqwFZNcJmB6Bb8BquVRvL2B5ZjhhXHAIeC/QIVryi1zfA0PZ1FP\n",
            "OSAZiAKC8jD+dx3v+0Im5wo7zl3J5FxO3vt74B/H6+6OOo85/j2KjO0J5jPPIGA15v8uwXHNd0DjTOL\n",
            "J7ffA9fgPMBF4ExhA+oQuGfjacWx7Hr+v5JH/zv4DgLee7pYuoQMY/MAt3FQpgrV/HWTP4X9Sj1+8HA\n",
            "tAaHDhdOVDggLZPH0k55d+kusFWH5ctgWAob07pSZ0AIEBVl7tf1em1zSoUZ6fPh7M5NcfS5eEATzQu\n",
            "RkAf+3P3j2FvKxLnFNSJyIiklGi47k6sAaTMH0PzMb0oLwFvHzNNVZgHmbRkADgS+AzTOLwKBBJxsQr\n",
            "p8ZikpCGwFTgPWAn8BQmGaqXpuw0x3OvLOp6EPM54AcgtoDiz0pO33syMN7xehvw/8iYxKVlAWYBX2C\n",
            "S2enA28AqoCewFtP7lVZuvgeul7PPZXbMapda8dKDrdl2AIC2jTJua2CxWGjdwNyfiNz+d+rxbrc0Au\n",
            "Bfgz/hPzOXcfjkudRzAYWub1Dd9gMmYWpSq1KGcy3rV830mkplitOtQyNaNzSxRsfG88/5KE6di6KQ1\n",
            "dzHiI1LzPTa/KxLnNPwSxERkYxSPmW8gOmx+SjNuZ8xidXjpF9dsQvwL2A30ATTi5ZiDnAf8CwwPJcx\n",
            "3Q08A+wF2gJn05x7BpPwTQRaO47NdhzrAhQBLl9T30OO528KKH5ncvrev2ESoMHA35iv05m+wP3AX0A\n",
            "b0vcU3ud4j4lAFcycTMjd98D1GgL8CZTm6vDL+o5zVkyv4e2YBNSXhp36hKRkGxeiYgCocNdLTsseP3\n",
            "0h9fVHz/UE4Is5f/DsB9/z7AffU7VcSbq0rku/7m25uW6VXMUTE5dAbLz5Ni4RnrGnr3hYMBaLBbs94\n",
            "3o7i9Zs54OpvxG5/W9i4hJy9f75UZdkTUmdiIhI1g4AH19zbDbwLaYHxx8zLA5MwtAdOEP6pARMb9h9\n",
            "XF2OPjeedjy/RvqEDkyv1VCgFVALs7rnJcwKiT2BbpjeqRTVMAnDIWBlAcXvTH6/9xOO53fIOPRzLqa\n",
            "3ryHQAVh6zfmcfA9cr8uY3sS0bsL0RA4EAjE9hkuBpmhenUexXB3dyAuP3E6gk162FvWu9pL5+/nx6f\n",
            "O9GNn/Lhas3MZva3eyeN1uvpizgi/mrGDE43fwzpB78zxem92eaUI3Zf4a+r35DQGFrPTv3pY2DatTL\n",
            "CwYfz8/tu0/xkufz832e+RlXeKckjoREfE1RXG91Ps4TK+IK+syqSsRM+crDDNHLNpx/IjjkSIEs/CF\n",
            "hau9PkHkXhvH8+pMztkxPTw3AS0xSR2YIZg9gQdIn9Sl9NJN5erXl9/xO5Pf752yG3Jm/3dghnc2xCR\n",
            "K1yZ1OfkeyA/7ML2UXwI/Yto4AjN38ZF8fF/JIX8/P0qGh3L24hUG3tuemypF5Oj6kuGhPN61DY93bU\n",
            "OyzcbCVdt5fNTXvPv1LzzQuRlNa2ccQulMcOEAAgpZSUhM4tzFaMpHhKc7f+psVKbXjZ6wAIDpY/rT8\n",
            "7am6c7Fxuespy0v6xLnNKdORER8TcqWBs4eO7NZ16ksjqd8yLdcc/xOTFIQjekROgWcxPTsXA8rkLLm\n",
            "9zHH+1/7eNRxvnya6xYC5zDD9YqkOZ42qSuI+LMjv947iKt7u53JokzK8cw2zMrp90B+2YEZopqSQHZ\n",
            "Fn+M8TivHnLk/Nu3N9Pz5qIz5/+GT5zhy6ny6Y/5+fnTt0JC+d7UEYOOuw7mKp3aVMgBs3nMkw7mVW/\n",
            "ZlOJaUbEud09ejY8b1gxauzv4aPXlZl7imnjoREfE10WRc9KIgPIFZwCMBmIRZXOMCZmheQ8yiJrmVt\n",
            "qfoQyDeSdl1aV4nYoYvPsXVIZh1MUMZV2OGFhZE/K7k53unXVgkqwQsJTny9M28D2OGirbG9EiX4uoq\n",
            "oOIBnry3HQtWbuPfkxfxr5Z1qFy2ROq5wyfP0fqJ9wguHMBfM98gKLAQOw6eoH6v0bSoV4VlXz5PcOG\n",
            "A1PLJNhvb9plFXSuUNvd0CgeaFSTPXsxsAdmMurZvyLZ9x/h4+mLubFsffz/zrR4VHcfbkxZmmFNn9f\n",
            "ejdPEw/jkfxc6DJ2h409X1ib7/bT2/rDFTOa9NTjOLK7d1Se4oqRMREckbbzie+5Cxd+l6hy0mY+bRl\n",
            "QS+wgzJy65pmKQuZQhmb8fxb64pl1fxO+vBKpvFNfn5fxeP2bYhDDNs8VAmZUo5nk9f53sVhLRJqnrq\n",
            "PEy3Do0YeF97vpq7kmZ93+ahLjcTUawIf584x5wlm7gSG89Xr/YlyJEE1atWjv7d2zLpp9XUvO817mx\n",
            "Tn4jiRYiOTWDp+t38tf847ZvcxO2t6gKm583q78eabQfp+9pkggIL8cHQ+wkvEpxpPMMevo0pP69h2Y\n",
            "Y9NO79Fh2a1uRKTBxL1u+mS6t6HD9zMXVxlxT9urflnSmLuGfYWPp3b0fhwEIs37iH9TsO8fv452j1+\n",
            "LtsP3CClz6fS9cODWnXuEaWceWmLskd/TIQERG5flYgZdfgeZmcz3xDqJxZ63i+JYvzxbM4vho4iFlh\n",
            "MgST1MVhlvhPkZfxpyx0UiyTcy0yOVaQ/3ftszjf1vG8LovzItn25St9mT6mPw1qlGf6onW8OeF/LFz\n",
            "9F7c2r8Xi8cMY0KNduvITRj7ChJGPUKNCBD+v2Mb73/zKpJ9WEVDIyjtD7uXXsUNTe9jKlAjjsxcepH\n",
            "TxIvyweCNL1+8mk7VOUpUMD2XVpBd58PbmnDx7iYnzVrFm20Ge7NGeL1/tS9FQc88k7Sbkowbew5tPd\n",
            "aNwYCHe/foXPpuxhOJhIaz9egRNalXk/Wfvo1iRYL6Y8wfbD5xwGldu6pLcKahx4CIiIvmtNrALs+pj\n",
            "uIuyaY3C9BS9xtXl6YcBn2CG/Y3I5JqLmOFvRbi6muIpzFL0jTBD5FI8BHyAWbXwL9JvKD0Ss9/ZaEc\n",
            "cznQDfsIs4X8rZiheisqYhVJiMEMrY6+59i3He72K2Z9tJlfn1aXIq/gfwczV2+GoK2VlyAjMhui1MI\n",
            "lf2p2Zc/PeHR31rQbSfkoeRcb2fACTxO7ErBCadnuHvpiVLHdh9vlL+Yicm++BgrCKq0loOcy8www6P\n",
            "jPt6OQesRWqFtO2diK+7p5pwVEafikiIpI3JmM2o16AmRcWh0k8bsYscLEWs+fYe5h9zlblsP75mKGX\n",
            "A4GNmI2wTwNVMXuwhTrOXZvQgUlaRnI1Obl26GVexv8zZqhoPUecyzHJz13ABMzWDIXz4L13YxbFaYM\n",
            "ZYhoLvJhFTD9ghp72AbZg/i+jMAlwN8yNgEfx/Dl1IiKZ0vBLERGRvDEKeB2TkIzA7Bt3HtMztBmzcf\n",
            "YFzPy2+plX4dIgTGLyl+P5dUyytAzojNlAOzN7gfWYXqVTmM278yv+i5iepIWY/fAGAc2BNzGJ5RXMf\n",
            "mvX+96nHOX+wfTEdcL5CKRHgCcd5ftjksimmISyKbDBybUiIh5Nwy9FREREvIeGX4pIOvdMC45ST52I\n",
            "iIiIiIgXU1InIiIiIiLixZTUiYiIiIiIeDEldSIiIiIiIl5MSZ2IiIiIiIgXU1InIiIiIiLixZTUiYi\n",
            "IiIiIeDEldSIiIiIiIl5MSZ2IiIiIiIgXU1InIiIiIiLixazuDkBERERE8layzX6u16ygCu6OQ0Tynw\n",
            "VC3B2DiIiIiGTfKsDueJR1cywi4iE0/FJERERERMSLKakTERERERHxYkrqRERERLzHlTSvS7gtChHxK\n",
            "ErqRERERLzH+jSvPwOC3BWIiIiIiIiI5Fxp4CJXF0vZCrRwa0QiIiIiIiKSI7cDsVxN7OzAYqA/cBNg\n",
            "cV9oIiIiIiIikh0dgSOkT+xSHvHANLdFJiIiIiIiItkSBrwOnCNjYjffjXGJiIiIiIhIDgQAXYHPgT+\n",
            "BY8BMt0YkIgXq/wPNGu3jlZ3g2QAAAABJRU5ErkJggg==' not found.\n",
            "\n",
            "See the LaTeX manual or LaTeX Companion for explanation.\n",
            "Type  H <return>  for immediate help.\n",
            " ...                                              \n",
            "                                                  \n",
            "l.745 ...t0YkIgXq/wPNGu3jlZ3g2QAAAABJRU5ErkJggg==}\n",
            "                                                  \n",
            "? \n",
            "! Emergency stop.\n",
            " ...                                              \n",
            "                                                  \n",
            "l.745 ...t0YkIgXq/wPNGu3jlZ3g2QAAAABJRU5ErkJggg==}\n",
            "                                                  \n",
            "Output written on notebook.pdf (6 pages).\n",
            "Transcript written on notebook.log.\n",
            "\n",
            "[NbConvertApp] PDF successfully created\n",
            "[NbConvertApp] Writing 54922 bytes to gdrive/MyDrive/hw_ml/hw1/ProgAs1/KNN_assignment.pdf\n"
          ]
        }
      ]
    },
    {
      "cell_type": "markdown",
      "metadata": {
        "id": "pGhD6FLVD-6H"
      },
      "source": [
        "Congratulations! You have just implemented the KNN algorithm and tested it on the MNIST dataset!"
      ]
    }
  ]
}